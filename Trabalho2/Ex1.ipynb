{
 "cells": [
  {
   "cell_type": "markdown",
   "metadata": {},
   "source": [
    "# Trabalho Prático 2  #\n",
    "#### André Freitas PG54707 ####\n",
    "#### Bruna Macieira PG54467 ####"
   ]
  },
  {
   "cell_type": "markdown",
   "metadata": {},
   "source": [
    "## Exercício 1"
   ]
  },
  {
   "cell_type": "markdown",
   "metadata": {},
   "source": [
    "\n",
    "Construir uma classe Python que implemente o  EdDSA a partir do “standard” FIPS186-5\n",
    "* A implementação deve conter funções para assinar digitalmente e verificar a assinatura.\n",
    "* A implementação da classe deve usar  uma das “Twisted Edwards Curves” definidas no standard e escolhida  na iniciação da classe: a curva  “edwards25519” ou “edwards448”."
   ]
  },
  {
   "cell_type": "code",
   "execution_count": 1,
   "metadata": {},
   "outputs": [
    {
     "name": "stdout",
     "output_type": "stream",
     "text": [
      "Defaulting to user installation because normal site-packages is not writeable\n",
      "Requirement already satisfied: sagemath-standard in /usr/lib/python3/dist-packages (9.5)\n",
      "Requirement already satisfied: cysignals>=1.10.2 in /home/fura/.sage/local/lib/python3.10/site-packages (from sagemath-standard) (1.11.4)\n",
      "Note: you may need to restart the kernel to use updated packages.\n"
     ]
    }
   ],
   "source": [
    "%pip install sagemath-standard\n",
    "from hashlib import sha512\n",
    "from sage.misc.prandom import randint\n",
    "from sage.misc.randstate import current_randstate"
   ]
  },
  {
   "cell_type": "markdown",
   "metadata": {},
   "source": [
    "Esta classe é responsável por implementar o esquema de assinatura digital EdDSA usando a curva edwards25519.\n",
    "Contém métodos para gerar chaves, assinar mensagens e verificar assinaturas. Usa métodos auxiliares para realizar operações na curva elíptica, como multiplicação escalar de pontos e adição de pontos. Usa a função de hash SHA-512 para calcular o hash das mensagens."
   ]
  },
  {
   "cell_type": "code",
   "execution_count": 2,
   "metadata": {},
   "outputs": [],
   "source": [
    "class EdDSA:\n",
    "    def __init__(self):\n",
    "        # Parâmetros da curva edwards25519\n",
    "        # Prime modulus of the finite field over which the elliptic curve operates\n",
    "        self.p = 2**255 - 19  \n",
    "        # Coefficient 'a' of the elliptic curve equation\n",
    "        self.a = -1  \n",
    "        # Coefficient 'd' of the elliptic curve equation\n",
    "        self.d = 37095705934669439343138083508754565189542113879843219016388785533085940283555  \n",
    "        # Prime order of the base point on the elliptic curve\n",
    "        self.q = 2**252 + 27742317777372353535851937790883648493  \n",
    "        # Coordinates of the base point on the elliptic curve\n",
    "        self.base_point = (15112221349535400772501151409588531511454012693041857206046113283949847762202, 46316835694926478169428394003475163141307993866256225615783033603165251855960)  \n",
    "        # Secure random number generator state\n",
    "        self.random = current_randstate()\n",
    "        \n",
    "    # Calcula o hash SHA-512 de uma mensagem e retorna um inteiro no intervalo [0, q-1], onde q é a ordem do ponto base\n",
    "    def hash_message(self, message):\n",
    "        return int(sha512(message).hexdigest(), 16) % self.q\n",
    "    \n",
    "    def generate_keypair(self):\n",
    "        # Gerar uma chave privada aleatória\n",
    "        private_key = randint(1, self.q - 1)\n",
    "        \n",
    "        # Calcular a chave pública correspondente, multiplicando a chave privada pelo ponto base na curva\n",
    "        public_key = self.scalar_multiply(private_key, self.base_point)\n",
    "        \n",
    "        return private_key, public_key\n",
    "    \n",
    "    def sign(self, private_key, public_key, message):\n",
    "        # Gerar um valor de hash a partir da mensagem\n",
    "        hash_msg = self.hash_message(message)\n",
    "        \n",
    "        # Gerar um valor aleatório k\n",
    "        k = randint(1, self.q - 1)\n",
    "        \n",
    "        # Calcular R = k * base_point\n",
    "        R = self.scalar_multiply(k, self.base_point)\n",
    "        \n",
    "        # Calcular S = (r + hash_msg * private_key) * (k^-1) % q\n",
    "        k_inv = pow(k, -1, self.q)\n",
    "        S = (k + hash_msg * private_key) * k_inv % self.q\n",
    "        \n",
    "        return R, S\n",
    "    \n",
    "    def verify(self, public_key, message, R, S):\n",
    "        # Verificar se R é um ponto válido na curva\n",
    "        if not self.is_on_curve(R):\n",
    "            return False\n",
    "        \n",
    "        # Verificar se S está dentro do intervalo [1, q-1]\n",
    "        if not (1 <= S < self.q):\n",
    "            return False\n",
    "        \n",
    "        # Gerar um valor de hash a partir da mensagem\n",
    "        hash_msg = self.hash_message(message)\n",
    "        \n",
    "        # Calcular u = hash_msg * S * base_point + S * R\n",
    "        u = self.point_addition(self.scalar_multiply(hash_msg * S, self.base_point), self.scalar_multiply(S, R))\n",
    "        \n",
    "        # Calcular v = -u\n",
    "        v = (u[0], -u[1])\n",
    "        \n",
    "        # Verificar se R = S * base_point + v * public_key\n",
    "        return R == self.point_addition(self.scalar_multiply(S, self.base_point), self.scalar_multiply(v, public_key))\n",
    "    \n",
    "    def scalar_multiply(self, scalar, point):\n",
    "        # Multiplicação escalar de um ponto na curva\n",
    "        if scalar == 0:\n",
    "            return (0, 1)\n",
    "        \n",
    "        if scalar == 1:\n",
    "            return point\n",
    "        \n",
    "        if scalar % 2 == 0:\n",
    "            return self.scalar_multiply(scalar // 2, self.point_addition(point, point))\n",
    "        else:\n",
    "            return self.point_addition(self.scalar_multiply(scalar // 2, self.point_addition(point, point)), point)\n",
    "    \n",
    "    def point_addition(self, point1, point2):\n",
    "        # Adição de dois pontos na curva\n",
    "        x1, y1 = point1\n",
    "        x2, y2 = point2\n",
    "        \n",
    "        # Ponto no infinito\n",
    "        if x1 == 0 and y1 == 1:\n",
    "            return point2\n",
    "        if x2 == 0 and y2 == 1:\n",
    "            return point1\n",
    "        \n",
    "        if x1 == x2 and y1 == -y2:\n",
    "            return (0, 1)\n",
    "        \n",
    "        lam = (y2 - y1) * pow(x2 - x1, -1, self.p)\n",
    "        x3 = (lam**2 - self.a - x1 - x2) % self.p\n",
    "        y3 = (lam * (x1 - x3) - y1) % self.p\n",
    "        \n",
    "        return (x3, y3)\n",
    "    \n",
    "    def is_on_curve(self, point):\n",
    "        # Verificar se um ponto está na curva\n",
    "        x, y = point\n",
    "        return (y**2 - x**2 - self.a*x - self.d) % self.p == 0"
   ]
  }
 ],
 "metadata": {
  "kernelspec": {
   "display_name": "SageMath 9.5",
   "language": "sage",
   "name": "sagemath"
  },
  "language_info": {
   "codemirror_mode": {
    "name": "ipython",
    "version": 3
   },
   "file_extension": ".py",
   "mimetype": "text/x-python",
   "name": "python",
   "nbconvert_exporter": "python",
   "pygments_lexer": "ipython3",
   "version": "3.10.12"
  }
 },
 "nbformat": 4,
 "nbformat_minor": 2
}
