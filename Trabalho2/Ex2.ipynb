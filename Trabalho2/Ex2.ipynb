{
 "cells": [
  {
   "cell_type": "markdown",
   "metadata": {},
   "source": [
    "# Trabalho Prático 2  #\n",
    "#### André Freitas PG54707 ####\n",
    "#### Bruna Macieira PG54467 ####"
   ]
  },
  {
   "cell_type": "markdown",
   "metadata": {},
   "source": [
    "## Exercício 2"
   ]
  },
  {
   "cell_type": "markdown",
   "metadata": {},
   "source": [
    "\n",
    "Uma das aplicações mais importantes do teorema chinês dos restos (CRT) em criptografia é a transformada NTT “Number Theoretic Transform”.  \n",
    "Esta transformada é uma componente importantes de “standards” PQC  como o Kyber e o Dilithium mas também de outros algoritmos submetidos ao concurso NIST PQC.  \n",
    "A transformação NTT tem várias opções e aquela que está apresentada no +Capítulo 4:  Problemas Difíceis  usa o CRT.\n",
    "Neste problema pretende-se uma implementação Sagemath  do NTT-CRT tal como é descrito nesse documento."
   ]
  },
  {
   "cell_type": "code",
   "execution_count": 1,
   "metadata": {},
   "outputs": [
    {
     "name": "stdout",
     "output_type": "stream",
     "text": [
      "Defaulting to user installation because normal site-packages is not writeable\n",
      "Requirement already satisfied: sagemath-standard in /usr/lib/python3/dist-packages (9.5)\n",
      "Requirement already satisfied: cysignals>=1.10.2 in /home/fura/.sage/local/lib/python3.10/site-packages (from sagemath-standard) (1.11.4)\n",
      "Note: you may need to restart the kernel to use updated packages.\n"
     ]
    }
   ],
   "source": [
    "%pip install sagemath-standard\n",
    "from sage.all import next_prime\n",
    "from sage.rings.finite_rings.finite_field_constructor import FiniteField\n",
    "from sage.arith.misc import CRT"
   ]
  },
  {
   "cell_type": "markdown",
   "metadata": {},
   "source": [
    "A definição de parâmetros é feita. Para tal, utilizamos N para determinar o tamanho dos polinómios (deve ser uma potência de 2), e q, que é o próximo primo após 2^(N+1) e deve satisfazer q ≡ 1 (mod 2N)."
   ]
  },
  {
   "cell_type": "code",
   "execution_count": 2,
   "metadata": {},
   "outputs": [],
   "source": [
    "# Escolher um valor N e um primo q que satisfaçam as condições dadas\n",
    "N = 8  #Dá qualquer potência de 2\n",
    "q = next_prime(2**(N+1))  # Escolher um primo que satisfaça q ≡ 1 (mod 2N)"
   ]
  },
  {
   "cell_type": "markdown",
   "metadata": {},
   "source": [
    "A seguir, é definido um corpo finito k com base no q calculado anteriormente, e um anel de polinómios Zw sobre o corpo finito k com uma variável w."
   ]
  },
  {
   "cell_type": "code",
   "execution_count": 3,
   "metadata": {},
   "outputs": [],
   "source": [
    "# Definir o corpo finito\n",
    "K = FiniteField(q)\n",
    "\n",
    "# Definir o anel de polinómios RqN\n",
    "Zw.<w> = PolynomialRing(K, 'w')"
   ]
  },
  {
   "cell_type": "markdown",
   "metadata": {},
   "source": [
    "São calculadas as raízes N-ésimas da unidade usando um elemento primitivo do corpo finito K e é armazenado em raizes."
   ]
  },
  {
   "cell_type": "code",
   "execution_count": 4,
   "metadata": {},
   "outputs": [
    {
     "name": "stdout",
     "output_type": "stream",
     "text": [
      "[315, 43, 206, 478, 315, 43, 206, 478]\n"
     ]
    }
   ],
   "source": [
    "# Calcular as raízes s_i\n",
    "omega = K.primitive_element()^((q - 1) // N)\n",
    "raizes = [omega^(2*i + 1) for i in range(N)]\n",
    "print(raizes)"
   ]
  },
  {
   "cell_type": "markdown",
   "metadata": {},
   "source": [
    "São escolhidos dois polinómios aleatórios f e g de grau N-1 no anel de polinómios."
   ]
  },
  {
   "cell_type": "code",
   "execution_count": 5,
   "metadata": {},
   "outputs": [
    {
     "name": "stdout",
     "output_type": "stream",
     "text": [
      "171*w^7 + 198*w^6 + 135*w^5 + 465*w^4 + 249*w^3 + 273*w^2 + 312*w + 130\n",
      "328*w^7 + 189*w^6 + 116*w^5 + 156*w^4 + 188*w^3 + 403*w^2 + 315*w + 129\n"
     ]
    }
   ],
   "source": [
    "# Escolher duas funções f e g\n",
    "f = Zw.random_element(degree=N-1)\n",
    "g = Zw.random_element(degree=N-1)\n",
    "print(f)\n",
    "print(g)"
   ]
  },
  {
   "cell_type": "markdown",
   "metadata": {},
   "source": [
    "É aplicada o algoritmo da Transformada Rápida de Fourier sobre Corpos Finitos (NTT) para calcular os resíduos de f e g em cada raiz N-ésima da unidade"
   ]
  },
  {
   "cell_type": "code",
   "execution_count": 6,
   "metadata": {},
   "outputs": [],
   "source": [
    "# Aplicar o algoritmo NTT para calcular os resíduos de f e g\n",
    "residuos_f = [lift(f(w)) % q for w in raizes]\n",
    "residuos_g = [lift(g(w)) % q for w in raizes]"
   ]
  },
  {
   "cell_type": "markdown",
   "metadata": {},
   "source": [
    "São definidos os módulos CRT q_i (polinómios (w - raiz) para cada raiz N-ésima da unidade)"
   ]
  },
  {
   "cell_type": "code",
   "execution_count": 7,
   "metadata": {},
   "outputs": [],
   "source": [
    "# Recolher os módulos CRT q_i\n",
    "modulos_crt_f = [Zw(w - raiz) for raiz in raizes]\n",
    "modulos_crt_g = [Zw(w - raiz) for raiz in raizes]"
   ]
  },
  {
   "cell_type": "code",
   "execution_count": 9,
   "metadata": {},
   "outputs": [],
   "source": [
    "# Multiplicar componente a componente os resíduos de f e g para obter os resíduos resultantes\n",
    "residuos_resultantes = [residuos_f[i] * residuos_g[i] for i in range(N)]"
   ]
  },
  {
   "cell_type": "code",
   "execution_count": 10,
   "metadata": {},
   "outputs": [],
   "source": [
    "# Usar o algoritmo CRT para reconstruir a função resultante\n",
    "funcao_resultante = CRT(residuos_resultantes, modulos_crt_f)"
   ]
  },
  {
   "cell_type": "markdown",
   "metadata": {},
   "source": [
    "Este código realiza a multiplicação rápida de polinómios usando o algoritmo do Teorema do Resto Chinês (CRT) sobre corpos finitos, aproveitando a estrutura das raízes N-ésimas da unidade para obter eficiência computacional. Os resultados obtidos estão presentes abaixo."
   ]
  },
  {
   "cell_type": "code",
   "execution_count": 11,
   "metadata": {},
   "outputs": [
    {
     "name": "stdout",
     "output_type": "stream",
     "text": [
      "f = 171*w^7 + 198*w^6 + 135*w^5 + 465*w^4 + 249*w^3 + 273*w^2 + 312*w + 130\n",
      "g = 328*w^7 + 189*w^6 + 116*w^5 + 156*w^4 + 188*w^3 + 403*w^2 + 315*w + 129\n",
      "residuos = [40959, 16170, 141722, 132660, 40959, 16170, 141722, 132660]\n",
      "resultante = 170*w^3 + 41*w^2 + 514*w + 169\n"
     ]
    }
   ],
   "source": [
    "print(f'f = {f}')\n",
    "print(f'g = {g}')   \n",
    "print(f'residuos = {residuos_resultantes}')\n",
    "print(f'resultante = {funcao_resultante}')"
   ]
  }
 ],
 "metadata": {
  "kernelspec": {
   "display_name": "SageMath 9.5",
   "language": "sage",
   "name": "sagemath"
  },
  "language_info": {
   "codemirror_mode": {
    "name": "ipython",
    "version": 3
   },
   "file_extension": ".py",
   "mimetype": "text/x-python",
   "name": "python",
   "nbconvert_exporter": "python",
   "pygments_lexer": "ipython3",
   "version": "3.10.12"
  }
 },
 "nbformat": 4,
 "nbformat_minor": 2
}
