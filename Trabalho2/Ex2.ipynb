{
 "cells": [
  {
   "cell_type": "markdown",
   "metadata": {},
   "source": [
    "# Trabalho Prático 2  #\n",
    "#### André Freitas PG54707 ####\n",
    "#### Bruna Macieira PG54467 ####"
   ]
  },
  {
   "cell_type": "markdown",
   "metadata": {},
   "source": [
    "## Exercício 2"
   ]
  },
  {
   "cell_type": "markdown",
   "metadata": {},
   "source": [
    "\n",
    "Uma das aplicações mais importantes do teorema chinês dos restos (CRT) em criptografia é a transformada NTT “Number Theoretic Transform”.  \n",
    "Esta transformada é uma componente importantes de “standards” PQC  como o Kyber e o Dilithium mas também de outros algoritmos submetidos ao concurso NIST PQC.  \n",
    "A transformação NTT tem várias opções e aquela que está apresentada no +Capítulo 4:  Problemas Difíceis  usa o CRT.\n",
    "Neste problema pretende-se uma implementação Sagemath  do NTT-CRT tal como é descrito nesse documento."
   ]
  },
  {
   "cell_type": "code",
   "execution_count": 1,
   "metadata": {},
   "outputs": [
    {
     "name": "stdout",
     "output_type": "stream",
     "text": [
      "Defaulting to user installation because normal site-packages is not writeable\n",
      "Requirement already satisfied: sagemath-standard in /usr/lib/python3/dist-packages (9.5)\n",
      "Requirement already satisfied: cysignals>=1.10.2 in /home/fura/.sage/local/lib/python3.10/site-packages (from sagemath-standard) (1.11.4)\n",
      "Note: you may need to restart the kernel to use updated packages.\n"
     ]
    }
   ],
   "source": [
    "%pip install sagemath-standard\n",
    "from sage.all import next_prime\n",
    "from sage.rings.finite_rings.finite_field_constructor import FiniteField\n",
    "from sage.arith.misc import CRT"
   ]
  },
  {
   "cell_type": "code",
   "execution_count": 2,
   "metadata": {},
   "outputs": [],
   "source": [
    "# Escolher um valor N e um primo q que satisfaçam as condições dadas\n",
    "N = 8  # Pode escolher qualquer potência de 2, por exemplo\n",
    "q = next_prime(2**(N+1))  # Escolher um primo que satisfaça q ≡ 1 (mod 2N)"
   ]
  },
  {
   "cell_type": "code",
   "execution_count": 3,
   "metadata": {},
   "outputs": [],
   "source": [
    "# Definir o corpo finito\n",
    "K = FiniteField(q)\n",
    "\n",
    "# Definir o anel de polinômios RqN\n",
    "Zw.<w> = PolynomialRing(K, 'w')"
   ]
  },
  {
   "cell_type": "code",
   "execution_count": 4,
   "metadata": {},
   "outputs": [
    {
     "name": "stdout",
     "output_type": "stream",
     "text": [
      "[315, 43, 206, 478, 315, 43, 206, 478]\n"
     ]
    }
   ],
   "source": [
    "# Calcular as raízes s_i\n",
    "omega = K.primitive_element()^((q - 1) // N)\n",
    "raizes = [omega^(2*i + 1) for i in range(N)]\n",
    "print(raizes)"
   ]
  },
  {
   "cell_type": "code",
   "execution_count": 5,
   "metadata": {},
   "outputs": [
    {
     "name": "stdout",
     "output_type": "stream",
     "text": [
      "16*w^7 + 312*w^6 + 401*w^5 + 333*w^4 + 320*w^3 + 473*w^2 + 96*w + 447\n",
      "34*w^7 + 156*w^6 + 130*w^5 + 91*w^4 + 350*w^3 + 503*w^2 + 262*w + 225\n"
     ]
    }
   ],
   "source": [
    "# Escolher duas funções f e g\n",
    "f = Zw.random_element(degree=N-1)\n",
    "g = Zw.random_element(degree=N-1)\n",
    "print(f)\n",
    "print(g)"
   ]
  },
  {
   "cell_type": "code",
   "execution_count": 6,
   "metadata": {},
   "outputs": [],
   "source": [
    "# Aplicar o algoritmo NTT para calcular os resíduos de f e g\n",
    "residuos_f = [lift(f(w)) % q for w in raizes]\n",
    "residuos_g = [lift(g(w)) % q for w in raizes]"
   ]
  },
  {
   "cell_type": "code",
   "execution_count": 7,
   "metadata": {},
   "outputs": [],
   "source": [
    "# Recolher os módulos CRT q_i\n",
    "modulos_crt_f = [Zw(w - raiz) for raiz in raizes]\n",
    "modulos_crt_g = [Zw(w - raiz) for raiz in raizes]"
   ]
  },
  {
   "cell_type": "code",
   "execution_count": 8,
   "metadata": {},
   "outputs": [],
   "source": [
    "# Multiplicar componente a componente os resíduos de f e g\n",
    "residuos_resultantes = [residuos_f[i] * residuos_g[i] for i in range(N)]"
   ]
  },
  {
   "cell_type": "code",
   "execution_count": 9,
   "metadata": {},
   "outputs": [],
   "source": [
    "# Usar o algoritmo CRT para reconstruir a função resultante\n",
    "funcao_resultante = CRT(residuos_resultantes, modulos_crt_f)"
   ]
  },
  {
   "cell_type": "code",
   "execution_count": 10,
   "metadata": {},
   "outputs": [
    {
     "name": "stdout",
     "output_type": "stream",
     "text": [
      "f = 16*w^7 + 312*w^6 + 401*w^5 + 333*w^4 + 320*w^3 + 473*w^2 + 96*w + 447\n",
      "g = 34*w^7 + 156*w^6 + 130*w^5 + 91*w^4 + 350*w^3 + 503*w^2 + 262*w + 225\n",
      "residuos = [94185, 42480, 36880, 208472, 94185, 42480, 36880, 208472]\n",
      "resultante = 513*w^3 + 353*w^2 + 164*w + 31\n"
     ]
    }
   ],
   "source": [
    "print(f'f = {f}')\n",
    "print(f'g = {g}')   \n",
    "print(f'residuos = {residuos_resultantes}')\n",
    "print(f'resultante = {funcao_resultante}')"
   ]
  }
 ],
 "metadata": {
  "kernelspec": {
   "display_name": "SageMath 9.5",
   "language": "sage",
   "name": "sagemath"
  },
  "language_info": {
   "codemirror_mode": {
    "name": "ipython",
    "version": 3
   },
   "file_extension": ".py",
   "mimetype": "text/x-python",
   "name": "python",
   "nbconvert_exporter": "python",
   "pygments_lexer": "ipython3",
   "version": "3.10.12"
  }
 },
 "nbformat": 4,
 "nbformat_minor": 2
}
