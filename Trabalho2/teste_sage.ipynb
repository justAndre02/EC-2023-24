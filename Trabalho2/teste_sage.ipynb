{
 "cells": [
  {
   "cell_type": "code",
   "execution_count": 1,
   "metadata": {
    "vscode": {
     "languageId": "python"
    }
   },
   "outputs": [
    {
     "name": "stdout",
     "output_type": "stream",
     "text": [
      "1/2*sqrt(2)\n"
     ]
    }
   ],
   "source": [
    "from sage.all import sage_eval\n",
    "\n",
    "def evaluate_with_sage(expression):\n",
    "    try:\n",
    "        result = sage_eval(expression)\n",
    "        return result\n",
    "    except Exception as e:\n",
    "        print(f\"Error evaluating expression: {e}\")\n",
    "\n",
    "expression = \"sin(pi/4)\"\n",
    "result = sage_eval(expression)\n",
    "print(result)"
   ]
  }
 ],
 "metadata": {
  "kernelspec": {
   "display_name": "SageMath 10.1",
   "language": "sage",
   "name": "sagemath"
  },
  "language_info": {
   "codemirror_mode": {
    "name": "ipython",
    "version": 3
   },
   "file_extension": ".py",
   "mimetype": "text/x-python",
   "name": "sage",
   "nbconvert_exporter": "python",
   "pygments_lexer": "ipython3",
   "version": "3.11.6"
  }
 },
 "nbformat": 4,
 "nbformat_minor": 2
}
