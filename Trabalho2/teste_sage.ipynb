{
 "cells": [
  {
   "cell_type": "code",
   "execution_count": 1,
   "metadata": {},
   "outputs": [],
   "source": [
    "from sage.all import *"
   ]
  },
  {
   "cell_type": "code",
   "execution_count": 2,
   "metadata": {},
   "outputs": [],
   "source": [
    "# Geração dos primos  q, p\n",
    "bq     = 192                # tamanho em bits do primo \"q\"\n",
    "bp     = 768                # tamanho minimo em bits do primo \"p\"\n",
    "\n",
    "q = random_prime(2^bq-1,lbound=2^(bq-1))\n",
    "\n",
    "t = q*3*2^(bp - bq)\n",
    "while not is_prime(t-1):\n",
    "    t = t << 1\n",
    "\n",
    "p = t - 1"
   ]
  },
  {
   "cell_type": "code",
   "execution_count": 3,
   "metadata": {},
   "outputs": [],
   "source": [
    "# Aneis e Corpos\n",
    "Fp     = GF(p)                  # corpo primo com \"p\" elementos\n",
    "R.<z>  = Fp[]                   # anel dos polinomios em \"z\" de coeficientes em Fp\n",
    "f     = R(z^2 + z + 1)\n",
    "Fp2.<z> = GF(p^2, modulus=f)   \n",
    "# extensão de Fp de dimensão 2 cujo módulo é o polinómio \"f\"\n",
    "# o polinómio \"f\"  é irredutivel, tem grau 2 e verifica  z^3 = 1 mod f\n",
    "# se o ponto (x,y) verificar a equação y^2 = x^3 + 1, \n",
    "#      então o ponto (z*x,y) verifica a mesma equação"
   ]
  },
  {
   "cell_type": "code",
   "execution_count": 4,
   "metadata": {},
   "outputs": [],
   "source": [
    "def trace(x):       # função linear que mapeia Fp2  em  Fp\n",
    "    return x + x^p\n",
    "\n",
    "# Curvas Elipticas supersingulares em Sagemath\n",
    "\n",
    "# a curva supersingular sobre Fp2  definida pela equação  y^2 = x^3 + 1\n",
    "E2 = EllipticCurve(Fp2, [0,1])\n",
    "\n",
    "# ponto arbitrário  de ordem \"q\" em E2        \n",
    "cofac = (p + 1)//q\n",
    "G = cofac * E2.random_point()"
   ]
  },
  {
   "cell_type": "code",
   "execution_count": 5,
   "metadata": {},
   "outputs": [],
   "source": [
    "def phi(P):             # a isogenia que mapeia  (x,y)  ->  (z*x,y)\n",
    "    (x,y) = P.xy()\n",
    "    return E2(z*x,y)"
   ]
  },
  {
   "cell_type": "code",
   "execution_count": 6,
   "metadata": {},
   "outputs": [],
   "source": [
    "def TateX(P,Q,l=1):      # o emparelhamento de Tate generalizado\n",
    "    return P.tate_pairing(phi(Q), q, 2)^l"
   ]
  },
  {
   "cell_type": "code",
   "execution_count": 7,
   "metadata": {},
   "outputs": [],
   "source": [
    "def ddhp(P,Q,R):        # o oraculo DDHP  que decide se (P,Q,R) é um triplo de DH\n",
    "    return tateX(P,Q) == tateX(R,G)"
   ]
  }
 ],
 "metadata": {
  "kernelspec": {
   "display_name": "SageMath 9.5",
   "language": "sage",
   "name": "sagemath"
  },
  "language_info": {
   "codemirror_mode": {
    "name": "ipython",
    "version": 3
   },
   "file_extension": ".py",
   "mimetype": "text/x-python",
   "name": "python",
   "nbconvert_exporter": "python",
   "pygments_lexer": "ipython3",
   "version": "3.10.12"
  }
 },
 "nbformat": 4,
 "nbformat_minor": 2
}
