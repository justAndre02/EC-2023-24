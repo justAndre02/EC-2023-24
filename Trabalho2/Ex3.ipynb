{
 "cells": [
  {
   "cell_type": "markdown",
   "metadata": {},
   "source": [
    "# Trabalho Prático 2  #\n",
    "#### André Freitas PG54707 ####\n",
    "#### Bruna Macieira PG54467 ####"
   ]
  },
  {
   "cell_type": "markdown",
   "metadata": {},
   "source": [
    "## Exercício 3"
   ]
  },
  {
   "cell_type": "markdown",
   "metadata": {},
   "source": [
    "O algoritmo de Boneh e Franklin (BF) discutido no +Capítulo 5b:  Curvas Elípticas e sua Aritmética é uma técnica fundamental na chamada “Criptografia Orientada à Identidade”. Seguindo as orientações definidas nesse texto, pretende-se construir usando Sagemath uma classe Python que implemente este criptosistema."
   ]
  },
  {
   "cell_type": "code",
   "execution_count": 1,
   "metadata": {},
   "outputs": [
    {
     "name": "stdout",
     "output_type": "stream",
     "text": [
      "Defaulting to user installation because normal site-packages is not writeable\n",
      "Requirement already satisfied: pycrypto in /home/fura/.sage/local/lib/python3.10/site-packages (2.6.1)\n",
      "Note: you may need to restart the kernel to use updated packages.\n",
      "Defaulting to user installation because normal site-packages is not writeable\n",
      "Requirement already satisfied: sagemath-standard in /usr/lib/python3/dist-packages (9.5)\n",
      "Requirement already satisfied: cysignals>=1.10.2 in /home/fura/.sage/local/lib/python3.10/site-packages (from sagemath-standard) (1.11.4)\n",
      "Note: you may need to restart the kernel to use updated packages.\n"
     ]
    }
   ],
   "source": [
    "%pip install pycrypto\n",
    "%pip install sagemath-standard\n",
    "import math\n",
    "from sage.all import *\n",
    "from Crypto.Hash import SHA512"
   ]
  },
  {
   "cell_type": "markdown",
   "metadata": {},
   "source": [
    "Esta classe contém métodos para implementar o esquema de criptografia IBE proposto por Boneh e Franklin, que permite a criptografia e descriptografia de mensagens utilizando identificadores de utilizadores, sem a necessidade de uma infraestrutura de chaves públicas tradicional.\n",
    "\n",
    "1. Geração de chaves: o administrador do sistema gera um par de chaves pública e privada mestre.\n",
    "A chave pública mestre é usada para criptografar mensagens, enquanto a chave privada mestre é usada para derivar chaves privadas para utilizadores específicos.\n",
    "\n",
    "2. Extração de Chave Privada: para um utilizador específico, a sua chave privada é extraída do par de chaves mestre utilizando o seu identificador único (por exemplo, endereço de e-mail, nome, entre outros). Esta extração de chave privada é feita de forma segura e eficiente, garantindo que apenas o utilizador autorizado possa aceder à sua chave privada.\n",
    "\n",
    "3. Criptografia: para enviar uma mensagem para um utilizador específico, o remetente utiliza o identificador do destinatário para derivar uma chave pública correspondente. A mensagem é criptografada utilizando a chave pública do destinatário.\n",
    "\n",
    "4. Descriptografia: o destinatário recebe a mensagem criptografada e utiliza a sua chave privada correspondente para descriptografá-la e recuperar o conteúdo original. A descriptografia é realizada de forma segura, garantindo que apenas o destinatário autorizado pode aceder à mensagem original.\n",
    "\n",
    "5. Segurança: o esquema de Boneh e Franklin é projetado para ser seguro contra ataques criptográficos, como a obtenção não autorizada de chaves privadas ou a violação do sistema de criptografia. Aproveita propriedades matemáticas avançadas, como as curvas elípticas e os emparelhamentos de Weil, para garantir a segurança dos dados."
   ]
  },
  {
   "cell_type": "code",
   "execution_count": 2,
   "metadata": {},
   "outputs": [],
   "source": [
    "class BonehFranklinIBE:\n",
    "\n",
    "    # recebe uma entrada e calcula o hash SHA-512 dessa entrada, retornando o resultado como um número inteiro\n",
    "    def Hash(hash_input):\n",
    "        hash = SHA512.new()\n",
    "        str_val = str(hash_input)\n",
    "        byte_val = str_val.encode()\n",
    "        hash.update(byte_val)\n",
    "        hexadecimal = hash.hexdigest()\n",
    "        return int(hexadecimal, 16)\n",
    "    \n",
    "    #Fast modular exponentiation algorithm (needed for F_{p^2})\n",
    "    def fastPowerSmall(g,A):\n",
    "        a = g\n",
    "        b = 1\n",
    "        if g == 0 and A == 0:\n",
    "            return \"Undefined\"\n",
    "        else:\n",
    "            while A > 0:\n",
    "                if A%2 == 1:\n",
    "                    b = b*a\n",
    "                a = a^2\n",
    "                A = A//2\n",
    "                print\n",
    "            return b\n",
    "        \n",
    "    #converte string em inteiro\n",
    "    def textToInt(w):\n",
    "        n  = 0\n",
    "        counter = 0\n",
    "        #counter will give us the index of each character in the string\n",
    "        for i in w:\n",
    "            n = n + ord(i)*(256**counter)\n",
    "            counter = counter + 1\n",
    "        return n\n",
    "\n",
    "    #converte inteiro em string\n",
    "    def intToText(n):\n",
    "        str = \"\"\n",
    "        while n > 0:\n",
    "            a0 = n%256\n",
    "            str = str + chr(a0) #chr undoes ord. ord() inputs character and outputs integer. str inputs integer between 0 and 255 and outputs character.\n",
    "            n = n//256 #This is the quotient after dividing n by 256\n",
    "        return str\n",
    "    \n",
    "    #realiza o xor (exclusivo) entre dois inteiros\n",
    "    def Xor(a, b):\n",
    "        int_a = int(a)\n",
    "        int_b = int(b)\n",
    "        return int_a ^^ int_b\n",
    "    \n",
    "    # verifica se um elemento está no campo primo especificado\n",
    "    def is_in_prime_field(element, prime):\n",
    "        return 0 <= element < prime\n",
    "    \n",
    "    #This defines a rational function g(x,y) on E whose divisor is div(g) = [P] + [Q] - [P+Q] - [O]\n",
    "\n",
    "    #A, B coefficients of E. Use A,B = E.a_invariants()[3], E.a_invariants()[4]\n",
    "    #P = E([xP, yP])\n",
    "\n",
    "    def g(P,Q,x,y,E):\n",
    "        positive_infinity = math.inf\n",
    "        A,B = E.a_invariants()[3], E.a_invariants()[4]\n",
    "        if P == E(0) or Q == E(0):\n",
    "            return \"no divisor\"\n",
    "        xP,yP = P[0],P[1]\n",
    "        xQ,yQ = Q[0],Q[1]\n",
    "        #Calculate slope of line connecting P and Q\n",
    "        #JUST check if equal\n",
    "        if yP == -yQ and xP == xQ:\n",
    "            slope = +positive_infinity #symbol for Infinity\n",
    "        elif P == Q:\n",
    "            slope = (3*(xP**2) + A)/(2*yP)\n",
    "        else:\n",
    "            slope = (yQ - yP)/(xQ - xP)\n",
    "        #return the function on E\n",
    "        if slope == +positive_infinity:\n",
    "            return x - xP\n",
    "        else:\n",
    "            return (y - yP - slope*(x - xP))/(x + xP + xQ - slope**2)\n",
    "        \n",
    "    #  implementa o algoritmo de Miller para calcular um emparelhamento de Weil\n",
    "    def MillerAlgorithm(P,m,x,y,E):\n",
    "        A,B = E.a_invariants()[3], E.a_invariants()[4]\n",
    "        xP,yP = P[0],P[1]\n",
    "        binary = m.digits(2) #gives number in binary\n",
    "        n = len(binary) #trying to find what \"n\" is.\n",
    "        T = P\n",
    "        f = 1\n",
    "        for i in range(n-2,-1,-1): #Stop once i = -1, so last number is 0...range(start, stop, step)\n",
    "            f = (f**2)*BonehFranklinIBE.g(T,T,x,y,E)\n",
    "            T *= 2 #T = 2T\n",
    "            if binary[i] == 1:\n",
    "                f = f*BonehFranklinIBE.g(T,P,x,y,E)\n",
    "                T += P\n",
    "        return f \n",
    "\n",
    "    # calcula o emparelhamento de Weil entre dois pontos em uma curva elíptica\n",
    "    def WeilPairing(P,Q,m,E):\n",
    "        A,B = E.a_invariants()[3], E.a_invariants()[4]\n",
    "        S = E.random_element()\n",
    "        while m*S == E(0):\n",
    "            S = E.random_element() #Pick point S that is not m-torsion. This guarantees that S isn't a linear combination of P and Q.\n",
    "        xS,yS = S[0],S[1]\n",
    "        QplusS = Q + S\n",
    "        f_P_QplusS = BonehFranklinIBE.MillerAlgorithm(P,m,QplusS[0],QplusS[1],E)\n",
    "        f_P_S = BonehFranklinIBE.MillerAlgorithm(P,m,xS,yS,E)\n",
    "        num = f_P_QplusS/f_P_S\n",
    "\n",
    "        PminusS = P - S\n",
    "        f_Q_PminusS = BonehFranklinIBE.MillerAlgorithm(Q,m,PminusS[0],PminusS[1],E) #This is f_Q(P-S)\n",
    "        f_Q_minusS = BonehFranklinIBE.MillerAlgorithm(Q,m,xS,-yS,E) #This is f_Q(-S)\n",
    "        denom = f_Q_PminusS/f_Q_minusS\n",
    "\n",
    "        e_m = num/denom\n",
    "        return e_m\n",
    "    \n",
    "    # calcula um emparelhamento de Weil modificado, usado no esquema de criptografia\n",
    "    def ModifiedWeilPairing(P,Q,m,E):\n",
    "        Fp = GF(p)\n",
    "        R.<x> = Fp[]\n",
    "        Fp2.<z> = Fp.extension(x^2+x+1)      #Form F_{p^2} by adjoining z = {a nontrivial cube root of 1}\n",
    "        E_zeta = EllipticCurve(Fp2, [0,1])   #Define E: y^2 = x^3 + 1 over this field\n",
    "        phiQ = E_zeta([z*Q[0],Q[1]])\n",
    "        A,B = E_zeta.a_invariants()[3], E_zeta.a_invariants()[4]\n",
    "        P_zeta = E_zeta([P[0],P[1]])\n",
    "        S = E_zeta.random_element()\n",
    "        while m*S == E(0):\n",
    "            S = E_zeta.random_element()\n",
    "        xS,yS = S[0],S[1]\n",
    "        QplusS = phiQ + S\n",
    "        f_P_QplusS = BonehFranklinIBE.MillerAlgorithm(P,m,QplusS[0],QplusS[1],E_zeta)\n",
    "        f_P_S = BonehFranklinIBE.MillerAlgorithm(P,m,xS,yS,E_zeta)\n",
    "        num = f_P_QplusS/f_P_S\n",
    "\n",
    "        PminusS = P_zeta - S #modify\n",
    "        f_Q_PminusS = BonehFranklinIBE.MillerAlgorithm(phiQ,m,PminusS[0],PminusS[1],E_zeta) #This is f_Q(P-S)\n",
    "        f_Q_minusS = BonehFranklinIBE.MillerAlgorithm(phiQ,m,xS,-yS,E_zeta) #This is f_Q(-S)\n",
    "        denom = f_Q_PminusS/f_Q_minusS\n",
    "\n",
    "        e_m = num/denom\n",
    "        return e_m\n",
    "    \n",
    "    # gera as chaves pública e privada\n",
    "    def KeyGen(k):\n",
    "        q = random_prime((2^k) - 1, True, lbound=2^(k-1)) #Generates a random k-bit prime. False means using pseudo-primality tests.\n",
    "        p = q\n",
    "        l = 1 #need l for `KeyExtract`\n",
    "        lq = q\n",
    "        while True:\n",
    "            l += 1\n",
    "            lq += q\n",
    "            p = lq - 1\n",
    "            if p%3 == 2 and (p+1)%(q^2) != 0 and is_prime(p) == True:\n",
    "                break\n",
    "        E = EllipticCurve(GF(p), [0,1]) #p is public b/c the elliptic curve is known\n",
    "        P = E(0)\n",
    "        while P == E(0):\n",
    "            Q = E.random_element()\n",
    "            while Q == E(0): #make sure P is not O\n",
    "                Q = E.random_element()\n",
    "            h = (p+1)//q #This is to make sure P has order q.\n",
    "            P = h*Q #Order of P is q1\n",
    "        s = ZZ.random_element(2,q-1) #s is private master key in Z_q*.\n",
    "        P_pub = s*P\n",
    "        params = [p, q, l, E, P, P_pub]\n",
    "        return params, s \n",
    "    \n",
    "    # extrai a chave privada correspondente a uma identidade\n",
    "    def KeyExtract(y0, params):\n",
    "        p, q, l, E, P, P_pub = params\n",
    "        x0 = pow((y0^2) - 1, ((2*p)-1)//3, p) #`pow` is Python's built-in function that does fast power\n",
    "        Q = E([x0,y0])\n",
    "        Q_ID = l*Q #l comes from BDHGenerator. It's the integer s.t. p = lq-1\n",
    "        d_ID = s*Q_ID\n",
    "        return Q_ID,d_ID\n",
    "    \n",
    "    def Encrypt(M,Q_ID,params):\n",
    "        params = [p, q, l, E, P, P_pub]\n",
    "        r = ZZ.random_element(2,q-1)\n",
    "        U = r*P\n",
    "        g_ID = BonehFranklinIBE.ModifiedWeilPairing(Q_ID,P_pub,q,E)\n",
    "        g_ID_to_r = BonehFranklinIBE.fastPowerSmall(g_ID, r)\n",
    "        V = M^^BonehFranklinIBE.Hash(g_ID_to_r)\n",
    "        C = [U,V] #This is the ciphertext\n",
    "        return C\n",
    "    \n",
    "    def Decrypt(C,d_ID,params):\n",
    "        params = [p, q, l, E, P, P_pub]\n",
    "        U,V = C\n",
    "        weil = BonehFranklinIBE.ModifiedWeilPairing(d_ID,U,q,E)\n",
    "        M = V^^BonehFranklinIBE.Hash(weil)\n",
    "        return M"
   ]
  },
  {
   "cell_type": "code",
   "execution_count": 3,
   "metadata": {},
   "outputs": [
    {
     "name": "stdout",
     "output_type": "stream",
     "text": [
      "p =  19090087154999579592438231496982390105867558571742002834489799112685112423079780362469633050493121704239228446874021245145171219854510654800954023122484108457\n",
      "q =  12881300374493643449688415315102827331894438982282053194662482532176189219352078517185987213558111811227549559294211366494717422303988296087013510878869169\n",
      "E =  Elliptic Curve defined by y^2 = x^3 + 1 over Finite Field of size 19090087154999579592438231496982390105867558571742002834489799112685112423079780362469633050493121704239228446874021245145171219854510654800954023122484108457\n",
      "P =  (1791955056930280567772900635504689692031461939623241466610477538040550718626841916531316168212555552251707787003926380623254358862412108125764631601017968063 : 11465720162315703903463890824206734018329537788932404600766822881937140534134877937577588606143137810155960326668650571955802444992438148492698649869237544767 : 1)\n",
      "s =  3698794853503709716652375277924492123932543594956590973587888888626936397460381753977045155411340345089767717756008343972642699187966732844467592906553663\n",
      "l =  1482\n",
      "P_pub =  (18131495570165589284635023442741328882034515576313919466835936292085733933999540190370563325982928292981300289128382985182904702589846028969905673949826281269 : 11620529279472509592750469925023631923560235508807061571449851079770369200919750490419763704920797314704551737816702894224820771397416648569248895640304115506 : 1)\n"
     ]
    }
   ],
   "source": [
    "#Step 1: Only need to run once\n",
    "params,s = BonehFranklinIBE.KeyGen(512)\n",
    "p, q, l, E, P, P_pub = params\n",
    "print(\"p = \", p)\n",
    "print(\"q = \", q)\n",
    "print(\"E = \", E)\n",
    "print(\"P = \", P)\n",
    "print(\"s = \", s)\n",
    "print(\"l = \", l)\n",
    "print(\"P_pub = \", P_pub)"
   ]
  },
  {
   "cell_type": "code",
   "execution_count": 4,
   "metadata": {},
   "outputs": [
    {
     "name": "stdout",
     "output_type": "stream",
     "text": [
      "y0 =  9284027244711476868736574711199185332133782967237044148153727596027875067278862165519633211530008452951448644427085930313537133830441524639977514866580706\n"
     ]
    }
   ],
   "source": [
    "#Step 2: Hash. Only need to run once for one ID.\n",
    "your_ID = \"user\"\n",
    "\n",
    "y0 = BonehFranklinIBE.Hash(your_ID)\n",
    "print(\"y0 = \", y0)"
   ]
  },
  {
   "cell_type": "code",
   "execution_count": 5,
   "metadata": {},
   "outputs": [
    {
     "name": "stdout",
     "output_type": "stream",
     "text": [
      "Q_ID =  (10310120085123095858335114273174199842897238535141952794030976181720392787778222581171411179413073394774873142299651012151382608471863691027655210588827925033 : 5225469509690269543450531367251800519203212215388842897122104385340499082832228927765538033176396342654511153860728248629265097269244776339368928531558478162 : 1)\n",
      "d_ID =  (8224077413517576215810698620152564976849439949825828017894717431294069797548948527761449386662568023509091574602096721594364516426228037914806721794153853603 : 6723878057654772642322070898238482671149773996171053409616341032589266084583545499158441025421872448660133748004750667916145217016690978203785816412411056692 : 1)\n"
     ]
    }
   ],
   "source": [
    "#Step 3: Only need to run once.\n",
    "Q_ID,d_ID = BonehFranklinIBE.KeyExtract(y0,params)\n",
    "print(\"Q_ID = \", Q_ID)\n",
    "print(\"d_ID = \", d_ID)"
   ]
  },
  {
   "cell_type": "code",
   "execution_count": 6,
   "metadata": {},
   "outputs": [
    {
     "name": "stdout",
     "output_type": "stream",
     "text": [
      "M =  435745416532\n",
      "U =  (19079965039666007035187582082681337012220401378160556659210561865024213962830529489368878217300722565266965869774661129479485412026102404998943951026207883354 : 1441011472749349328698946786565013481779379324908076125876418325530360467649424643617646645202207854118912164636902219465528059800527571853208745954223706438 : 1)\n",
      "V =  12179902236572776907313751317000779782484178491054557801399119186429449772928440817284177619561842281182842642114092456406784128284253571873057088658385730\n"
     ]
    }
   ],
   "source": [
    "#Step 4: Encrypt\n",
    "input_message = \"Teste\"\n",
    "\n",
    "M = BonehFranklinIBE.textToInt(input_message)\n",
    "C = BonehFranklinIBE.Encrypt(M,Q_ID,params)\n",
    "U,V = C\n",
    "print(\"M = \", M)\n",
    "print(\"U = \", U)\n",
    "print(\"V = \", V)"
   ]
  },
  {
   "cell_type": "code",
   "execution_count": 7,
   "metadata": {},
   "outputs": [
    {
     "name": "stdout",
     "output_type": "stream",
     "text": [
      "M0 =  435745416532\n",
      "messsage =  Teste\n"
     ]
    }
   ],
   "source": [
    "#Step 5: Decrypt\n",
    "M0 = BonehFranklinIBE.Decrypt(C,d_ID,params)\n",
    "output_message = BonehFranklinIBE.intToText(M0)\n",
    "print(\"M0 = \", M0)\n",
    "print(\"messsage = \", output_message)"
   ]
  }
 ],
 "metadata": {
  "kernelspec": {
   "display_name": "SageMath 9.5",
   "language": "sage",
   "name": "sagemath"
  },
  "language_info": {
   "codemirror_mode": {
    "name": "ipython",
    "version": 3
   },
   "file_extension": ".py",
   "mimetype": "text/x-python",
   "name": "python",
   "nbconvert_exporter": "python",
   "pygments_lexer": "ipython3",
   "version": "3.10.12"
  }
 },
 "nbformat": 4,
 "nbformat_minor": 2
}
