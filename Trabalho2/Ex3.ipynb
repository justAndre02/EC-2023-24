{
 "cells": [
  {
   "cell_type": "markdown",
   "metadata": {},
   "source": [
    "# Trabalho Prático 2  #\n",
    "#### André Freitas PG54707 ####\n",
    "#### Bruna Macieira PG54467 ####"
   ]
  },
  {
   "cell_type": "markdown",
   "metadata": {},
   "source": [
    "## Exercício 3"
   ]
  },
  {
   "cell_type": "markdown",
   "metadata": {},
   "source": [
    "O algoritmo de Boneh e Franklin (BF) discutido no +Capítulo 5b:  Curvas Elípticas e sua Aritmética é uma tecnica fundamental na chamada “Criptografia Orientada à Identidade”. Seguindo as orientações definidas nesse texto, pretende-se construir usando Sagemath uma classe Python que implemente este criptosistema."
   ]
  },
  {
   "cell_type": "code",
   "execution_count": 34,
   "metadata": {},
   "outputs": [
    {
     "name": "stdout",
     "output_type": "stream",
     "text": [
      "Defaulting to user installation because normal site-packages is not writeable\n",
      "Requirement already satisfied: pycrypto in /home/fura/.sage/local/lib/python3.10/site-packages (2.6.1)\n",
      "Note: you may need to restart the kernel to use updated packages.\n",
      "Defaulting to user installation because normal site-packages is not writeable\n",
      "Requirement already satisfied: sagemath-standard in /usr/lib/python3/dist-packages (9.5)\n",
      "Requirement already satisfied: cysignals>=1.10.2 in /home/fura/.sage/local/lib/python3.10/site-packages (from sagemath-standard) (1.11.4)\n",
      "Note: you may need to restart the kernel to use updated packages.\n"
     ]
    }
   ],
   "source": [
    "%pip install pycrypto\n",
    "%pip install sagemath-standard\n",
    "import math\n",
    "from sage.all import *\n",
    "from Crypto.Hash import SHA512\n",
    "from sage.all import EllipticCurve, ZZ, GF, EllipticCurve"
   ]
  },
  {
   "cell_type": "code",
   "execution_count": 35,
   "metadata": {},
   "outputs": [],
   "source": [
    "class BonehFranklinIBE:\n",
    "    def Hash(hash_input):\n",
    "        hash = SHA512.new()\n",
    "        str_val = str(hash_input)\n",
    "        byte_val = str_val.encode()\n",
    "        hash.update(byte_val)\n",
    "        hexadecimal = hash.hexdigest()\n",
    "        return int(hexadecimal, 16)\n",
    "    \n",
    "    #Fast modular exponentiation algorithm (needed for F_{p^2})\n",
    "    def fastPowerSmall(g,A):\n",
    "        a = g\n",
    "        b = 1\n",
    "        if g == 0 and A == 0:\n",
    "            return \"Undefined\"\n",
    "        else:\n",
    "            while A > 0:\n",
    "                if A%2 == 1:\n",
    "                    b = b*a\n",
    "                a = a^2\n",
    "                A = A//2\n",
    "                print\n",
    "            return b\n",
    "        \n",
    "    def textToInt(w):\n",
    "        n  = 0\n",
    "        counter = 0\n",
    "        #counter will give us the index of each character in the string\n",
    "        for i in w:\n",
    "            n = n + ord(i)*(256**counter)\n",
    "            counter = counter + 1\n",
    "        return n\n",
    "\n",
    "    def intToText(n):\n",
    "        str = \"\"\n",
    "        while n > 0:\n",
    "            a0 = n%256\n",
    "            str = str + chr(a0) #chr undoes ord. ord() inputs character and outputs integer. str inputs integer between 0 and 255 and outputs character.\n",
    "            n = n//256 #This is the quotient after dividing n by 256\n",
    "        return str\n",
    "    \n",
    "    def is_prime(n):\n",
    "        if n <= 1 or (n % 2 == 0 and n > 2): \n",
    "            return False\n",
    "        for i in range(3, int(math.sqrt(n)) + 1, 2):\n",
    "            if n % i == 0:\n",
    "                return False\n",
    "        return True\n",
    "    \n",
    "    def Xor(a, b):\n",
    "        int_a = int(a)\n",
    "        int_b = int(b)\n",
    "        return int_a ^^ int_b\n",
    "    \n",
    "    def is_in_prime_field(element, prime):\n",
    "        return 0 <= element < prime\n",
    "    \n",
    "    #This defines a rational function g(x,y) on E whose divisor is div(g) = [P] + [Q] - [P+Q] - [O]\n",
    "\n",
    "    #A, B coefficients of E. Use A,B = E.a_invariants()[3], E.a_invariants()[4]\n",
    "    #P = E([xP, yP])\n",
    "\n",
    "    def g(P,Q,x,y,E):\n",
    "        positive_infinity = math.inf\n",
    "        A,B = E.a_invariants()[3], E.a_invariants()[4]\n",
    "        if P == E(0) or Q == E(0):\n",
    "            return \"no divisor\"\n",
    "        xP,yP = P[0],P[1]\n",
    "        xQ,yQ = Q[0],Q[1]\n",
    "        #Calculate slope of line connecting P and Q\n",
    "        #JUST check if equal\n",
    "        if yP == -yQ and xP == xQ:\n",
    "            slope = +positive_infinity #symbol for Infinity\n",
    "        elif P == Q:\n",
    "            slope = (3*(xP**2) + A)/(2*yP)\n",
    "        else:\n",
    "            slope = (yQ - yP)/(xQ - xP)\n",
    "        #return the function on E\n",
    "        if slope == +positive_infinity:\n",
    "            return x - xP\n",
    "        else:\n",
    "            return (y - yP - slope*(x - xP))/(x + xP + xQ - slope**2)\n",
    "        \n",
    "    def MillerAlgorithm(P,m,x,y,E):\n",
    "        A,B = E.a_invariants()[3], E.a_invariants()[4]\n",
    "        xP,yP = P[0],P[1]\n",
    "        binary = m.digits(2) #gives number in binary\n",
    "        n = len(binary) #trying to find what \"n\" is.\n",
    "        T = P\n",
    "        f = 1\n",
    "        for i in range(n-2,-1,-1): #Stop once i = -1, so last number is 0...range(start, stop, step)\n",
    "            f = (f**2)*BonehFranklinIBE.g(T,T,x,y,E)\n",
    "            T *= 2 #T = 2T\n",
    "            if binary[i] == 1:\n",
    "                f = f*BonehFranklinIBE.g(T,P,x,y,E)\n",
    "                T += P\n",
    "        return f \n",
    "\n",
    "    def WeilPairing(P,Q,m,E):\n",
    "        A,B = E.a_invariants()[3], E.a_invariants()[4]\n",
    "        S = E.random_element()\n",
    "        while m*S == E(0):\n",
    "            S = E.random_element() #Pick point S that is not m-torsion. This guarantees that S isn't a linear combination of P and Q.\n",
    "        xS,yS = S[0],S[1]\n",
    "        QplusS = Q + S\n",
    "        f_P_QplusS = BonehFranklinIBE.MillerAlgorithm(P,m,QplusS[0],QplusS[1],E)\n",
    "        f_P_S = BonehFranklinIBE.MillerAlgorithm(P,m,xS,yS,E)\n",
    "        num = f_P_QplusS/f_P_S\n",
    "\n",
    "        PminusS = P - S\n",
    "        f_Q_PminusS = BonehFranklinIBE.MillerAlgorithm(Q,m,PminusS[0],PminusS[1],E) #This is f_Q(P-S)\n",
    "        f_Q_minusS = BonehFranklinIBE.MillerAlgorithm(Q,m,xS,-yS,E) #This is f_Q(-S)\n",
    "        denom = f_Q_PminusS/f_Q_minusS\n",
    "\n",
    "        e_m = num/denom\n",
    "        return e_m\n",
    "    \n",
    "    def ModifiedWeilPairing(P,Q,m,E):\n",
    "        Fp = GF(p)\n",
    "        R.<x> = Fp[]\n",
    "        Fp2.<z> = Fp.extension(x^2+x+1)      #Form F_{p^2} by adjoining z = {a nontrivial cube root of 1}\n",
    "        E_zeta = EllipticCurve(Fp2, [0,1])   #Define E: y^2 = x^3 + 1 over this field\n",
    "        phiQ = E_zeta([z*Q[0],Q[1]])\n",
    "        A,B = E_zeta.a_invariants()[3], E_zeta.a_invariants()[4]\n",
    "        P_zeta = E_zeta([P[0],P[1]])\n",
    "        S = E_zeta.random_element()\n",
    "        while m*S == E(0):\n",
    "            S = E_zeta.random_element()\n",
    "        xS,yS = S[0],S[1]\n",
    "        QplusS = phiQ + S\n",
    "        f_P_QplusS = BonehFranklinIBE.MillerAlgorithm(P,m,QplusS[0],QplusS[1],E_zeta)\n",
    "        f_P_S = BonehFranklinIBE.MillerAlgorithm(P,m,xS,yS,E_zeta)\n",
    "        num = f_P_QplusS/f_P_S\n",
    "\n",
    "        PminusS = P_zeta - S #modify\n",
    "        f_Q_PminusS = BonehFranklinIBE.MillerAlgorithm(phiQ,m,PminusS[0],PminusS[1],E_zeta) #This is f_Q(P-S)\n",
    "        f_Q_minusS = BonehFranklinIBE.MillerAlgorithm(phiQ,m,xS,-yS,E_zeta) #This is f_Q(-S)\n",
    "        denom = f_Q_PminusS/f_Q_minusS\n",
    "\n",
    "        e_m = num/denom\n",
    "        return e_m\n",
    "    \n",
    "    def KeyGen(k):\n",
    "        q = random_prime((2^k) - 1, True, lbound=2^(k-1)) #Generates a random k-bit prime. False means using pseudo-primality tests.\n",
    "        p = q\n",
    "        l = 1 #need l for `KeyExtract`\n",
    "        lq = q\n",
    "        while True:\n",
    "            l += 1\n",
    "            lq += q\n",
    "            p = lq - 1\n",
    "            if p%3 == 2 and (p+1)%(q^2) != 0 and is_prime(p) == True:\n",
    "                break\n",
    "        E = EllipticCurve(GF(p), [0,1]) #p is public b/c the elliptic curve is known\n",
    "        P = E(0)\n",
    "        while P == E(0):\n",
    "            Q = E.random_element()\n",
    "            while Q == E(0): #make sure P is not O\n",
    "                Q = E.random_element()\n",
    "            h = (p+1)//q #This is to make sure P has order q.\n",
    "            P = h*Q #Order of P is q1\n",
    "        s = ZZ.random_element(2,q-1) #s is private master key in Z_q*.\n",
    "        P_pub = s*P\n",
    "        params = [p, q, l, E, P, P_pub]\n",
    "        return params, s \n",
    "    \n",
    "    def KeyExtract(y0, params):\n",
    "        p, q, l, E, P, P_pub = params\n",
    "        x0 = pow((y0^2) - 1, ((2*p)-1)//3, p) #`pow` is Python's built-in function that does fast power\n",
    "        Q = E([x0,y0])\n",
    "        Q_ID = l*Q #l comes from BDHGenerator. It's the integer s.t. p = lq-1\n",
    "        d_ID = s*Q_ID\n",
    "        return Q_ID,d_ID\n",
    "    \n",
    "    def Encrypt(M,Q_ID,params):\n",
    "        params = [p, q, l, E, P, P_pub]\n",
    "        r = ZZ.random_element(2,q-1)\n",
    "        U = r*P\n",
    "        g_ID = BonehFranklinIBE.ModifiedWeilPairing(Q_ID,P_pub,q,E)\n",
    "        g_ID_to_r = BonehFranklinIBE.fastPowerSmall(g_ID, r)\n",
    "\n",
    "        if BonehFranklinIBE.is_in_prime_field(g_ID_to_r, p):  # assuming p is your prime\n",
    "            g_ID_to_r_int = int(g_ID_to_r)\n",
    "        else:\n",
    "            print(\"g_ID_to_r is not in the prime field\")\n",
    "            g_ID_to_r_int = 3\n",
    "            \n",
    "        V = BonehFranklinIBE.Xor(M, g_ID_to_r_int)\n",
    "        C = [U,V] #This is the ciphertext\n",
    "        return C\n",
    "    \n",
    "    def Decrypt(C,d_ID,params):\n",
    "        params = [p, q, l, E, P, P_pub]\n",
    "        U,V = C\n",
    "        weil = BonehFranklinIBE.ModifiedWeilPairing(d_ID,U,q,E)\n",
    "        # Ensure weil is in the prime field\n",
    "        if BonehFranklinIBE.is_in_prime_field(weil, p):  # assuming p is your prime\n",
    "            M = BonehFranklinIBE.Xor(V, int(weil))\n",
    "        else:\n",
    "            print(\"weil is not in the prime field\")\n",
    "            # Handle the case when weil is not in the prime field\n",
    "            M = 3  # or some other default value\n",
    "        return M"
   ]
  },
  {
   "cell_type": "code",
   "execution_count": 36,
   "metadata": {},
   "outputs": [
    {
     "name": "stdout",
     "output_type": "stream",
     "text": [
      "p =  2091154225024371474480125587441554649664775463960762497704610890558576687598178973819757593250361224257008663869824793848734044168572682805714421738238111941\n",
      "q =  7415440514270820831489807047665087410158778240995611693987981881413392509213400616382119125001280937081591006630584375350120724002030790091185892688787631\n",
      "E =  Elliptic Curve defined by y^2 = x^3 + 1 over Finite Field of size 2091154225024371474480125587441554649664775463960762497704610890558576687598178973819757593250361224257008663869824793848734044168572682805714421738238111941\n",
      "P =  (958770581434886094705427302748121824117975313141601557253157241502106894313112993076371105796733827401088056679546746674424352990931918258506638132568911197 : 1442975958774425263877797915808521412267032785952039285208203039526891054444792858147462920792372557190446461886009890606309855285634158679520535593929059168 : 1)\n",
      "s =  5881092054792590867272147161227480110731672729385621824476322371496913487819736996493552932449823695607164958441208695527046654995892877184027480893197664\n",
      "l =  282\n",
      "P_pub =  (178552025946077064532272393223742972156187259378792048979492992064720930609279074592098482219359617321700141243463644605202579341539348786669546644436555486 : 161243289709308978142687447186848190817829804078331562997849579105343569086221875570347725231418536002808553132165472063660701153103692841252945652563908116 : 1)\n"
     ]
    }
   ],
   "source": [
    "#Step 1: Only need to run once\n",
    "params,s = BonehFranklinIBE.KeyGen(512)\n",
    "p, q, l, E, P, P_pub = params\n",
    "print(\"p = \", p)\n",
    "print(\"q = \", q)\n",
    "print(\"E = \", E)\n",
    "print(\"P = \", P)\n",
    "print(\"s = \", s)\n",
    "print(\"l = \", l)\n",
    "print(\"P_pub = \", P_pub)"
   ]
  },
  {
   "cell_type": "code",
   "execution_count": 37,
   "metadata": {},
   "outputs": [
    {
     "name": "stdout",
     "output_type": "stream",
     "text": [
      "y0 =  9284027244711476868736574711199185332133782967237044148153727596027875067278862165519633211530008452951448644427085930313537133830441524639977514866580706\n"
     ]
    }
   ],
   "source": [
    "#Step 2: Hash. Only need to run once for one ID.\n",
    "your_ID = \"user\"\n",
    "\n",
    "y0 = BonehFranklinIBE.Hash(your_ID)\n",
    "print(\"y0 = \", y0)"
   ]
  },
  {
   "cell_type": "code",
   "execution_count": 38,
   "metadata": {},
   "outputs": [
    {
     "name": "stdout",
     "output_type": "stream",
     "text": [
      "Q_ID =  (1152088691283607245682023510996961419634013082504907162253192682692446522267055530124084530275381576032144487471084468124928204341962080133026013108739130325 : 764297765387913525405055170325018320053998568578582342452468640921717072421463830096031284348911869633472416240545781139169878742182733852329044766924635175 : 1)\n",
      "d_ID =  (675605404488140443840009520048664943693770696954887235969182241311404545152386871065522880336410558183171465914131724544267968744805288624097914860720747726 : 474578770932652964106122752447608083232060946555286085665133122986918376843321159339519129968168391775625246623668966181813623040478078554380991003537561195 : 1)\n"
     ]
    }
   ],
   "source": [
    "#Step 3: Only need to run once.\n",
    "Q_ID,d_ID = BonehFranklinIBE.KeyExtract(y0,params)\n",
    "print(\"Q_ID = \", Q_ID)\n",
    "print(\"d_ID = \", d_ID)"
   ]
  },
  {
   "cell_type": "code",
   "execution_count": 39,
   "metadata": {},
   "outputs": [
    {
     "name": "stdout",
     "output_type": "stream",
     "text": [
      "g_ID_to_r is not in the prime field\n",
      "M =  435745416532\n",
      "U =  (578258044114525759457092748337729195894806434545709747508978145955999943527731498978164242143272755986667142931197621396166309133193596996934171383562836107 : 712199068366646905167786871021718488254839549611732387752484396973718011453302685257292148397212463129397011130625663174441880535601394003167101638217450246 : 1)\n",
      "V =  435745416535\n"
     ]
    }
   ],
   "source": [
    "#Step 4: Encrypt\n",
    "input_message = \"Teste\"\n",
    "\n",
    "M = BonehFranklinIBE.textToInt(input_message)\n",
    "C = BonehFranklinIBE.Encrypt(M,Q_ID,params)\n",
    "U,V = C\n",
    "print(\"M = \", M)\n",
    "print(\"U = \", U)\n",
    "print(\"V = \", V)"
   ]
  },
  {
   "cell_type": "code",
   "execution_count": 40,
   "metadata": {},
   "outputs": [
    {
     "name": "stdout",
     "output_type": "stream",
     "text": [
      "weil is not in the prime field\n",
      "M0 =  3\n",
      "messsage =  \u0003\n"
     ]
    }
   ],
   "source": [
    "#Step 5: Decrypt\n",
    "M0 = BonehFranklinIBE.Decrypt(C,d_ID,params)\n",
    "output_message = BonehFranklinIBE.intToText(M0)\n",
    "print(\"M0 = \", M0)\n",
    "print(\"messsage = \", output_message)"
   ]
  }
 ],
 "metadata": {
  "kernelspec": {
   "display_name": "SageMath 9.5",
   "language": "sage",
   "name": "sagemath"
  },
  "language_info": {
   "codemirror_mode": {
    "name": "ipython",
    "version": 3
   },
   "file_extension": ".py",
   "mimetype": "text/x-python",
   "name": "python",
   "nbconvert_exporter": "python",
   "pygments_lexer": "ipython3",
   "version": "3.10.12"
  }
 },
 "nbformat": 4,
 "nbformat_minor": 2
}
