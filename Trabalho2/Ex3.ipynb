{
 "cells": [
  {
   "cell_type": "markdown",
   "metadata": {},
   "source": [
    "# Trabalho Prático 2  #\n",
    "#### André Freitas PG54707 ####\n",
    "#### Bruna Macieira PG54467 ####"
   ]
  },
  {
   "cell_type": "markdown",
   "metadata": {},
   "source": [
    "## Exercício 3"
   ]
  },
  {
   "cell_type": "markdown",
   "metadata": {},
   "source": [
    "O algoritmo de Boneh e Franklin (BF) discutido no +Capítulo 5b:  Curvas Elípticas e sua Aritmética é uma tecnica fundamental na chamada “Criptografia Orientada à Identidade”. Seguindo as orientações definidas nesse texto, pretende-se construir usando Sagemath uma classe Python que implemente este criptosistema."
   ]
  },
  {
   "cell_type": "code",
   "execution_count": 12,
   "metadata": {
    "vscode": {
     "languageId": "python"
    }
   },
   "outputs": [
    {
     "name": "stdout",
     "output_type": "stream",
     "text": [
      "Defaulting to user installation because normal site-packages is not writeable\n",
      "Requirement already satisfied: pycrypto in /home/fura/.sage/local/lib/python3.10/site-packages (2.6.1)\n",
      "Note: you may need to restart the kernel to use updated packages.\n",
      "Defaulting to user installation because normal site-packages is not writeable\n",
      "Requirement already satisfied: sagemath-standard in /usr/lib/python3/dist-packages (9.5)\n",
      "Requirement already satisfied: cysignals>=1.10.2 in /home/fura/.sage/local/lib/python3.10/site-packages (from sagemath-standard) (1.11.4)\n",
      "Note: you may need to restart the kernel to use updated packages.\n"
     ]
    }
   ],
   "source": [
    "%pip install pycrypto\n",
    "%pip install sagemath-standard\n",
    "import math\n",
    "from sage.all import *\n",
    "from Crypto.Hash import SHA512"
   ]
  },
  {
   "cell_type": "code",
   "execution_count": 13,
   "metadata": {
    "vscode": {
     "languageId": "python"
    }
   },
   "outputs": [],
   "source": [
    "class BonehFranklinIBE:\n",
    "    def Hash(hash_input):\n",
    "        hash = SHA512.new()\n",
    "        str_val = str(hash_input)\n",
    "        byte_val = str_val.encode()\n",
    "        hash.update(byte_val)\n",
    "        hexadecimal = hash.hexdigest()\n",
    "        return int(hexadecimal, 16)\n",
    "    \n",
    "    #Fast modular exponentiation algorithm (needed for F_{p^2})\n",
    "    def fastPowerSmall(g,A):\n",
    "        a = g\n",
    "        b = 1\n",
    "        if g == 0 and A == 0:\n",
    "            return \"Undefined\"\n",
    "        else:\n",
    "            while A > 0:\n",
    "                if A%2 == 1:\n",
    "                    b = b*a\n",
    "                a = a^2\n",
    "                A = A//2\n",
    "                print\n",
    "            return b\n",
    "        \n",
    "    def textToInt(w):\n",
    "        n  = 0\n",
    "        counter = 0\n",
    "        #counter will give us the index of each character in the string\n",
    "        for i in w:\n",
    "            n = n + ord(i)*(256**counter)\n",
    "            counter = counter + 1\n",
    "        return n\n",
    "\n",
    "    def intToText(n):\n",
    "        str = \"\"\n",
    "        while n > 0:\n",
    "            a0 = n%256\n",
    "            str = str + chr(a0) #chr undoes ord. ord() inputs character and outputs integer. str inputs integer between 0 and 255 and outputs character.\n",
    "            n = n//256 #This is the quotient after dividing n by 256\n",
    "        return str\n",
    "    \n",
    "    def Xor(a, b):\n",
    "        int_a = int(a)\n",
    "        int_b = int(b)\n",
    "        return int_a ^^ int_b\n",
    "    \n",
    "    def is_in_prime_field(element, prime):\n",
    "        return 0 <= element < prime\n",
    "    \n",
    "    #This defines a rational function g(x,y) on E whose divisor is div(g) = [P] + [Q] - [P+Q] - [O]\n",
    "\n",
    "    #A, B coefficients of E. Use A,B = E.a_invariants()[3], E.a_invariants()[4]\n",
    "    #P = E([xP, yP])\n",
    "\n",
    "    def g(P,Q,x,y,E):\n",
    "        positive_infinity = math.inf\n",
    "        A,B = E.a_invariants()[3], E.a_invariants()[4]\n",
    "        if P == E(0) or Q == E(0):\n",
    "            return \"no divisor\"\n",
    "        xP,yP = P[0],P[1]\n",
    "        xQ,yQ = Q[0],Q[1]\n",
    "        #Calculate slope of line connecting P and Q\n",
    "        #JUST check if equal\n",
    "        if yP == -yQ and xP == xQ:\n",
    "            slope = +positive_infinity #symbol for Infinity\n",
    "        elif P == Q:\n",
    "            slope = (3*(xP**2) + A)/(2*yP)\n",
    "        else:\n",
    "            slope = (yQ - yP)/(xQ - xP)\n",
    "        #return the function on E\n",
    "        if slope == +positive_infinity:\n",
    "            return x - xP\n",
    "        else:\n",
    "            return (y - yP - slope*(x - xP))/(x + xP + xQ - slope**2)\n",
    "        \n",
    "    def MillerAlgorithm(P,m,x,y,E):\n",
    "        A,B = E.a_invariants()[3], E.a_invariants()[4]\n",
    "        xP,yP = P[0],P[1]\n",
    "        binary = m.digits(2) #gives number in binary\n",
    "        n = len(binary) #trying to find what \"n\" is.\n",
    "        T = P\n",
    "        f = 1\n",
    "        for i in range(n-2,-1,-1): #Stop once i = -1, so last number is 0...range(start, stop, step)\n",
    "            f = (f**2)*BonehFranklinIBE.g(T,T,x,y,E)\n",
    "            T *= 2 #T = 2T\n",
    "            if binary[i] == 1:\n",
    "                f = f*BonehFranklinIBE.g(T,P,x,y,E)\n",
    "                T += P\n",
    "        return f \n",
    "\n",
    "    def WeilPairing(P,Q,m,E):\n",
    "        A,B = E.a_invariants()[3], E.a_invariants()[4]\n",
    "        S = E.random_element()\n",
    "        while m*S == E(0):\n",
    "            S = E.random_element() #Pick point S that is not m-torsion. This guarantees that S isn't a linear combination of P and Q.\n",
    "        xS,yS = S[0],S[1]\n",
    "        QplusS = Q + S\n",
    "        f_P_QplusS = BonehFranklinIBE.MillerAlgorithm(P,m,QplusS[0],QplusS[1],E)\n",
    "        f_P_S = BonehFranklinIBE.MillerAlgorithm(P,m,xS,yS,E)\n",
    "        num = f_P_QplusS/f_P_S\n",
    "\n",
    "        PminusS = P - S\n",
    "        f_Q_PminusS = BonehFranklinIBE.MillerAlgorithm(Q,m,PminusS[0],PminusS[1],E) #This is f_Q(P-S)\n",
    "        f_Q_minusS = BonehFranklinIBE.MillerAlgorithm(Q,m,xS,-yS,E) #This is f_Q(-S)\n",
    "        denom = f_Q_PminusS/f_Q_minusS\n",
    "\n",
    "        e_m = num/denom\n",
    "        return e_m\n",
    "    \n",
    "    def ModifiedWeilPairing(P,Q,m,E):\n",
    "        Fp = GF(p)\n",
    "        R.<x> = Fp[]\n",
    "        Fp2.<z> = Fp.extension(x^2+x+1)      #Form F_{p^2} by adjoining z = {a nontrivial cube root of 1}\n",
    "        E_zeta = EllipticCurve(Fp2, [0,1])   #Define E: y^2 = x^3 + 1 over this field\n",
    "        phiQ = E_zeta([z*Q[0],Q[1]])\n",
    "        A,B = E_zeta.a_invariants()[3], E_zeta.a_invariants()[4]\n",
    "        P_zeta = E_zeta([P[0],P[1]])\n",
    "        S = E_zeta.random_element()\n",
    "        while m*S == E(0):\n",
    "            S = E_zeta.random_element()\n",
    "        xS,yS = S[0],S[1]\n",
    "        QplusS = phiQ + S\n",
    "        f_P_QplusS = BonehFranklinIBE.MillerAlgorithm(P,m,QplusS[0],QplusS[1],E_zeta)\n",
    "        f_P_S = BonehFranklinIBE.MillerAlgorithm(P,m,xS,yS,E_zeta)\n",
    "        num = f_P_QplusS/f_P_S\n",
    "\n",
    "        PminusS = P_zeta - S #modify\n",
    "        f_Q_PminusS = BonehFranklinIBE.MillerAlgorithm(phiQ,m,PminusS[0],PminusS[1],E_zeta) #This is f_Q(P-S)\n",
    "        f_Q_minusS = BonehFranklinIBE.MillerAlgorithm(phiQ,m,xS,-yS,E_zeta) #This is f_Q(-S)\n",
    "        denom = f_Q_PminusS/f_Q_minusS\n",
    "\n",
    "        e_m = num/denom\n",
    "        return e_m\n",
    "    \n",
    "    def KeyGen(k):\n",
    "        q = random_prime((2^k) - 1, True, lbound=2^(k-1)) #Generates a random k-bit prime. False means using pseudo-primality tests.\n",
    "        p = q\n",
    "        l = 1 #need l for `KeyExtract`\n",
    "        lq = q\n",
    "        while True:\n",
    "            l += 1\n",
    "            lq += q\n",
    "            p = lq - 1\n",
    "            if p%3 == 2 and (p+1)%(q^2) != 0 and is_prime(p) == True:\n",
    "                break\n",
    "        E = EllipticCurve(GF(p), [0,1]) #p is public b/c the elliptic curve is known\n",
    "        P = E(0)\n",
    "        while P == E(0):\n",
    "            Q = E.random_element()\n",
    "            while Q == E(0): #make sure P is not O\n",
    "                Q = E.random_element()\n",
    "            h = (p+1)//q #This is to make sure P has order q.\n",
    "            P = h*Q #Order of P is q1\n",
    "        s = ZZ.random_element(2,q-1) #s is private master key in Z_q*.\n",
    "        P_pub = s*P\n",
    "        params = [p, q, l, E, P, P_pub]\n",
    "        return params, s \n",
    "    \n",
    "    def KeyExtract(y0, params):\n",
    "        p, q, l, E, P, P_pub = params\n",
    "        x0 = pow((y0^2) - 1, ((2*p)-1)//3, p) #`pow` is Python's built-in function that does fast power\n",
    "        Q = E([x0,y0])\n",
    "        Q_ID = l*Q #l comes from BDHGenerator. It's the integer s.t. p = lq-1\n",
    "        d_ID = s*Q_ID\n",
    "        return Q_ID,d_ID\n",
    "    \n",
    "    def Encrypt(M,Q_ID,params):\n",
    "        params = [p, q, l, E, P, P_pub]\n",
    "        r = ZZ.random_element(2,q-1)\n",
    "        U = r*P\n",
    "        g_ID = BonehFranklinIBE.ModifiedWeilPairing(Q_ID,P_pub,q,E)\n",
    "        g_ID_to_r = BonehFranklinIBE.fastPowerSmall(g_ID, r)\n",
    "        V = M^^BonehFranklinIBE.Hash(g_ID_to_r)\n",
    "        C = [U,V] #This is the ciphertext\n",
    "        return C\n",
    "    \n",
    "    def Decrypt(C,d_ID,params):\n",
    "        params = [p, q, l, E, P, P_pub]\n",
    "        U,V = C\n",
    "        weil = BonehFranklinIBE.ModifiedWeilPairing(d_ID,U,q,E)\n",
    "        M = V^^BonehFranklinIBE.Hash(weil)\n",
    "        return M"
   ]
  },
  {
   "cell_type": "code",
   "execution_count": 14,
   "metadata": {
    "vscode": {
     "languageId": "python"
    }
   },
   "outputs": [
    {
     "name": "stdout",
     "output_type": "stream",
     "text": [
      "p =  962846820577836932489159090110661220757528168191097735105207174340143623541384446207404899892679199412178001546662332785896486771705856151963259065245943159\n",
      "q =  8023723504815307770742992417588843506312734734925814459210059786167863529511537051728374165772326661768150012888852773215804056430882134599693825543716193\n",
      "E =  Elliptic Curve defined by y^2 = x^3 + 1 over Finite Field of size 962846820577836932489159090110661220757528168191097735105207174340143623541384446207404899892679199412178001546662332785896486771705856151963259065245943159\n",
      "P =  (226195724914835089074744301684146367700203692735586370195430450590265336487643161194551299457036867499561155324558463043104951894676581482156695750941645083 : 741160221313849950339830941899531557164987627588079120179174157814124567299669049187945749064637781213486008027992700883822803381008006147030188861402088341 : 1)\n",
      "s =  7939768147232293093365257803835054728165721789754580870999590544258967266817158979443694291781272885606846350738561142474485030826035287727275924342083221\n",
      "l =  120\n",
      "P_pub =  (390853482622926945582204889300292645064485029407587393299556606820864864162773084374788432913955392587273843472217296954737354235335751165939284669707578296 : 933699999849087789324487420308237427903502927232575573166211475833876838572444169496310434334664109093309598985301730296813397407048192627061584097857577519 : 1)\n"
     ]
    }
   ],
   "source": [
    "#Step 1: Only need to run once\n",
    "params,s = BonehFranklinIBE.KeyGen(512)\n",
    "p, q, l, E, P, P_pub = params\n",
    "print(\"p = \", p)\n",
    "print(\"q = \", q)\n",
    "print(\"E = \", E)\n",
    "print(\"P = \", P)\n",
    "print(\"s = \", s)\n",
    "print(\"l = \", l)\n",
    "print(\"P_pub = \", P_pub)"
   ]
  },
  {
   "cell_type": "code",
   "execution_count": 15,
   "metadata": {
    "vscode": {
     "languageId": "python"
    }
   },
   "outputs": [
    {
     "name": "stdout",
     "output_type": "stream",
     "text": [
      "y0 =  9284027244711476868736574711199185332133782967237044148153727596027875067278862165519633211530008452951448644427085930313537133830441524639977514866580706\n"
     ]
    }
   ],
   "source": [
    "#Step 2: Hash. Only need to run once for one ID.\n",
    "your_ID = \"user\"\n",
    "\n",
    "y0 = BonehFranklinIBE.Hash(your_ID)\n",
    "print(\"y0 = \", y0)"
   ]
  },
  {
   "cell_type": "code",
   "execution_count": 16,
   "metadata": {
    "vscode": {
     "languageId": "python"
    }
   },
   "outputs": [
    {
     "name": "stdout",
     "output_type": "stream",
     "text": [
      "Q_ID =  (944061521927993948104389957199814315096524917885333783729896465072754917830787084151472781207319482245362486285164499741136049402624393942205124220532679264 : 224550263820215285952021615872355505844798422481148826679335278523113890028112939825826866515307921971003174320556560877965216074744056607463774748678324824 : 1)\n",
      "d_ID =  (681753144963497700683164139653618668955291497477322136227461699276247377378296286112026724067336569696481393944239135407949163771186309923247891499892642410 : 792530164652065234266656230155957453983750394639173005606043237946191376471506260605223530519174072610590732915970683420810235277590053936730815032665795269 : 1)\n"
     ]
    }
   ],
   "source": [
    "#Step 3: Only need to run once.\n",
    "Q_ID,d_ID = BonehFranklinIBE.KeyExtract(y0,params)\n",
    "print(\"Q_ID = \", Q_ID)\n",
    "print(\"d_ID = \", d_ID)"
   ]
  },
  {
   "cell_type": "code",
   "execution_count": 17,
   "metadata": {
    "vscode": {
     "languageId": "python"
    }
   },
   "outputs": [
    {
     "name": "stdout",
     "output_type": "stream",
     "text": [
      "M =  435745416532\n",
      "U =  (221137235510804569941339894848401657821626002890018091088704097374189688039809814191299299334186753104833287841636556344758619842290975496814606416213258969 : 516246160207303673390014545982468056610365291226760573710237237884524001759337339406773946541732296425277827305684333913987168329818758266478507204544801094 : 1)\n",
      "V =  8624699354936482274031475692361212346275005300788943141442322296349914466108087418462263424991376777202841830610872544235222853911574722902141719611180014\n"
     ]
    }
   ],
   "source": [
    "#Step 4: Encrypt\n",
    "input_message = \"Teste\"\n",
    "\n",
    "M = BonehFranklinIBE.textToInt(input_message)\n",
    "C = BonehFranklinIBE.Encrypt(M,Q_ID,params)\n",
    "U,V = C\n",
    "print(\"M = \", M)\n",
    "print(\"U = \", U)\n",
    "print(\"V = \", V)"
   ]
  },
  {
   "cell_type": "code",
   "execution_count": 18,
   "metadata": {
    "vscode": {
     "languageId": "python"
    }
   },
   "outputs": [
    {
     "name": "stdout",
     "output_type": "stream",
     "text": [
      "M0 =  435745416532\n",
      "messsage =  Teste\n"
     ]
    }
   ],
   "source": [
    "#Step 5: Decrypt\n",
    "M0 = BonehFranklinIBE.Decrypt(C,d_ID,params)\n",
    "output_message = BonehFranklinIBE.intToText(M0)\n",
    "print(\"M0 = \", M0)\n",
    "print(\"messsage = \", output_message)"
   ]
  }
 ],
 "metadata": {
  "kernelspec": {
   "display_name": "SageMath 9.5",
   "language": "sage",
   "name": "sagemath"
  },
  "language_info": {
   "codemirror_mode": {
    "name": "ipython",
    "version": 3
   },
   "file_extension": ".py",
   "mimetype": "text/x-python",
   "name": "sage",
   "nbconvert_exporter": "python",
   "pygments_lexer": "ipython3",
   "version": "3.10.12"
  }
 },
 "nbformat": 4,
 "nbformat_minor": 2
}
