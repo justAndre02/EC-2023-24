{
 "cells": [
  {
   "cell_type": "markdown",
   "metadata": {},
   "source": [
    "# Trabalho Prático 3  #\n",
    "#### André Freitas PG54707 ####\n",
    "#### Bruna Macieira PG54467 ####"
   ]
  },
  {
   "cell_type": "markdown",
   "metadata": {
    "vscode": {
     "languageId": "plaintext"
    }
   },
   "source": [
    "## Exercício 1"
   ]
  },
  {
   "cell_type": "markdown",
   "metadata": {},
   "source": [
    "No capítulo 5 dos apontamentos é descrito o chamado Hidden Number Problem. No capítulo 8 dos apontamentos é discutida um artigo de  Nguyen & Shparlinsk , onde se propõem reduções do HNP a problemas difíceis em reticulados. Neste trabalho pretende-se construir, com a ajuda do Sagemath, uma implementação da solução discutida nos apontamentos para resolver o HNP com soluções aproximadas dos problemas em reticulados."
   ]
  },
  {
   "cell_type": "code",
   "execution_count": 728,
   "metadata": {
    "vscode": {
     "languageId": "python"
    }
   },
   "outputs": [
    {
     "name": "stdout",
     "output_type": "stream",
     "text": [
      "Requirement already satisfied: sagemath-standard in /home/fura/miniconda3/envs/Aulas/lib/python3.11/site-packages (10.1)\n",
      "Requirement already satisfied: sage-conf~=10.1 in /home/fura/miniconda3/envs/Aulas/lib/python3.11/site-packages (from sagemath-standard) (10.1)\n",
      "Requirement already satisfied: six>=1.15.0 in /home/fura/miniconda3/envs/Aulas/lib/python3.11/site-packages (from sagemath-standard) (1.16.0)\n",
      "Requirement already satisfied: cypari2>=2.1.1 in /home/fura/miniconda3/envs/Aulas/lib/python3.11/site-packages (from sagemath-standard) (2.1.4)\n",
      "Requirement already satisfied: cysignals>=1.10.2 in /home/fura/miniconda3/envs/Aulas/lib/python3.11/site-packages (from sagemath-standard) (1.11.2)\n",
      "Requirement already satisfied: cython<1.0,>=0.29.21 in /home/fura/miniconda3/envs/Aulas/lib/python3.11/site-packages (from sagemath-standard) (0.29.37)\n",
      "Requirement already satisfied: gmpy2>=2.1.0 in /home/fura/miniconda3/envs/Aulas/lib/python3.11/site-packages (from sagemath-standard) (2.1.2)\n",
      "Requirement already satisfied: importlib_metadata>=4.13 in /home/fura/miniconda3/envs/Aulas/lib/python3.11/site-packages (from sagemath-standard) (7.0.1)\n",
      "Collecting importlib_resources>=5.7 (from sagemath-standard)\n",
      "  Using cached importlib_resources-6.4.0-py3-none-any.whl.metadata (3.9 kB)\n",
      "Requirement already satisfied: jinja2>=2.11.2 in /home/fura/miniconda3/envs/Aulas/lib/python3.11/site-packages (from sagemath-standard) (3.1.3)\n",
      "Requirement already satisfied: jupyter_core>=4.6.3 in /home/fura/miniconda3/envs/Aulas/lib/python3.11/site-packages (from sagemath-standard) (4.12.0)\n",
      "Requirement already satisfied: lrcalc~=2.1 in /home/fura/miniconda3/envs/Aulas/lib/python3.11/site-packages (from sagemath-standard) (2.1)\n",
      "Requirement already satisfied: memory_allocator in /home/fura/miniconda3/envs/Aulas/lib/python3.11/site-packages (from sagemath-standard) (0.1.3)\n",
      "Requirement already satisfied: numpy>=1.19 in /home/fura/miniconda3/envs/Aulas/lib/python3.11/site-packages (from sagemath-standard) (1.26.3)\n",
      "Requirement already satisfied: pkgconfig>=1.5.1 in /home/fura/miniconda3/envs/Aulas/lib/python3.11/site-packages (from sagemath-standard) (1.5.5)\n",
      "Requirement already satisfied: pplpy>=0.8.6 in /home/fura/miniconda3/envs/Aulas/lib/python3.11/site-packages (from sagemath-standard) (0.8.9)\n",
      "Requirement already satisfied: primecountpy in /home/fura/miniconda3/envs/Aulas/lib/python3.11/site-packages (from sagemath-standard) (0.1.0)\n",
      "Requirement already satisfied: requests>=2.13.0 in /home/fura/miniconda3/envs/Aulas/lib/python3.11/site-packages (from sagemath-standard) (2.31.0)\n",
      "Requirement already satisfied: typing_extensions>=4.4.0 in /home/fura/miniconda3/envs/Aulas/lib/python3.11/site-packages (from sagemath-standard) (4.9.0)\n",
      "Requirement already satisfied: ipython>=7.13.0 in /home/fura/miniconda3/envs/Aulas/lib/python3.11/site-packages (from sagemath-standard) (8.20.0)\n",
      "Requirement already satisfied: pexpect>=4.8.0 in /home/fura/miniconda3/envs/Aulas/lib/python3.11/site-packages (from sagemath-standard) (4.8.0)\n",
      "Requirement already satisfied: sphinx<8,>=5.2 in /home/fura/miniconda3/envs/Aulas/lib/python3.11/site-packages (from sagemath-standard) (5.3.0)\n",
      "Collecting networkx<3.2,>=2.4 (from sagemath-standard)\n",
      "  Using cached networkx-3.1-py3-none-any.whl.metadata (5.3 kB)\n",
      "Collecting scipy<1.11,>=1.5 (from sagemath-standard)\n",
      "  Using cached scipy-1.10.1-cp311-cp311-manylinux_2_17_x86_64.manylinux2014_x86_64.whl.metadata (58 kB)\n",
      "Requirement already satisfied: sympy<2.0,>=1.6 in /home/fura/miniconda3/envs/Aulas/lib/python3.11/site-packages (from sagemath-standard) (1.12)\n",
      "Requirement already satisfied: matplotlib>=3.5.1 in /home/fura/miniconda3/envs/Aulas/lib/python3.11/site-packages (from sagemath-standard) (3.8.2)\n",
      "Requirement already satisfied: pillow>=7.2.0 in /home/fura/miniconda3/envs/Aulas/lib/python3.11/site-packages (from sagemath-standard) (9.4.0)\n",
      "Requirement already satisfied: mpmath>=1.1.0 in /home/fura/miniconda3/envs/Aulas/lib/python3.11/site-packages (from sagemath-standard) (1.3.0)\n",
      "Requirement already satisfied: ipykernel>=5.2.1 in /home/fura/miniconda3/envs/Aulas/lib/python3.11/site-packages (from sagemath-standard) (6.28.0)\n",
      "Requirement already satisfied: jupyter_client>=6.1.6 in /home/fura/miniconda3/envs/Aulas/lib/python3.11/site-packages (from sagemath-standard) (7.4.9)\n",
      "Requirement already satisfied: ipywidgets>=7.5.1 in /home/fura/miniconda3/envs/Aulas/lib/python3.11/site-packages (from sagemath-standard) (8.0.4)\n",
      "Collecting fpylll<=0.5.9,>=0.5.9 (from sagemath-standard)\n",
      "  Using cached fpylll-0.5.9.tar.gz (1.1 MB)\n",
      "  Preparing metadata (setup.py) ... \u001b[?25ldone\n",
      "\u001b[?25hCollecting ptyprocess==0.5.1 (from sagemath-standard)\n",
      "  Using cached ptyprocess-0.5.1-py2.py3-none-any.whl.metadata (1.3 kB)\n",
      "Requirement already satisfied: zipp>=0.5 in /home/fura/miniconda3/envs/Aulas/lib/python3.11/site-packages (from importlib_metadata>=4.13->sagemath-standard) (3.17.0)\n",
      "Requirement already satisfied: comm>=0.1.1 in /home/fura/miniconda3/envs/Aulas/lib/python3.11/site-packages (from ipykernel>=5.2.1->sagemath-standard) (0.1.2)\n",
      "Requirement already satisfied: debugpy>=1.6.5 in /home/fura/miniconda3/envs/Aulas/lib/python3.11/site-packages (from ipykernel>=5.2.1->sagemath-standard) (1.6.7)\n",
      "Requirement already satisfied: matplotlib-inline>=0.1 in /home/fura/miniconda3/envs/Aulas/lib/python3.11/site-packages (from ipykernel>=5.2.1->sagemath-standard) (0.1.6)\n",
      "Requirement already satisfied: nest-asyncio in /home/fura/miniconda3/envs/Aulas/lib/python3.11/site-packages (from ipykernel>=5.2.1->sagemath-standard) (1.5.6)\n",
      "Requirement already satisfied: packaging in /home/fura/miniconda3/envs/Aulas/lib/python3.11/site-packages (from ipykernel>=5.2.1->sagemath-standard) (23.1)\n",
      "Requirement already satisfied: psutil in /home/fura/miniconda3/envs/Aulas/lib/python3.11/site-packages (from ipykernel>=5.2.1->sagemath-standard) (5.9.0)\n",
      "Requirement already satisfied: pyzmq>=24 in /home/fura/miniconda3/envs/Aulas/lib/python3.11/site-packages (from ipykernel>=5.2.1->sagemath-standard) (24.0.1)\n",
      "Requirement already satisfied: tornado>=6.1 in /home/fura/miniconda3/envs/Aulas/lib/python3.11/site-packages (from ipykernel>=5.2.1->sagemath-standard) (6.3.3)\n",
      "Requirement already satisfied: traitlets>=5.4.0 in /home/fura/miniconda3/envs/Aulas/lib/python3.11/site-packages (from ipykernel>=5.2.1->sagemath-standard) (5.7.1)\n",
      "Requirement already satisfied: decorator in /home/fura/miniconda3/envs/Aulas/lib/python3.11/site-packages (from ipython>=7.13.0->sagemath-standard) (5.1.1)\n",
      "Requirement already satisfied: jedi>=0.16 in /home/fura/miniconda3/envs/Aulas/lib/python3.11/site-packages (from ipython>=7.13.0->sagemath-standard) (0.18.1)\n",
      "Requirement already satisfied: prompt-toolkit<3.1.0,>=3.0.41 in /home/fura/miniconda3/envs/Aulas/lib/python3.11/site-packages (from ipython>=7.13.0->sagemath-standard) (3.0.43)\n",
      "Requirement already satisfied: pygments>=2.4.0 in /home/fura/miniconda3/envs/Aulas/lib/python3.11/site-packages (from ipython>=7.13.0->sagemath-standard) (2.15.1)\n",
      "Requirement already satisfied: stack-data in /home/fura/miniconda3/envs/Aulas/lib/python3.11/site-packages (from ipython>=7.13.0->sagemath-standard) (0.2.0)\n",
      "Requirement already satisfied: widgetsnbextension~=4.0 in /home/fura/miniconda3/envs/Aulas/lib/python3.11/site-packages (from ipywidgets>=7.5.1->sagemath-standard) (4.0.5)\n",
      "Requirement already satisfied: jupyterlab-widgets~=3.0 in /home/fura/miniconda3/envs/Aulas/lib/python3.11/site-packages (from ipywidgets>=7.5.1->sagemath-standard) (3.0.9)\n",
      "Requirement already satisfied: MarkupSafe>=2.0 in /home/fura/miniconda3/envs/Aulas/lib/python3.11/site-packages (from jinja2>=2.11.2->sagemath-standard) (2.1.3)\n",
      "Requirement already satisfied: entrypoints in /home/fura/miniconda3/envs/Aulas/lib/python3.11/site-packages (from jupyter_client>=6.1.6->sagemath-standard) (0.4)\n",
      "Requirement already satisfied: python-dateutil>=2.8.2 in /home/fura/miniconda3/envs/Aulas/lib/python3.11/site-packages (from jupyter_client>=6.1.6->sagemath-standard) (2.8.2)\n",
      "Requirement already satisfied: contourpy>=1.0.1 in /home/fura/miniconda3/envs/Aulas/lib/python3.11/site-packages (from matplotlib>=3.5.1->sagemath-standard) (1.2.0)\n",
      "Requirement already satisfied: cycler>=0.10 in /home/fura/miniconda3/envs/Aulas/lib/python3.11/site-packages (from matplotlib>=3.5.1->sagemath-standard) (0.12.1)\n",
      "Requirement already satisfied: fonttools>=4.22.0 in /home/fura/miniconda3/envs/Aulas/lib/python3.11/site-packages (from matplotlib>=3.5.1->sagemath-standard) (4.48.1)\n",
      "Requirement already satisfied: kiwisolver>=1.3.1 in /home/fura/miniconda3/envs/Aulas/lib/python3.11/site-packages (from matplotlib>=3.5.1->sagemath-standard) (1.4.5)\n",
      "Requirement already satisfied: pyparsing>=2.3.1 in /home/fura/miniconda3/envs/Aulas/lib/python3.11/site-packages (from matplotlib>=3.5.1->sagemath-standard) (3.1.1)\n",
      "Requirement already satisfied: charset-normalizer<4,>=2 in /home/fura/miniconda3/envs/Aulas/lib/python3.11/site-packages (from requests>=2.13.0->sagemath-standard) (2.0.4)\n",
      "Requirement already satisfied: idna<4,>=2.5 in /home/fura/miniconda3/envs/Aulas/lib/python3.11/site-packages (from requests>=2.13.0->sagemath-standard) (3.4)\n",
      "Requirement already satisfied: urllib3<3,>=1.21.1 in /home/fura/miniconda3/envs/Aulas/lib/python3.11/site-packages (from requests>=2.13.0->sagemath-standard) (2.1.0)\n",
      "Requirement already satisfied: certifi>=2017.4.17 in /home/fura/miniconda3/envs/Aulas/lib/python3.11/site-packages (from requests>=2.13.0->sagemath-standard) (2024.2.2)\n",
      "Requirement already satisfied: sphinxcontrib-applehelp in /home/fura/miniconda3/envs/Aulas/lib/python3.11/site-packages (from sphinx<8,>=5.2->sagemath-standard) (1.0.8)\n",
      "Requirement already satisfied: sphinxcontrib-devhelp in /home/fura/miniconda3/envs/Aulas/lib/python3.11/site-packages (from sphinx<8,>=5.2->sagemath-standard) (1.0.6)\n",
      "Requirement already satisfied: sphinxcontrib-jsmath in /home/fura/miniconda3/envs/Aulas/lib/python3.11/site-packages (from sphinx<8,>=5.2->sagemath-standard) (1.0.1)\n",
      "Requirement already satisfied: sphinxcontrib-htmlhelp>=2.0.0 in /home/fura/miniconda3/envs/Aulas/lib/python3.11/site-packages (from sphinx<8,>=5.2->sagemath-standard) (2.0.5)\n",
      "Requirement already satisfied: sphinxcontrib-serializinghtml>=1.1.5 in /home/fura/miniconda3/envs/Aulas/lib/python3.11/site-packages (from sphinx<8,>=5.2->sagemath-standard) (1.1.10)\n",
      "Requirement already satisfied: sphinxcontrib-qthelp in /home/fura/miniconda3/envs/Aulas/lib/python3.11/site-packages (from sphinx<8,>=5.2->sagemath-standard) (1.0.7)\n",
      "Requirement already satisfied: docutils<0.20,>=0.14 in /home/fura/miniconda3/envs/Aulas/lib/python3.11/site-packages (from sphinx<8,>=5.2->sagemath-standard) (0.19)\n",
      "Requirement already satisfied: snowballstemmer>=2.0 in /home/fura/miniconda3/envs/Aulas/lib/python3.11/site-packages (from sphinx<8,>=5.2->sagemath-standard) (2.2.0)\n",
      "Requirement already satisfied: babel>=2.9 in /home/fura/miniconda3/envs/Aulas/lib/python3.11/site-packages (from sphinx<8,>=5.2->sagemath-standard) (2.11.0)\n",
      "Requirement already satisfied: alabaster<0.8,>=0.7 in /home/fura/miniconda3/envs/Aulas/lib/python3.11/site-packages (from sphinx<8,>=5.2->sagemath-standard) (0.7.16)\n",
      "Requirement already satisfied: imagesize>=1.3 in /home/fura/miniconda3/envs/Aulas/lib/python3.11/site-packages (from sphinx<8,>=5.2->sagemath-standard) (1.4.1)\n",
      "Requirement already satisfied: pytz>=2015.7 in /home/fura/miniconda3/envs/Aulas/lib/python3.11/site-packages (from babel>=2.9->sphinx<8,>=5.2->sagemath-standard) (2023.3.post1)\n",
      "Requirement already satisfied: parso<0.9.0,>=0.8.0 in /home/fura/miniconda3/envs/Aulas/lib/python3.11/site-packages (from jedi>=0.16->ipython>=7.13.0->sagemath-standard) (0.8.3)\n",
      "Requirement already satisfied: wcwidth in /home/fura/miniconda3/envs/Aulas/lib/python3.11/site-packages (from prompt-toolkit<3.1.0,>=3.0.41->ipython>=7.13.0->sagemath-standard) (0.2.5)\n",
      "Requirement already satisfied: executing in /home/fura/miniconda3/envs/Aulas/lib/python3.11/site-packages (from stack-data->ipython>=7.13.0->sagemath-standard) (0.8.3)\n",
      "Requirement already satisfied: asttokens in /home/fura/miniconda3/envs/Aulas/lib/python3.11/site-packages (from stack-data->ipython>=7.13.0->sagemath-standard) (2.0.5)\n",
      "Requirement already satisfied: pure-eval in /home/fura/miniconda3/envs/Aulas/lib/python3.11/site-packages (from stack-data->ipython>=7.13.0->sagemath-standard) (0.2.2)\n",
      "Using cached ptyprocess-0.5.1-py2.py3-none-any.whl (12 kB)\n",
      "Using cached importlib_resources-6.4.0-py3-none-any.whl (38 kB)\n",
      "Using cached networkx-3.1-py3-none-any.whl (2.1 MB)\n",
      "Using cached scipy-1.10.1-cp311-cp311-manylinux_2_17_x86_64.manylinux2014_x86_64.whl (34.1 MB)\n",
      "Building wheels for collected packages: fpylll\n",
      "  Building wheel for fpylll (setup.py) ... \u001b[?25lerror\n",
      "  \u001b[1;31merror\u001b[0m: \u001b[1msubprocess-exited-with-error\u001b[0m\n",
      "  \n",
      "  \u001b[31m×\u001b[0m \u001b[32mpython setup.py bdist_wheel\u001b[0m did not run successfully.\n",
      "  \u001b[31m│\u001b[0m exit code: \u001b[1;36m1\u001b[0m\n",
      "  \u001b[31m╰─>\u001b[0m \u001b[31m[67 lines of output]\u001b[0m\n",
      "  \u001b[31m   \u001b[0m INFO: Disabling color, you really want to install colorlog.\n",
      "  \u001b[31m   \u001b[0m Traceback (most recent call last):\n",
      "  \u001b[31m   \u001b[0m   File \"<string>\", line 2, in <module>\n",
      "  \u001b[31m   \u001b[0m   File \"<pip-setuptools-caller>\", line 34, in <module>\n",
      "  \u001b[31m   \u001b[0m   File \"/tmp/pip-install-uvp4o_uk/fpylll_dd8c9c1b383b4148a4e133aa80279bab/setup.py\", line 239, in <module>\n",
      "  \u001b[31m   \u001b[0m     setup(\n",
      "  \u001b[31m   \u001b[0m   File \"/home/fura/miniconda3/envs/Aulas/lib/python3.11/site-packages/setuptools/_distutils/core.py\", line 185, in setup\n",
      "  \u001b[31m   \u001b[0m     return run_commands(dist)\n",
      "  \u001b[31m   \u001b[0m            ^^^^^^^^^^^^^^^^^^\n",
      "  \u001b[31m   \u001b[0m   File \"/home/fura/miniconda3/envs/Aulas/lib/python3.11/site-packages/setuptools/_distutils/core.py\", line 201, in run_commands\n",
      "  \u001b[31m   \u001b[0m     dist.run_commands()\n",
      "  \u001b[31m   \u001b[0m   File \"/home/fura/miniconda3/envs/Aulas/lib/python3.11/site-packages/setuptools/_distutils/dist.py\", line 969, in run_commands\n",
      "  \u001b[31m   \u001b[0m     self.run_command(cmd)\n",
      "  \u001b[31m   \u001b[0m   File \"/home/fura/miniconda3/envs/Aulas/lib/python3.11/site-packages/setuptools/dist.py\", line 989, in run_command\n",
      "  \u001b[31m   \u001b[0m     super().run_command(command)\n",
      "  \u001b[31m   \u001b[0m   File \"/home/fura/miniconda3/envs/Aulas/lib/python3.11/site-packages/setuptools/_distutils/dist.py\", line 988, in run_command\n",
      "  \u001b[31m   \u001b[0m     cmd_obj.run()\n",
      "  \u001b[31m   \u001b[0m   File \"/home/fura/miniconda3/envs/Aulas/lib/python3.11/site-packages/wheel/bdist_wheel.py\", line 364, in run\n",
      "  \u001b[31m   \u001b[0m     self.run_command(\"build\")\n",
      "  \u001b[31m   \u001b[0m   File \"/home/fura/miniconda3/envs/Aulas/lib/python3.11/site-packages/setuptools/_distutils/cmd.py\", line 318, in run_command\n",
      "  \u001b[31m   \u001b[0m     self.distribution.run_command(command)\n",
      "  \u001b[31m   \u001b[0m   File \"/home/fura/miniconda3/envs/Aulas/lib/python3.11/site-packages/setuptools/dist.py\", line 989, in run_command\n",
      "  \u001b[31m   \u001b[0m     super().run_command(command)\n",
      "  \u001b[31m   \u001b[0m   File \"/home/fura/miniconda3/envs/Aulas/lib/python3.11/site-packages/setuptools/_distutils/dist.py\", line 988, in run_command\n",
      "  \u001b[31m   \u001b[0m     cmd_obj.run()\n",
      "  \u001b[31m   \u001b[0m   File \"/home/fura/miniconda3/envs/Aulas/lib/python3.11/site-packages/setuptools/_distutils/command/build.py\", line 131, in run\n",
      "  \u001b[31m   \u001b[0m     self.run_command(cmd_name)\n",
      "  \u001b[31m   \u001b[0m   File \"/home/fura/miniconda3/envs/Aulas/lib/python3.11/site-packages/setuptools/_distutils/cmd.py\", line 318, in run_command\n",
      "  \u001b[31m   \u001b[0m     self.distribution.run_command(command)\n",
      "  \u001b[31m   \u001b[0m   File \"/home/fura/miniconda3/envs/Aulas/lib/python3.11/site-packages/setuptools/dist.py\", line 989, in run_command\n",
      "  \u001b[31m   \u001b[0m     super().run_command(command)\n",
      "  \u001b[31m   \u001b[0m   File \"/home/fura/miniconda3/envs/Aulas/lib/python3.11/site-packages/setuptools/_distutils/dist.py\", line 988, in run_command\n",
      "  \u001b[31m   \u001b[0m     cmd_obj.run()\n",
      "  \u001b[31m   \u001b[0m   File \"/tmp/pip-install-uvp4o_uk/fpylll_dd8c9c1b383b4148a4e133aa80279bab/setup.py\", line 122, in run\n",
      "  \u001b[31m   \u001b[0m     self.extensions = Cython.Build.cythonize(\n",
      "  \u001b[31m   \u001b[0m                       ^^^^^^^^^^^^^^^^^^^^^^^\n",
      "  \u001b[31m   \u001b[0m   File \"/home/fura/miniconda3/envs/Aulas/lib/python3.11/site-packages/Cython/Build/Dependencies.py\", line 971, in cythonize\n",
      "  \u001b[31m   \u001b[0m     ctx = c_options.create_context()\n",
      "  \u001b[31m   \u001b[0m           ^^^^^^^^^^^^^^^^^^^^^^^^^^\n",
      "  \u001b[31m   \u001b[0m   File \"/home/fura/miniconda3/envs/Aulas/lib/python3.11/site-packages/Cython/Compiler/Main.py\", line 600, in create_context\n",
      "  \u001b[31m   \u001b[0m     return Context(self.include_path, self.compiler_directives,\n",
      "  \u001b[31m   \u001b[0m            ^^^^^^^^^^^^^^^^^^^^^^^^^^^^^^^^^^^^^^^^^^^^^^^^^^^^\n",
      "  \u001b[31m   \u001b[0m   File \"/home/fura/miniconda3/envs/Aulas/lib/python3.11/site-packages/Cython/Compiler/Main.py\", line 80, in __init__\n",
      "  \u001b[31m   \u001b[0m     from . import Builtin, CythonScope\n",
      "  \u001b[31m   \u001b[0m   File \"/home/fura/miniconda3/envs/Aulas/lib/python3.11/site-packages/Cython/Compiler/CythonScope.py\", line 5, in <module>\n",
      "  \u001b[31m   \u001b[0m     from .UtilityCode import CythonUtilityCode\n",
      "  \u001b[31m   \u001b[0m   File \"/home/fura/miniconda3/envs/Aulas/lib/python3.11/site-packages/Cython/Compiler/UtilityCode.py\", line 3, in <module>\n",
      "  \u001b[31m   \u001b[0m     from .TreeFragment import parse_from_strings, StringParseContext\n",
      "  \u001b[31m   \u001b[0m   File \"/home/fura/miniconda3/envs/Aulas/lib/python3.11/site-packages/Cython/Compiler/TreeFragment.py\", line 17, in <module>\n",
      "  \u001b[31m   \u001b[0m     from .Visitor import VisitorTransform\n",
      "  \u001b[31m   \u001b[0m   File \"Cython/Compiler/Visitor.py\", line 16, in init Cython.Compiler.Visitor\n",
      "  \u001b[31m   \u001b[0m   File \"/home/fura/miniconda3/envs/Aulas/lib/python3.11/site-packages/Cython/Compiler/Nodes.py\", line 31, in <module>\n",
      "  \u001b[31m   \u001b[0m     from .Pythran import has_np_pythran, pythran_type, is_pythran_buffer\n",
      "  \u001b[31m   \u001b[0m   File \"/home/fura/miniconda3/envs/Aulas/lib/python3.11/site-packages/Cython/Compiler/Pythran.py\", line 10, in <module>\n",
      "  \u001b[31m   \u001b[0m     import pythran\n",
      "  \u001b[31m   \u001b[0m   File \"/home/fura/miniconda3/envs/Aulas/lib/python3.11/site-packages/pythran/__init__.py\", line 42, in <module>\n",
      "  \u001b[31m   \u001b[0m     from pythran.toolchain import (generate_cxx, compile_cxxfile, compile_cxxcode,\n",
      "  \u001b[31m   \u001b[0m   File \"/home/fura/miniconda3/envs/Aulas/lib/python3.11/site-packages/pythran/toolchain.py\", line 12, in <module>\n",
      "  \u001b[31m   \u001b[0m     from pythran.middlend import refine, mark_unexported_functions\n",
      "  \u001b[31m   \u001b[0m   File \"/home/fura/miniconda3/envs/Aulas/lib/python3.11/site-packages/pythran/middlend.py\", line 4, in <module>\n",
      "  \u001b[31m   \u001b[0m     from pythran.optimizations import (ComprehensionPatterns, ListCompToGenexp,\n",
      "  \u001b[31m   \u001b[0m   File \"/home/fura/miniconda3/envs/Aulas/lib/python3.11/site-packages/pythran/optimizations/__init__.py\", line 21, in <module>\n",
      "  \u001b[31m   \u001b[0m     from .pattern_transform import PatternTransform\n",
      "  \u001b[31m   \u001b[0m   File \"/home/fura/miniconda3/envs/Aulas/lib/python3.11/site-packages/pythran/optimizations/pattern_transform.py\", line 346, in <module>\n",
      "  \u001b[31m   \u001b[0m     getattr(PatternTransform, attr_name) + (known_pattern,))\n",
      "  \u001b[31m   \u001b[0m     ^^^^^^^^^^^^^^^^^^^^^^^^^^^^^^^^^^^^\n",
      "  \u001b[31m   \u001b[0m AttributeError: type object 'PatternTransform' has no attribute 'typePatterns'. Did you mean: 'CallPatterns'?\n",
      "  \u001b[31m   \u001b[0m \u001b[31m[end of output]\u001b[0m\n",
      "  \n",
      "  \u001b[1;35mnote\u001b[0m: This error originates from a subprocess, and is likely not a problem with pip.\n",
      "\u001b[31m  ERROR: Failed building wheel for fpylll\u001b[0m\u001b[31m\n",
      "\u001b[0m\u001b[?25h  Running setup.py clean for fpylll\n",
      "Failed to build fpylll\n",
      "\u001b[31mERROR: Could not build wheels for fpylll, which is required to install pyproject.toml-based projects\u001b[0m\u001b[31m\n",
      "\u001b[0mNote: you may need to restart the kernel to use updated packages.\n"
     ]
    }
   ],
   "source": [
    "%pip install sagemath-standard\n",
    "from sage.all import *\n",
    "import copy"
   ]
  },
  {
   "cell_type": "markdown",
   "metadata": {},
   "source": [
    "Etapa 1: Construção da matriz 𝐺."
   ]
  },
  {
   "cell_type": "code",
   "execution_count": 729,
   "metadata": {
    "vscode": {
     "languageId": "python"
    }
   },
   "outputs": [],
   "source": [
    "def build_G_matrix(p, x_values, A, u_values, M, B):\n",
    "    n = len(x_values)\n",
    "    m = n + 2\n",
    "    G = Matrix(QQ, m, m)\n",
    "\n",
    "    # Preenchendo os elementos de G\n",
    "    for i in range(m):\n",
    "        for j in range(m):\n",
    "            if i < n and j < n:\n",
    "                G[i, j] = p if i == j else 0\n",
    "            elif i == n:\n",
    "                G[i, j] = x_values[j] if j < n else A if j == n else 0\n",
    "            elif i == n + 1:\n",
    "                G[i, j] = -B * u_values[j] if j < n else 0 if j == n else M\n",
    "    print(\"G:\", G)\n",
    "\n",
    "    return G"
   ]
  },
  {
   "cell_type": "markdown",
   "metadata": {},
   "source": [
    "Etapa 2: Construção do vetor alvo 𝑦."
   ]
  },
  {
   "cell_type": "code",
   "execution_count": 730,
   "metadata": {
    "vscode": {
     "languageId": "python"
    }
   },
   "outputs": [],
   "source": [
    "def build_y_vector(u_values, B, M):\n",
    "    n = len(u_values)\n",
    "    y = [B * u for u in u_values] + [0, M]  # Construindo o vetor y\n",
    "\n",
    "    return vector(y)"
   ]
  },
  {
   "cell_type": "markdown",
   "metadata": {},
   "source": [
    "Etapa 3: Resolução do Problema do Menor Vetor em uma Reticulado (BDD)."
   ]
  },
  {
   "cell_type": "code",
   "execution_count": 731,
   "metadata": {
    "vscode": {
     "languageId": "python"
    }
   },
   "outputs": [],
   "source": [
    "def solve_BDD(G, y, B):\n",
    "    # Ensure G and y have compatible dimensions\n",
    "    if len(G[0]) == len(y):\n",
    "        # Convert y to a SageMath vector\n",
    "        y_vector = vector(y)\n",
    "\n",
    "        # Construct the lattice and reduce the basis using the LLL algorithm\n",
    "        L = Matrix(G)\n",
    "        n = L.nrows()\n",
    "        k = 2\n",
    "        L_star = copy.deepcopy(L)  # Use deepcopy to create a copy of the matrix\n",
    "        while k <= n:\n",
    "            for j in range(1, k):\n",
    "                mu_kj = L[k-1] * L_star[j-1] / (L_star[j-1] * L_star[j-1])\n",
    "                L[k-1] = L[k-1] - mu_kj * L_star[j-1]  # Size Reduction\n",
    "                print(f\"Size reduction: L[{k-1}] = {L[k-1]}\")  # Debugging print statement\n",
    "            if L_star[k-1] * L_star[k-1] >= (3/4 - (L[k-1] * L_star[k-2] / (L_star[k-2] * L_star[k-2]))**2) * L_star[k-2] * L_star[k-2]:  # Lovász Condition\n",
    "                k += 1\n",
    "                print(f\"Increasing k to {k}\")  # Debugging print statement\n",
    "            else:\n",
    "                L[k-1], L[k-2] = L[k-2], L[k-1]  # Swap Step\n",
    "                k = max(2, k - 1)\n",
    "                print(f\"Swapping vectors and setting k to {k}\")  # Debugging print statement\n",
    "\n",
    "        # Calculate the closest point to y in the lattice\n",
    "        closest_point = L * y_vector\n",
    "        print(\"closest point:\", closest_point)\n",
    "\n",
    "        # Round the closest point\n",
    "        rounded_point = vector(ZZ, [round(coord) for coord in closest_point])\n",
    "        print(\"B:\", B)\n",
    "        print(\"rounded point:\", rounded_point)\n",
    "        print(\"y_vector:\", y_vector)\n",
    "        print(\"distance:\", vector(rounded_point - y_vector).norm())\n",
    "\n",
    "        # Check if the distance is less than B\n",
    "        if vector(rounded_point - y_vector).norm() <= B:\n",
    "            return rounded_point\n",
    "        else:\n",
    "            print(\"The closest point found is not within the expected distance\")\n",
    "            return None\n",
    "    else:\n",
    "        print(\"G and y have incompatible dimensions\")\n",
    "        return None"
   ]
  },
  {
   "cell_type": "markdown",
   "metadata": {},
   "source": [
    "Etapa 4: Recuperação do segredo 𝑠 a partir do vetor solução."
   ]
  },
  {
   "cell_type": "code",
   "execution_count": 732,
   "metadata": {
    "vscode": {
     "languageId": "python"
    }
   },
   "outputs": [],
   "source": [
    "def recover_secret(reduced_matrix, lambda_value):\n",
    "    # Extraindo a última componente do vetor solução\n",
    "    e_n_plus_1 = reduced_matrix[-1][-2]\n",
    "\n",
    "    # Arredondando para obter o valor de s\n",
    "    s = round(lambda_value * e_n_plus_1)\n",
    "\n",
    "    return s"
   ]
  },
  {
   "cell_type": "markdown",
   "metadata": {},
   "source": [
    "Etapa 5: Avaliação da precisão da solução."
   ]
  },
  {
   "cell_type": "code",
   "execution_count": 733,
   "metadata": {
    "vscode": {
     "languageId": "python"
    }
   },
   "outputs": [],
   "source": [
    "# Função para avaliar a precisão da solução\n",
    "def evaluate_solution(y, x_values, s, p, B):\n",
    "    # Calculando o vetor obtido a partir do segredo recuperado\n",
    "    y_obtained = vector([s * xi % p for xi in x_values] + [0, 0])\n",
    "\n",
    "    # Calculando a distância entre y e y_obtained\n",
    "    distance = vector(y - y_obtained).norm()\n",
    "\n",
    "    # Verificando se a distância é menor ou igual a B\n",
    "    if distance <= B:\n",
    "        return True, distance\n",
    "    else:\n",
    "        return False, distance"
   ]
  },
  {
   "cell_type": "markdown",
   "metadata": {},
   "source": [
    "Definir os parâmetros a usar para resolver"
   ]
  },
  {
   "cell_type": "code",
   "execution_count": 734,
   "metadata": {
    "vscode": {
     "languageId": "python"
    }
   },
   "outputs": [],
   "source": [
    "k = 2  # Definindo o valor de k\n",
    "lambda_value = 2**k  # Calculando o valor de lambda\n",
    "\n",
    "# Parâmetros do problema\n",
    "p = next_prime(101)  # Primo p\n",
    "x_values = [2, 1, 1, 2, 3]  # Valores xi\n",
    "u_values = [1, 1, 2, 2, 3]  # Valores ui\n",
    "A = 1/lambda_value  # Valor A é 1/lambda\n",
    "B = p/lambda_value # Parâmetro B é p/lambda\n",
    "M = 1001  # Valor M"
   ]
  },
  {
   "cell_type": "code",
   "execution_count": 735,
   "metadata": {
    "vscode": {
     "languageId": "python"
    }
   },
   "outputs": [
    {
     "name": "stdout",
     "output_type": "stream",
     "text": [
      "G: [   103      0      0      0      0      0      0]\n",
      "[     0    103      0      0      0      0      0]\n",
      "[     0      0    103      0      0      0      0]\n",
      "[     0      0      0    103      0      0      0]\n",
      "[     0      0      0      0    103      0      0]\n",
      "[     2      1      1      2      3    1/4      0]\n",
      "[-103/4 -103/4 -103/2 -103/2 -309/4      0   1001]\n"
     ]
    }
   ],
   "source": [
    "# Construindo a matriz G\n",
    "G = build_G_matrix(p, x_values, A, u_values, M, B)"
   ]
  },
  {
   "cell_type": "code",
   "execution_count": 736,
   "metadata": {
    "vscode": {
     "languageId": "python"
    }
   },
   "outputs": [],
   "source": [
    "# Construindo o vetor alvo y\n",
    "y = build_y_vector(u_values, B, M)"
   ]
  },
  {
   "cell_type": "code",
   "execution_count": 737,
   "metadata": {
    "vscode": {
     "languageId": "python"
    }
   },
   "outputs": [
    {
     "name": "stdout",
     "output_type": "stream",
     "text": [
      "G and y have incompatible dimensions\n",
      "Solution: None\n"
     ]
    }
   ],
   "source": [
    "# Resolvendo o BDD\n",
    "solution = solve_BDD(G, y, B)\n",
    "print(\"Solution:\", solution)"
   ]
  },
  {
   "cell_type": "code",
   "execution_count": 738,
   "metadata": {
    "vscode": {
     "languageId": "python"
    }
   },
   "outputs": [
    {
     "name": "stdout",
     "output_type": "stream",
     "text": [
      "Não foi possível encontrar uma solução dentro do limite B.\n"
     ]
    }
   ],
   "source": [
    "# Verificando se a solução foi encontrada\n",
    "if solution:\n",
    "    # Recuperando o segredo\n",
    "    s = recover_secret(solution, A)\n",
    "\n",
    "    # Avaliando a precisão da solução\n",
    "    is_within_limit, distance = evaluate_solution(y, x_values, s, p, B)\n",
    "\n",
    "    # Exibindo resultados\n",
    "    if is_within_limit:\n",
    "        print(\"Solução encontrada dentro do limite B.\")\n",
    "        print(\"Segredo recuperado:\", s)\n",
    "        print(\"Distância entre y e y_obtained:\", distance)\n",
    "    else:\n",
    "        print(\"Solução encontrada, mas está fora do limite B.\")\n",
    "        print(\"Segredo recuperado:\", s)\n",
    "        print(\"Distância entre y e y_obtained:\", distance)\n",
    "else:\n",
    "    print(\"Não foi possível encontrar uma solução dentro do limite B.\")"
   ]
  }
 ],
 "metadata": {
  "kernelspec": {
   "display_name": "SageMath 10.1",
   "language": "sage",
   "name": "sagemath"
  },
  "language_info": {
   "codemirror_mode": {
    "name": "ipython",
    "version": 3
   },
   "file_extension": ".py",
   "mimetype": "text/x-python",
   "name": "sage",
   "nbconvert_exporter": "python",
   "pygments_lexer": "ipython3",
   "version": "3.11.6"
  }
 },
 "nbformat": 4,
 "nbformat_minor": 2
}
