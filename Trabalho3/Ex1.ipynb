{
 "cells": [
  {
   "cell_type": "markdown",
   "metadata": {},
   "source": [
    "# Trabalho Prático 3  #\n",
    "#### André Freitas PG54707 ####\n",
    "#### Bruna Macieira PG54467 ####"
   ]
  },
  {
   "cell_type": "markdown",
   "metadata": {
    "vscode": {
     "languageId": "plaintext"
    }
   },
   "source": [
    "## Exercício 1"
   ]
  },
  {
   "cell_type": "markdown",
   "metadata": {},
   "source": [
    "No capítulo 5 dos apontamentos é descrito o chamado Hidden Number Problem. No capítulo 8 dos apontamentos é discutida um artigo de  Nguyen & Shparlinsk , onde se propõem reduções do HNP a problemas difíceis em reticulados. Neste trabalho pretende-se construir, com a ajuda do Sagemath, uma implementação da solução discutida nos apontamentos para resolver o HNP com soluções aproximadas dos problemas em reticulados."
   ]
  },
  {
   "cell_type": "code",
   "execution_count": 232,
   "metadata": {},
   "outputs": [
    {
     "name": "stdout",
     "output_type": "stream",
     "text": [
      "Defaulting to user installation because normal site-packages is not writeable\n",
      "Requirement already satisfied: sagemath-standard in /usr/lib/python3/dist-packages (9.5)\n",
      "Requirement already satisfied: cysignals>=1.10.2 in /home/fura/.sage/local/lib/python3.10/site-packages (from sagemath-standard) (1.11.4)\n",
      "Note: you may need to restart the kernel to use updated packages.\n"
     ]
    }
   ],
   "source": [
    "%pip install sagemath-standard\n",
    "from sage.all import *"
   ]
  },
  {
   "cell_type": "markdown",
   "metadata": {},
   "source": [
    "Etapa 1: Construção da matriz 𝐺."
   ]
  },
  {
   "cell_type": "code",
   "execution_count": 233,
   "metadata": {},
   "outputs": [],
   "source": [
    "# Função para construir a matriz G\n",
    "def build_G_matrix(p, x_values, A, u_values, M):\n",
    "    n = len(x_values)\n",
    "    m = n + 2\n",
    "    G = Matrix(QQ, m, m)\n",
    "\n",
    "    # Preenchendo os elementos de G\n",
    "    for i in range(m):\n",
    "        for j in range(m):\n",
    "            if i == m - 2 and j < n:\n",
    "                G[i, j] = x_values[j]\n",
    "            elif i == m - 1 and j < n:\n",
    "                G[i, j] = -B * u_values[j]\n",
    "            elif i == m - 1 and j == m - 1:\n",
    "                G[i, j] = M\n",
    "            elif i == m - 1 and j == n:\n",
    "                G[i, j] = 0\n",
    "            elif i == m - 1 and j == n + 1:\n",
    "                G[i, j] = M\n",
    "            elif i < n and j < n:\n",
    "                G[i, j] = 0 if i != j else p\n",
    "            elif i == n and j == n:\n",
    "                G[i, j] = A\n",
    "            elif i == n + 1 and j == n + 1:\n",
    "                G[i, j] = 1\n",
    "            else:\n",
    "                G[i, j] = 0\n",
    "\n",
    "    return G"
   ]
  },
  {
   "cell_type": "markdown",
   "metadata": {},
   "source": [
    "Etapa 2: Construção do vetor alvo 𝑦."
   ]
  },
  {
   "cell_type": "code",
   "execution_count": 234,
   "metadata": {},
   "outputs": [],
   "source": [
    "# Função para construir o vetor alvo y\n",
    "def build_y_vector(p, u_values, B):\n",
    "    n = len(u_values)\n",
    "    y = [B * u % p for u in u_values] + [0, 0]  # Construindo o vetor y\n",
    "\n",
    "    return vector(y)"
   ]
  },
  {
   "cell_type": "markdown",
   "metadata": {},
   "source": [
    "Etapa 3: Resolução do Problema do Menor Vetor em uma Reticulado (BDD)."
   ]
  },
  {
   "cell_type": "code",
   "execution_count": 235,
   "metadata": {},
   "outputs": [],
   "source": [
    "# Função para resolver o BDD\n",
    "def solve_BDD(G, y, B):\n",
    "    # Ensure G and y have compatible dimensions\n",
    "    if len(G[0]) == len(y):\n",
    "        # Convertendo y para um vetor de SageMath\n",
    "        y_vector = vector(y)\n",
    "\n",
    "        # Construindo o reticulado e reduzindo a base\n",
    "        L = Matrix(G).LLL()\n",
    "\n",
    "        # Calculando o ponto mais próximo de y no reticulado\n",
    "        closest_point = L * y_vector\n",
    "\n",
    "        # Arredondando o ponto mais próximo\n",
    "        rounded_point = vector(ZZ, [round(coord) for coord in closest_point])\n",
    "        #print(rounded_point)\n",
    "        #print(y_vector)\n",
    "        #print(vector(rounded_point - y_vector).norm())\n",
    "        #print(B)\n",
    "        # Verificando se a distância é menor que B\n",
    "        if vector(rounded_point - y_vector).norm() <= B:\n",
    "            return rounded_point\n",
    "        else:\n",
    "            return None\n",
    "    else:\n",
    "        print(\"G and y have incompatible dimensions\")\n",
    "        # Handle the case when G and y have incompatible dimensions"
   ]
  },
  {
   "cell_type": "markdown",
   "metadata": {},
   "source": [
    "Etapa 4: Recuperação do segredo 𝑠 a partir do vetor solução."
   ]
  },
  {
   "cell_type": "code",
   "execution_count": 236,
   "metadata": {},
   "outputs": [],
   "source": [
    "# Função para recuperar o segredo\n",
    "def recover_secret(solution, A):\n",
    "    # Extraindo a última componente do vetor solução\n",
    "    s_A = solution[-1]\n",
    "\n",
    "    # Arredondando para obter o valor de s\n",
    "    s = ceil(s_A / A)\n",
    "\n",
    "    return s"
   ]
  },
  {
   "cell_type": "markdown",
   "metadata": {},
   "source": [
    "Etapa 5: Avaliação da precisão da solução."
   ]
  },
  {
   "cell_type": "code",
   "execution_count": 237,
   "metadata": {},
   "outputs": [],
   "source": [
    "# Função para avaliar a precisão da solução\n",
    "def evaluate_solution(y, s, p, B):\n",
    "    # Calculando o vetor obtido a partir do segredo recuperado\n",
    "    y_obtained = vector([s * xi % p for xi in x_values] + [0, 0])\n",
    "\n",
    "    # Calculando a distância entre y e y_obtained\n",
    "    distance = vector(y - y_obtained).norm()\n",
    "\n",
    "    # Verificando se a distância é menor ou igual a B\n",
    "    if distance <= B:\n",
    "        return True, distance\n",
    "    else:\n",
    "        return False, distance"
   ]
  },
  {
   "cell_type": "markdown",
   "metadata": {},
   "source": [
    "Definir os parâmetros a usar para resolver"
   ]
  },
  {
   "cell_type": "code",
   "execution_count": 238,
   "metadata": {},
   "outputs": [],
   "source": [
    "# Parâmetros do problema\n",
    "p = next_prime(41)  # Primo p\n",
    "x_values = [3, 5, 0]  # Valores xi\n",
    "u_values = [2, 0, 5]  # Valores ui\n",
    "A = 1/2  # Valor A\n",
    "B = 10^5  # Parâmetro B\n",
    "M = 10^7  # Valor M"
   ]
  },
  {
   "cell_type": "code",
   "execution_count": 239,
   "metadata": {},
   "outputs": [],
   "source": [
    "# Construindo a matriz G\n",
    "G = build_G_matrix(p, x_values, A, u_values, M)"
   ]
  },
  {
   "cell_type": "code",
   "execution_count": 240,
   "metadata": {},
   "outputs": [],
   "source": [
    "# Construindo o vetor alvo y\n",
    "y = build_y_vector(p, u_values, B)"
   ]
  },
  {
   "cell_type": "code",
   "execution_count": 241,
   "metadata": {},
   "outputs": [
    {
     "name": "stdout",
     "output_type": "stream",
     "text": [
      "Solution: (21, 35, 56, 1677, 128)\n"
     ]
    }
   ],
   "source": [
    "# Resolvendo o BDD\n",
    "solution = solve_BDD(G, y, B)\n",
    "print(\"Solution:\", solution)"
   ]
  },
  {
   "cell_type": "code",
   "execution_count": 242,
   "metadata": {},
   "outputs": [
    {
     "name": "stdout",
     "output_type": "stream",
     "text": [
      "Solução encontrada dentro do limite B.\n",
      "Segredo recuperado: 256\n",
      "Distância entre y e y_obtained: 3*sqrt(390)\n"
     ]
    }
   ],
   "source": [
    "# Verificando se a solução foi encontrada\n",
    "if solution:\n",
    "    # Recuperando o segredo\n",
    "    s = recover_secret(solution, A)\n",
    "\n",
    "    # Avaliando a precisão da solução\n",
    "    is_within_limit, distance = evaluate_solution(y, s, p, B)\n",
    "\n",
    "    # Exibindo resultados\n",
    "    if is_within_limit:\n",
    "        print(\"Solução encontrada dentro do limite B.\")\n",
    "        print(\"Segredo recuperado:\", s)\n",
    "        print(\"Distância entre y e y_obtained:\", distance)\n",
    "    else:\n",
    "        print(\"Solução encontrada, mas está fora do limite B.\")\n",
    "        print(\"Segredo recuperado:\", s)\n",
    "        print(\"Distância entre y e y_obtained:\", distance)\n",
    "else:\n",
    "    print(\"Não foi possível encontrar uma solução dentro do limite B.\")"
   ]
  }
 ],
 "metadata": {
  "kernelspec": {
   "display_name": "SageMath 9.5",
   "language": "sage",
   "name": "sagemath"
  },
  "language_info": {
   "codemirror_mode": {
    "name": "ipython",
    "version": 3
   },
   "file_extension": ".py",
   "mimetype": "text/x-python",
   "name": "python",
   "nbconvert_exporter": "python",
   "pygments_lexer": "ipython3",
   "version": "3.10.12"
  }
 },
 "nbformat": 4,
 "nbformat_minor": 2
}
