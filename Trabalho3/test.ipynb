{
 "cells": [
  {
   "cell_type": "code",
   "execution_count": 17,
   "metadata": {},
   "outputs": [
    {
     "ename": "ImportError",
     "evalue": "cannot import name 'Q' from 'Ex2' (Ex2.ipynb)",
     "output_type": "error",
     "traceback": [
      "\u001b[1;31m---------------------------------------------------------------------------\u001b[0m",
      "\u001b[1;31mImportError\u001b[0m                               Traceback (most recent call last)",
      "Cell \u001b[1;32mIn[17], line 3\u001b[0m\n\u001b[0;32m      1\u001b[0m \u001b[38;5;28;01mfrom\u001b[39;00m \u001b[38;5;21;01mfractions\u001b[39;00m \u001b[38;5;28;01mimport\u001b[39;00m Fraction\n\u001b[0;32m      2\u001b[0m \u001b[38;5;28;01mimport\u001b[39;00m \u001b[38;5;21;01mnbimporter\u001b[39;00m\n\u001b[1;32m----> 3\u001b[0m \u001b[38;5;28;01mfrom\u001b[39;00m \u001b[38;5;21;01mEx2\u001b[39;00m \u001b[38;5;28;01mimport\u001b[39;00m compress, decompress, Q\n",
      "\u001b[1;31mImportError\u001b[0m: cannot import name 'Q' from 'Ex2' (Ex2.ipynb)"
     ]
    }
   ],
   "source": [
    "from fractions import Fraction\n",
    "import nbimporter\n",
    "from Ex2 import compress, decompress, Q"
   ]
  },
  {
   "cell_type": "code",
   "execution_count": 15,
   "metadata": {},
   "outputs": [
    {
     "ename": "NameError",
     "evalue": "name 'Q' is not defined",
     "output_type": "error",
     "traceback": [
      "\u001b[1;31m---------------------------------------------------------------------------\u001b[0m",
      "\u001b[1;31mNameError\u001b[0m                                 Traceback (most recent call last)",
      "Cell \u001b[1;32mIn[15], line 56\u001b[0m\n\u001b[0;32m     53\u001b[0m \t\u001b[38;5;28;01mreturn\u001b[39;00m t\n\u001b[0;32m     55\u001b[0m \u001b[38;5;28;01mfor\u001b[39;00m d \u001b[38;5;129;01min\u001b[39;00m \u001b[38;5;28mrange\u001b[39m(\u001b[38;5;241m12\u001b[39m):\n\u001b[1;32m---> 56\u001b[0m \t\u001b[38;5;28;01mfor\u001b[39;00m n \u001b[38;5;129;01min\u001b[39;00m \u001b[38;5;28mrange\u001b[39m(\u001b[43mQ\u001b[49m):\n\u001b[0;32m     57\u001b[0m \t\t\u001b[38;5;28;01massert\u001b[39;00m(compress_proper(d, n) \u001b[38;5;241m==\u001b[39m compress(d, [n])[\u001b[38;5;241m0\u001b[39m])\n\u001b[0;32m     59\u001b[0m \u001b[38;5;28;01mfor\u001b[39;00m d \u001b[38;5;129;01min\u001b[39;00m \u001b[38;5;28mrange\u001b[39m(\u001b[38;5;241m12\u001b[39m):\n",
      "\u001b[1;31mNameError\u001b[0m: name 'Q' is not defined"
     ]
    }
   ],
   "source": [
    "def round_half_up(n: Fraction) -> int:\n",
    "\treturn (n + Fraction(1, 2)).__floor__()\n",
    "\n",
    "def compress_proper(d: int, x: int) -> int:\n",
    "\treturn round_half_up(Fraction(2**d * x, Q)) % (2**d)\n",
    "\n",
    "def decompress_proper(d: int, y: int) -> int:\n",
    "\treturn round_half_up(Fraction(Q * y, 2**d)) % Q\n",
    "\n",
    "def compress_kyber_ref_poly_tomsg(t: int) -> int:\n",
    "\tt <<= 1\n",
    "\tt += 1665\n",
    "\tt *= 80635\n",
    "\tt >>= 28\n",
    "\tt &= 1\n",
    "\treturn t\n",
    "\n",
    "def compress_kyber_ref_poly_128(t: int) -> int:\n",
    "\tt <<= 4\n",
    "\tt += 1665\n",
    "\tt *= 80635\n",
    "\tt >>= 28\n",
    "\tt &= 0xf\n",
    "\treturn t\n",
    "\n",
    "def compress_kyber_ref_poly_160(t: int) -> int:\n",
    "\tt <<= 5\n",
    "\tt += 1664\n",
    "\tt *= 40318\n",
    "\tt >>= 27\n",
    "\tt &= 0x1f\n",
    "\treturn t\n",
    "\n",
    "def compress_kyber_ref_polyvec_128(t: int) -> int:\n",
    "\tt <<= 11\n",
    "\tt += 1664\n",
    "\tt *= 645084\n",
    "\tt >>= 31\n",
    "\tt &= 0x7ff\n",
    "\treturn t\n",
    "\n",
    "def compress_kyber_ref_polyvec_160(t: int) -> int:\n",
    "\tt <<= 10\n",
    "\tt += 1665\n",
    "\tt *= 1290167\n",
    "\tt >>= 32\n",
    "\tt &= 0x3ff\n",
    "\treturn t\n",
    "\n",
    "for d in range(12):\n",
    "\tfor n in range(Q):\n",
    "\t\tassert(compress_proper(d, n) == compress(d, [n])[0])\n",
    "\n",
    "for d in range(12):\n",
    "\tfor n in range(2**d):\n",
    "\t\tassert(decompress_proper(d, n) == decompress(d, [n])[0])\n",
    "\n",
    "for n in range(Q):\n",
    "\tassert(compress_proper(1, n) == compress_kyber_ref_poly_tomsg(n))\n",
    "\tassert(compress_proper(4, n) == compress_kyber_ref_poly_128(n))\n",
    "\tassert(compress_proper(5, n) == compress_kyber_ref_poly_160(n))\n",
    "\tassert(compress_proper(11, n) == compress_kyber_ref_polyvec_128(n))\n",
    "\tassert(compress_proper(10, n) == compress_kyber_ref_polyvec_160(n))"
   ]
  }
 ],
 "metadata": {
  "kernelspec": {
   "display_name": "Python 3",
   "language": "python",
   "name": "python3"
  },
  "language_info": {
   "codemirror_mode": {
    "name": "ipython",
    "version": 3
   },
   "file_extension": ".py",
   "mimetype": "text/x-python",
   "name": "python",
   "nbconvert_exporter": "python",
   "pygments_lexer": "ipython3",
   "version": "3.11.9"
  }
 },
 "nbformat": 4,
 "nbformat_minor": 2
}
