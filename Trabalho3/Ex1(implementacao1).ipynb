{
 "cells": [
  {
   "cell_type": "markdown",
   "metadata": {},
   "source": [
    "# Trabalho Prático 3  #\n",
    "#### André Freitas PG54707 ####\n",
    "#### Bruna Macieira PG54467 ####"
   ]
  },
  {
   "cell_type": "markdown",
   "metadata": {
    "vscode": {
     "languageId": "plaintext"
    }
   },
   "source": [
    "## Exercício 1"
   ]
  },
  {
   "cell_type": "markdown",
   "metadata": {},
   "source": [
    "No capítulo 5 dos apontamentos é descrito o chamado Hidden Number Problem. No capítulo 8 dos apontamentos é discutida um artigo de  Nguyen & Shparlinsk , onde se propõem reduções do HNP a problemas difíceis em reticulados. Neste trabalho pretende-se construir, com a ajuda do Sagemath, uma implementação da solução discutida nos apontamentos para resolver o HNP com soluções aproximadas dos problemas em reticulados."
   ]
  },
  {
   "cell_type": "code",
   "execution_count": 45,
   "metadata": {},
   "outputs": [
    {
     "name": "stdout",
     "output_type": "stream",
     "text": [
      "Defaulting to user installation because normal site-packages is not writeable\n",
      "Requirement already satisfied: sagemath-standard in /usr/lib/python3/dist-packages (9.5)\n",
      "Requirement already satisfied: cysignals>=1.10.2 in /home/fura/.sage/local/lib/python3.10/site-packages (from sagemath-standard) (1.11.4)\n",
      "Note: you may need to restart the kernel to use updated packages.\n"
     ]
    }
   ],
   "source": [
    "%pip install sagemath-standard\n",
    "from sage.all import *\n",
    "import copy"
   ]
  },
  {
   "cell_type": "markdown",
   "metadata": {},
   "source": [
    "Etapa 1: Construção da matriz 𝐺."
   ]
  },
  {
   "cell_type": "code",
   "execution_count": 46,
   "metadata": {},
   "outputs": [],
   "source": [
    "def build_G_matrix(p, x_values, A, u_values, M, B):\n",
    "    n = len(x_values)\n",
    "    m = n + 2\n",
    "    G = Matrix(QQ, m, m)\n",
    "\n",
    "    # Preenchendo os elementos de G\n",
    "    for i in range(m):\n",
    "        for j in range(m):\n",
    "            if i < n and j < n:\n",
    "                G[i, j] = p if i == j else 0\n",
    "            elif i == n:\n",
    "                G[i, j] = x_values[j] if j < n else A if j == n else 0\n",
    "            elif i == n + 1:\n",
    "                G[i, j] = -B * u_values[j] if j < n else 0 if j == n else M\n",
    "    print(\"G:\", G)\n",
    "\n",
    "    return G"
   ]
  },
  {
   "cell_type": "markdown",
   "metadata": {},
   "source": [
    "Etapa 2: Construção do vetor alvo 𝑦."
   ]
  },
  {
   "cell_type": "code",
   "execution_count": 47,
   "metadata": {},
   "outputs": [],
   "source": [
    "def build_y_vector(u_values, B, M):\n",
    "    n = len(u_values)\n",
    "    y = [B * u for u in u_values] + [0, M]  # Construindo o vetor y\n",
    "    print(\"y:\", vector(y))\n",
    "\n",
    "    return vector(y)"
   ]
  },
  {
   "cell_type": "markdown",
   "metadata": {},
   "source": [
    "Etapa 3: Resolução do Problema do Menor Vetor em uma Reticulado (BDD)."
   ]
  },
  {
   "cell_type": "code",
   "execution_count": 48,
   "metadata": {},
   "outputs": [],
   "source": [
    "# Função para resolver o BDD\n",
    "def solve_BDD(G, y, B):\n",
    "    # Construindo o reticulado e reduzindo a base\n",
    "    L = Matrix(G).LLL()\n",
    "\n",
    "    # Convertendo y para um vetor de SageMath\n",
    "    y_vector = vector(y)\n",
    "\n",
    "    # Calculando o ponto mais próximo de y no reticulado\n",
    "    closest_point = L * y_vector\n",
    "\n",
    "    # Arredondando o ponto mais próximo\n",
    "    rounded_point = vector(ZZ, [round(coord) for coord in closest_point])\n",
    "\n",
    "    print(\"G:\", Matrix(G))\n",
    "\n",
    "    print(\"L:\", L)\n",
    "    print(\"y:\", y_vector)  \n",
    "    print(\"Ponto mais próximo:\", closest_point)\n",
    "    print(\"Ponto arredondado:\", rounded_point)\n",
    "    print(\"Distância:\", vector(rounded_point - y_vector).norm())\n",
    "    print(\"B:\", B)\n",
    "    # Verificando se a distância é menor que B\n",
    "    if vector(rounded_point - y_vector).norm() <= B:\n",
    "        return rounded_point\n",
    "    else:\n",
    "        return None"
   ]
  },
  {
   "cell_type": "markdown",
   "metadata": {},
   "source": [
    "Etapa 4: Recuperação do segredo 𝑠 a partir do vetor solução."
   ]
  },
  {
   "cell_type": "code",
   "execution_count": 49,
   "metadata": {},
   "outputs": [],
   "source": [
    "def recover_secret(reduced_matrix, lambda_value):\n",
    "    # Extraindo a última componente do vetor solução\n",
    "    e_n_plus_1 = reduced_matrix[-1][-2]\n",
    "\n",
    "    # Arredondando para obter o valor de s\n",
    "    s = round(lambda_value * e_n_plus_1)\n",
    "\n",
    "    return s"
   ]
  },
  {
   "cell_type": "markdown",
   "metadata": {},
   "source": [
    "Etapa 5: Avaliação da precisão da solução."
   ]
  },
  {
   "cell_type": "code",
   "execution_count": 50,
   "metadata": {},
   "outputs": [],
   "source": [
    "# Função para avaliar a precisão da solução\n",
    "def evaluate_solution(y, x_values, s, p, B):\n",
    "    # Calculando o vetor obtido a partir do segredo recuperado\n",
    "    y_obtained = vector([s * xi % p for xi in x_values] + [0, 0])\n",
    "\n",
    "    # Calculando a distância entre y e y_obtained\n",
    "    distance = vector(y - y_obtained).norm()\n",
    "\n",
    "    # Verificando se a distância é menor ou igual a B\n",
    "    if distance <= B:\n",
    "        return True, distance\n",
    "    else:\n",
    "        return False, distance"
   ]
  },
  {
   "cell_type": "markdown",
   "metadata": {},
   "source": [
    "Definir os parâmetros a usar para resolver"
   ]
  },
  {
   "cell_type": "code",
   "execution_count": 51,
   "metadata": {},
   "outputs": [],
   "source": [
    "k = 3  # Definindo o valor de k\n",
    "lambda_value = 2**k  # Calculando o valor de lambda\n",
    "\n",
    "# Parâmetros do problema\n",
    "p = next_prime(1457)  # Primo p\n",
    "x_values = [2, 1, 1, 2, 0]  # Valores xi\n",
    "u_values = [1, 1, 0, 2, 3]  # Valores ui\n",
    "A = 1/lambda_value  # Valor A é 1/lambda\n",
    "B = p/lambda_value # Parâmetro B é p/lambda\n",
    "M = 10^6  # Valor M"
   ]
  },
  {
   "cell_type": "code",
   "execution_count": 52,
   "metadata": {},
   "outputs": [
    {
     "name": "stdout",
     "output_type": "stream",
     "text": [
      "G: [   1459       0       0       0       0       0       0]\n",
      "[      0    1459       0       0       0       0       0]\n",
      "[      0       0    1459       0       0       0       0]\n",
      "[      0       0       0    1459       0       0       0]\n",
      "[      0       0       0       0    1459       0       0]\n",
      "[      2       1       1       2       0     1/8       0]\n",
      "[-1459/8 -1459/8       0 -1459/4 -4377/8       0 1000000]\n"
     ]
    }
   ],
   "source": [
    "# Construindo a matriz G\n",
    "G = build_G_matrix(p, x_values, A, u_values, M, B)"
   ]
  },
  {
   "cell_type": "code",
   "execution_count": 53,
   "metadata": {},
   "outputs": [
    {
     "name": "stdout",
     "output_type": "stream",
     "text": [
      "y: (1459/8, 1459/8, 0, 1459/4, 4377/8, 0, 1000000)\n"
     ]
    }
   ],
   "source": [
    "# Construindo o vetor alvo y\n",
    "y = build_y_vector(u_values, B, M)"
   ]
  },
  {
   "cell_type": "code",
   "execution_count": 54,
   "metadata": {},
   "outputs": [
    {
     "name": "stdout",
     "output_type": "stream",
     "text": [
      "G: [   1459       0       0       0       0       0       0]\n",
      "[      0    1459       0       0       0       0       0]\n",
      "[      0       0    1459       0       0       0       0]\n",
      "[      0       0       0    1459       0       0       0]\n",
      "[      0       0       0       0    1459       0       0]\n",
      "[      2       1       1       2       0     1/8       0]\n",
      "[-1459/8 -1459/8       0 -1459/4 -4377/8       0 1000000]\n",
      "L: [      2       1       1       2       0     1/8       0]\n",
      "[      4       2       2       4       0 -1457/8       0]\n",
      "[    293    -583    -583     293       0  -583/8       0]\n",
      "[    877    -291    -291    -582       0  -291/8       0]\n",
      "[      3     731    -728       3       0     -91       0]\n",
      "[      0       0       0       0    1459       0       0]\n",
      "[  573/8  -443/8     127  -443/4 -4377/8   127/8 1000000]\n",
      "y: (1459/8, 1459/8, 0, 1459/4, 4377/8, 0, 1000000)\n",
      "Ponto mais próximo: (10213/8, 10213/4, 53983, -421651/4, 269915/2, 6386043/8, 63999978446193/64)\n",
      "Ponto arredondado: (1277, 2553, 53983, -105413, 134958, 798255, 999999663222)\n",
      "Distância: 3/8*sqrt(7111092099174800801168911)\n",
      "B: 1459/8\n",
      "Solution: None\n"
     ]
    }
   ],
   "source": [
    "# Resolvendo o BDD\n",
    "solution = solve_BDD(G, y, B)\n",
    "print(\"Solution:\", solution)"
   ]
  },
  {
   "cell_type": "code",
   "execution_count": 55,
   "metadata": {},
   "outputs": [
    {
     "name": "stdout",
     "output_type": "stream",
     "text": [
      "Não foi possível encontrar uma solução dentro do limite B.\n"
     ]
    }
   ],
   "source": [
    "# Verificando se a solução foi encontrada\n",
    "if solution:\n",
    "    # Recuperando o segredo\n",
    "    s = recover_secret(solution, A)\n",
    "\n",
    "    # Avaliando a precisão da solução\n",
    "    is_within_limit, distance = evaluate_solution(y, x_values, s, p, B)\n",
    "\n",
    "    # Exibindo resultados\n",
    "    if is_within_limit:\n",
    "        print(\"Solução encontrada dentro do limite B.\")\n",
    "        print(\"Segredo recuperado:\", s)\n",
    "        print(\"Distância entre y e y_obtained:\", distance)\n",
    "    else:\n",
    "        print(\"Solução encontrada, mas está fora do limite B.\")\n",
    "        print(\"Segredo recuperado:\", s)\n",
    "        print(\"Distância entre y e y_obtained:\", distance)\n",
    "else:\n",
    "    print(\"Não foi possível encontrar uma solução dentro do limite B.\")"
   ]
  }
 ],
 "metadata": {
  "kernelspec": {
   "display_name": "SageMath 9.5",
   "language": "sage",
   "name": "sagemath"
  },
  "language_info": {
   "codemirror_mode": {
    "name": "ipython",
    "version": 3
   },
   "file_extension": ".py",
   "mimetype": "text/x-python",
   "name": "python",
   "nbconvert_exporter": "python",
   "pygments_lexer": "ipython3",
   "version": "3.10.12"
  }
 },
 "nbformat": 4,
 "nbformat_minor": 2
}
