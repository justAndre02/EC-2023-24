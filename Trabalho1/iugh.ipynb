{
 "cells": [
  {
   "cell_type": "code",
   "execution_count": 52,
   "metadata": {},
   "outputs": [],
   "source": [
    "import asyncio\n",
    "import os\n",
    "import ascon\n",
    "from cryptography.hazmat.primitives.asymmetric import x25519\n",
    "from cryptography.hazmat.primitives import serialization, hashes\n",
    "from cryptography.hazmat.primitives.kdf.hkdf import HKDF\n",
    "from cryptography.hazmat.backends import default_backend\n",
    "from cryptography.hazmat.primitives.ciphers import Cipher, algorithms, modes\n",
    "from secrets import token_bytes"
   ]
  },
  {
   "cell_type": "code",
   "execution_count": 53,
   "metadata": {},
   "outputs": [],
   "source": [
    "class AsconCipher:\n",
    "    def __init__(self, key):\n",
    "        self.key = key\n",
    "\n",
    "    def encrypt(self, nonce, plaintext, associated_data):\n",
    "        return ascon.ascon_encrypt(self.key, nonce, associated_data, plaintext, variant='Ascon-128')\n",
    "\n",
    "    def decrypt(self, nonce, ciphertext, associated_data):\n",
    "        return ascon.ascon_decrypt(self.key, nonce, associated_data, ciphertext, variant='Ascon-128')"
   ]
  },
  {
   "cell_type": "code",
   "execution_count": 54,
   "metadata": {},
   "outputs": [],
   "source": [
    "async def handle_client(reader, writer):\n",
    "    private_key = x25519.X25519PrivateKey.generate()\n",
    "    public_key = private_key.public_key().public_bytes(serialization.Encoding.Raw, serialization.PublicFormat.Raw)\n",
    "\n",
    "    writer.write(public_key)\n",
    "    await writer.drain()\n",
    "\n",
    "    peer_public_key_bytes = await reader.read(32)\n",
    "    peer_public_key = x25519.X25519PublicKey.from_public_bytes(peer_public_key_bytes)\n",
    "\n",
    "    shared_key = private_key.exchange(peer_public_key)\n",
    "\n",
    "    # Derive keys using HKDF\n",
    "    derived_key_material = HKDF(\n",
    "        algorithm=hashes.SHA256(),\n",
    "        length=64,\n",
    "        salt=None,\n",
    "        info=b'handshake data',\n",
    "        backend=default_backend()\n",
    "    ).derive(shared_key)\n",
    "\n",
    "    cipher_key = derived_key_material[:32]\n",
    "\n",
    "    cipher = AsconCipher(cipher_key)\n",
    "\n",
    "    while True:\n",
    "        nonce = await reader.readexactly(16)\n",
    "        ciphertext = await reader.readuntil(separator=b'|')\n",
    "        tag = await reader.readexactly(16)\n",
    "        associated_data = await reader.readuntil(separator=b'||')\n",
    "        plaintext = cipher.decrypt(nonce, ciphertext, tag, associated_data)\n",
    "\n",
    "        writer.write(plaintext)\n",
    "        await writer.drain()"
   ]
  },
  {
   "cell_type": "code",
   "execution_count": 55,
   "metadata": {},
   "outputs": [],
   "source": [
    "async def main():\n",
    "    server = await asyncio.start_server(\n",
    "        handle_client, '127.0.0.1', 8888)\n",
    "\n",
    "    addr = server.sockets[0].getsockname()\n",
    "    print(f'Serving on {addr}')\n",
    "\n",
    "    async with server:\n",
    "        await server.serve_forever()"
   ]
  },
  {
   "cell_type": "code",
   "execution_count": 56,
   "metadata": {},
   "outputs": [],
   "source": [
    "async def send_public_key(writer):\n",
    "    private_key = x25519.X25519PrivateKey.generate()\n",
    "    public_key = private_key.public_key().public_bytes(serialization.Encoding.Raw, serialization.PublicFormat.Raw)\n",
    "    writer.write(public_key)\n",
    "    await writer.drain()"
   ]
  },
  {
   "cell_type": "code",
   "execution_count": 57,
   "metadata": {},
   "outputs": [],
   "source": [
    "async def send_message():\n",
    "    while True:\n",
    "        try:\n",
    "            message = input(\"Enter message to send (or 'quit' to exit): \")\n",
    "            if message.lower() == 'quit':\n",
    "                break\n",
    "            \n",
    "            reader, writer = await asyncio.open_connection('127.0.0.1', 8888)\n",
    "\n",
    "            # Send public key\n",
    "            await send_public_key(writer)\n",
    "\n",
    "            # Encrypt and send message\n",
    "            writer.write(message.encode())\n",
    "            await writer.drain()\n",
    "\n",
    "            # Receive and decrypt response\n",
    "            data = await reader.read(1024)  # Increased buffer size for receiving data\n",
    "            print(f\"Received message from server: {data.decode('utf-8', 'ignore')}\")  # Decode using UTF-8\n",
    "\n",
    "            writer.close()\n",
    "            await writer.wait_closed()\n",
    "        except KeyboardInterrupt:\n",
    "            print(\"Exiting client...\")\n",
    "            break"
   ]
  },
  {
   "cell_type": "code",
   "execution_count": 58,
   "metadata": {},
   "outputs": [
    {
     "name": "stderr",
     "output_type": "stream",
     "text": [
      "Task exception was never retrieved\n",
      "future: <Task finished name='Task-25' coro=<main() done, defined at C:\\Users\\bruna\\AppData\\Local\\Temp\\ipykernel_20596\\3117860583.py:1> exception=OSError(10048, \"error while attempting to bind on address ('127.0.0.1', 8888): normalmente só é permitido uma utilização de cada endereço de socket (protocolo/endereço de rede/porta)\")>\n",
      "Traceback (most recent call last):\n",
      "  File \"C:\\Users\\bruna\\AppData\\Local\\Temp\\ipykernel_20596\\3117860583.py\", line 2, in main\n",
      "    server = await asyncio.start_server(\n",
      "             ^^^^^^^^^^^^^^^^^^^^^^^^^^^\n",
      "  File \"C:\\Program Files\\WindowsApps\\PythonSoftwareFoundation.Python.3.11_3.11.2288.0_x64__qbz5n2kfra8p0\\Lib\\asyncio\\streams.py\", line 84, in start_server\n",
      "    return await loop.create_server(factory, host, port, **kwds)\n",
      "           ^^^^^^^^^^^^^^^^^^^^^^^^^^^^^^^^^^^^^^^^^^^^^^^^^^^^^\n",
      "  File \"C:\\Program Files\\WindowsApps\\PythonSoftwareFoundation.Python.3.11_3.11.2288.0_x64__qbz5n2kfra8p0\\Lib\\asyncio\\base_events.py\", line 1536, in create_server\n",
      "    raise OSError(err.errno, msg) from None\n",
      "OSError: [Errno 10048] error while attempting to bind on address ('127.0.0.1', 8888): normalmente só é permitido uma utilização de cada endereço de socket (protocolo/endereço de rede/porta)\n"
     ]
    }
   ],
   "source": [
    "task = asyncio.create_task(main())"
   ]
  },
  {
   "cell_type": "code",
   "execution_count": 59,
   "metadata": {},
   "outputs": [
    {
     "ename": "NameError",
     "evalue": "name 'ascon_encrypt' is not defined",
     "output_type": "error",
     "traceback": [
      "\u001b[1;31m---------------------------------------------------------------------------\u001b[0m",
      "\u001b[1;31mNameError\u001b[0m                                 Traceback (most recent call last)",
      "Cell \u001b[1;32mIn[59], line 1\u001b[0m\n\u001b[1;32m----> 1\u001b[0m \u001b[38;5;28;01mawait\u001b[39;00m asyncio\u001b[38;5;241m.\u001b[39mcreate_task(send_message())\n",
      "Cell \u001b[1;32mIn[57], line 15\u001b[0m, in \u001b[0;36msend_message\u001b[1;34m()\u001b[0m\n\u001b[0;32m     13\u001b[0m \u001b[38;5;66;03m# Encrypt and send message\u001b[39;00m\n\u001b[0;32m     14\u001b[0m nonce \u001b[38;5;241m=\u001b[39m os\u001b[38;5;241m.\u001b[39murandom(\u001b[38;5;241m16\u001b[39m)\n\u001b[1;32m---> 15\u001b[0m ciphertext \u001b[38;5;241m=\u001b[39m \u001b[43mascon_encrypt\u001b[49m(cipher_key, nonce, \u001b[38;5;124mb\u001b[39m\u001b[38;5;124m\"\u001b[39m\u001b[38;5;124m\"\u001b[39m, message\u001b[38;5;241m.\u001b[39mencode())\n\u001b[0;32m     16\u001b[0m writer\u001b[38;5;241m.\u001b[39mwrite(nonce \u001b[38;5;241m+\u001b[39m ciphertext \u001b[38;5;241m+\u001b[39m \u001b[38;5;124mb\u001b[39m\u001b[38;5;124m'\u001b[39m\u001b[38;5;124m|\u001b[39m\u001b[38;5;124m'\u001b[39m \u001b[38;5;241m+\u001b[39m \u001b[38;5;124mb\u001b[39m\u001b[38;5;124m'\u001b[39m\u001b[38;5;124m||\u001b[39m\u001b[38;5;124m'\u001b[39m)\n\u001b[0;32m     17\u001b[0m \u001b[38;5;28;01mawait\u001b[39;00m writer\u001b[38;5;241m.\u001b[39mdrain()\n",
      "\u001b[1;31mNameError\u001b[0m: name 'ascon_encrypt' is not defined"
     ]
    }
   ],
   "source": [
    "await asyncio.create_task(send_message())"
   ]
  }
 ],
 "metadata": {
  "kernelspec": {
   "display_name": "Python 3",
   "language": "python",
   "name": "python3"
  },
  "language_info": {
   "codemirror_mode": {
    "name": "ipython",
    "version": 3
   },
   "file_extension": ".py",
   "mimetype": "text/x-python",
   "name": "python",
   "nbconvert_exporter": "python",
   "pygments_lexer": "ipython3",
   "version": "0.0.0"
  }
 },
 "nbformat": 4,
 "nbformat_minor": 2
}
