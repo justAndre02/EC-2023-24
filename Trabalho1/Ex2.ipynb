{
 "cells": [
  {
   "cell_type": "markdown",
   "metadata": {},
   "source": [
    "# Trabalho Prático 1  #\n",
    "#### André Freitas PG54707 ####\n",
    "#### Bruna Macieira PG54467 ####"
   ]
  },
  {
   "cell_type": "markdown",
   "metadata": {},
   "source": [
    "### Exercício 2.\n",
    " Use o “package” Cryptography para\n",
    "1. Implementar uma AEAD com “Tweakable Block Ciphers” conforme está descrito na última secção do texto \"Capítulo 1: Primitivas Criptográficas Básicas\".  A cifra por blocos primitiva, usada para gerar a “tweakable block cipher”, é o AES-256 ou o ChaCha20.\n",
    "2. Use esta cifra para construir um canal privado de informação assíncrona com acordo de chaves feito com “X448 key exchange” e “Ed448 Signing&Verification” para autenticação  dos agentes. Deve incluir uma fase de confirmação da chave acordada.\n",
    "\n",
    "O pacote Cryptography é uma biblioteca Python que fornece fórmulas criptográficas e primitivas para programadores. O uso deste pacote serve para implementar uma AEAD com “Tweakable Block Ciphers”. \n",
    "\n",
    "AEAD (Authenticated Encryption with Associated Data) é um esquema de criptografia que simultaneamente assegura a confidencialidade dos dados (também conhecida como privacidade: a mensagem criptografada é impossível de entender sem o conhecimento de uma chave secreta) e a autenticidade (ou seja, é inalterável: a mensagem criptografada inclui uma etiqueta de autenticação que o remetente só pode calcular possuindo a chave secreta)."
   ]
  },
  {
   "cell_type": "code",
   "execution_count": 1,
   "metadata": {},
   "outputs": [],
   "source": [
    "import os\n",
    "import cryptography\n",
    "import secrets"
   ]
  },
  {
   "cell_type": "code",
   "execution_count": 2,
   "metadata": {},
   "outputs": [],
   "source": [
    "from cryptography.hazmat.primitives.ciphers import Cipher, algorithms, modes\n",
    "from cryptography.hazmat.backends import default_backend\n",
    "from cryptography.hazmat.primitives import hashes, hmac\n",
    "from cryptography.hazmat.primitives import padding\n",
    "from cryptography.hazmat.primitives.kdf.pbkdf2 import PBKDF2HMAC\n",
    "from cryptography.hazmat.primitives import serialization\n",
    "from cryptography.hazmat.primitives.asymmetric import x448, ed448\n",
    "from secrets import token_bytes"
   ]
  },
  {
   "cell_type": "markdown",
   "metadata": {},
   "source": [
    "A classe TweakableChaCha20AEAD implementa uma versão ajustável do algoritmo ChaCha20 para criptografia autenticada com dados associados (AEAD). Essa classe é feita para fornecer confidencialidade e integridade aos dados transmitidos.\n",
    "\n",
    "\\__init\\__(self, key, tweak): Inicializa o cifrador com uma chave de 256 bits (chave) e um valor de ajuste (tweak). A chave é truncada para 256 bits se for mais longa.\n",
    "Tem como métodos:\n",
    "\n",
    "   1. encrypt(self, plaintext, associated_data, nonce): Criptografa o plaintext fornecido junto com os dados associados usando o ChaCha20 e gera uma tag (etiqueta) de autenticação usando HMAC-SHA256. Retorna o texto cifrado e a tag.\n",
    "\n",
    "   2. decrypt(self, cyphertext, tag, associated_data, nonce): Descriptografa o texto cifrado fornecido e verifica a autenticidade usando os dados associados e HMAC-SHA256. Retorna o plaintext descriptografado."
   ]
  },
  {
   "cell_type": "code",
   "execution_count": 3,
   "metadata": {},
   "outputs": [],
   "source": [
    "class TweakableChaCha20AEAD:\n",
    "    def __init__(self, key, tweak):\n",
    "        self.key = key[:32]  # Ensure key is 32 bytes (256 bits)\n",
    "        self.tweak = tweak\n",
    "\n",
    "    def encrypt(self, plaintext, associated_data, nonce):\n",
    "        # Create a ChaCha20 cipher with the tweaked key\n",
    "        nonce = token_bytes(16)  # Generate nonce\n",
    "        cipher = Cipher(algorithms.ChaCha20(self.key, nonce), mode=None, backend=default_backend())\n",
    "        encryptor = cipher.encryptor()\n",
    "\n",
    "        # Encrypt the plaintext\n",
    "        ciphertext = encryptor.update(plaintext) + encryptor.finalize()\n",
    "\n",
    "        # Generate a tag using HMAC with associated data\n",
    "        h = hmac.HMAC(self.key, hashes.SHA256(), backend=default_backend())\n",
    "        h.update(associated_data)\n",
    "        h.update(ciphertext)\n",
    "        tag = h.finalize()\n",
    "\n",
    "        return ciphertext, tag\n",
    "\n",
    "    def decrypt(self, ciphertext, tag, associated_data, nonce):\n",
    "        # Create a ChaCha20 cipher with the tweaked key\n",
    "        nonce = token_bytes(16)  # Generate nonce\n",
    "        cipher = Cipher(algorithms.ChaCha20(self.key, nonce), mode=None, backend=default_backend())\n",
    "        decryptor = cipher.decryptor()\n",
    "\n",
    "        # Decrypt the ciphertext\n",
    "        plaintext = decryptor.update(ciphertext) + decryptor.finalize()\n",
    "\n",
    "        # Verify the tag using HMAC with associated data\n",
    "        h = hmac.HMAC(self.key, hashes.SHA256(), backend=default_backend())\n",
    "        h.update(associated_data)\n",
    "        h.update(ciphertext)\n",
    "        h.verify(tag)\n",
    "\n",
    "        return plaintext"
   ]
  },
  {
   "cell_type": "markdown",
   "metadata": {},
   "source": [
    "A classe KeyExchange implementa o algoritmo de troca de chaves X448, permitindo que duas partes estabeleçam um segredo compartilhado de maneira segura.\n",
    "\n",
    "\n",
    " \\__init__\\(self): Gera pares de chaves privadas e públicas para dois agentes (agente1 e agente2) usando X448.\n",
    "Tem como método:\n",
    "\n",
    "   1. perform_key_exchange(self, private_key, public_key): Realiza a troca de chaves entre uma chave privada e uma chave pública. Retorna o segredo partilhado."
   ]
  },
  {
   "cell_type": "code",
   "execution_count": 4,
   "metadata": {},
   "outputs": [],
   "source": [
    "# Define a class for key exchange\n",
    "class KeyExchange:\n",
    "    def __init__(self):\n",
    "        # Generate private and public keys for agent 1\n",
    "        self.agent1_private_key = x448.X448PrivateKey.generate()\n",
    "        self.agent1_public_key = self.agent1_private_key.public_key()\n",
    "\n",
    "        # Generate private and public keys for agent 2\n",
    "        self.agent2_private_key = x448.X448PrivateKey.generate()\n",
    "        self.agent2_public_key = self.agent2_private_key.public_key()\n",
    "\n",
    "    def perform_key_exchange(self, private_key, public_key):\n",
    "        # Perform key exchange between a private key and a public key\n",
    "        shared_secret = private_key.exchange(public_key)\n",
    "        return shared_secret"
   ]
  },
  {
   "cell_type": "markdown",
   "metadata": {},
   "source": [
    "A classe SigningVerification implementa o esquema de assinatura digital Ed448 para assinatura e verificação de mensagens.\n",
    "\n",
    "\\__init__\\(self): Gera pares de chaves privadas e públicas para dois agentes (agente1 e agente2) usando Ed448.\n",
    "Tem como métodos:\n",
    "\n",
    "1. sign(self, private_key, data): Assina os dados fornecidos usando a chave privada e retorna a assinatura.\n",
    "\n",
    "2. verify(self, public_key, signature, data): Verifica a assinatura fornecida em relação aos dados usando a chave pública. Retorna True se a verificação for bem sucedida; caso contrário, imprime uma mensagem de erro e retorna False."
   ]
  },
  {
   "cell_type": "code",
   "execution_count": 5,
   "metadata": {},
   "outputs": [],
   "source": [
    "# Define a class for signing and verification of messages\n",
    "class SigningVerification:\n",
    "    def __init__(self):\n",
    "        # Generate private and public keys for agent 1\n",
    "        self.agent1_private_key = ed448.Ed448PrivateKey.generate()\n",
    "        self.agent1_public_key = self.agent1_private_key.public_key()\n",
    "\n",
    "        # Generate private and public keys for agent 2\n",
    "        self.agent2_private_key = ed448.Ed448PrivateKey.generate()\n",
    "        self.agent2_public_key = self.agent2_private_key.public_key()\n",
    "\n",
    "    def sign(self, private_key, data):\n",
    "        # Sign the data using the private key\n",
    "        signature = private_key.sign(data)\n",
    "        return signature\n",
    "\n",
    "    def verify(self, public_key, signature, data):\n",
    "        try:\n",
    "            # Verify the signature using the public key\n",
    "            public_key.verify(signature, data)\n",
    "            return True\n",
    "        except Exception as e:\n",
    "            print(f\"Verification failed: {e}\")\n",
    "            return False"
   ]
  },
  {
   "cell_type": "markdown",
   "metadata": {},
   "source": [
    "Duas instâncias são criadas: uma para a troca de chaves (key_exchange) e outra para a verificação de assinaturas (signing_verification), de modo a inicializar o canal assimétrico."
   ]
  },
  {
   "cell_type": "code",
   "execution_count": 6,
   "metadata": {},
   "outputs": [],
   "source": [
    "key_exchange = KeyExchange()\n",
    "signing_verification = SigningVerification()"
   ]
  },
  {
   "cell_type": "markdown",
   "metadata": {},
   "source": [
    "Os agentes 1 e 2 realizam a troca de chaves X448, gerando segredos partilhados (shared_secret1 e shared_secret2).\n",
    "No final, verifica se os segredos partilhados dos dois agentes são iguais."
   ]
  },
  {
   "cell_type": "code",
   "execution_count": 7,
   "metadata": {},
   "outputs": [
    {
     "name": "stdout",
     "output_type": "stream",
     "text": [
      "Shared secrets match: True\n"
     ]
    }
   ],
   "source": [
    "# Agent 1 performs key exchange\n",
    "shared_secret1 = key_exchange.perform_key_exchange(key_exchange.agent1_private_key, key_exchange.agent2_public_key)\n",
    "\n",
    "# Agent 2 performs key exchange\n",
    "shared_secret2 = key_exchange.perform_key_exchange(key_exchange.agent2_private_key, key_exchange.agent1_public_key)\n",
    "\n",
    "# Check if both shared secrets match\n",
    "print(\"Shared secrets match:\", shared_secret1 == shared_secret2)"
   ]
  },
  {
   "cell_type": "markdown",
   "metadata": {},
   "source": [
    "Os segredos partilhados são usados para derivar chaves de criptografia e autenticação."
   ]
  },
  {
   "cell_type": "code",
   "execution_count": 8,
   "metadata": {},
   "outputs": [],
   "source": [
    "# Convert shared secrets to bytes for encryption key\n",
    "encryption_key = shared_secret1\n",
    "authentication_key = shared_secret2"
   ]
  },
  {
   "cell_type": "markdown",
   "metadata": {},
   "source": [
    "Uma instância da classe TweakableChaCha20AEAD é inicializada com as chaves derivadas."
   ]
  },
  {
   "cell_type": "code",
   "execution_count": 9,
   "metadata": {},
   "outputs": [],
   "source": [
    "# Initialize the TweakableChaCha20AEAD with the encryption key and authentication key\n",
    "tweakable_cipher = TweakableChaCha20AEAD(encryption_key, authentication_key)"
   ]
  },
  {
   "cell_type": "markdown",
   "metadata": {},
   "source": [
    "A mensagem (plaintext) é então criptografada através do método encrypt (tweakable_cipher) e o texto cifrado (ciphertext) e a etiqueta de autenticação (tag), juntamente com o plaintext, são impressos."
   ]
  },
  {
   "cell_type": "code",
   "execution_count": 10,
   "metadata": {},
   "outputs": [
    {
     "name": "stdout",
     "output_type": "stream",
     "text": [
      "Plaintext: b'Hello, World!'\n",
      "Ciphertext: b'B\\x11\\x8c\\xca\\xa4\\xe4\\xbf\\xe3]B4\\xfd\\x97'\n",
      "Tag: b'X\\x9b\\x01\\xb7\\xb1\"Fq\\x0eUZ\\x16\\x95X]\\xff\\x8b\\x1cR\\xc9\\x05y2R\\xe8\\xef\\x8c>U}\\x94\\xb2'\n"
     ]
    }
   ],
   "source": [
    "# Encrypt\n",
    "plaintext = b'Hello, World!'\n",
    "associated_data = b'This is associated data'\n",
    "nonce = token_bytes(16)  # Generate nonce\n",
    "ciphertext, tag = tweakable_cipher.encrypt(plaintext, associated_data, nonce)\n",
    "print(\"Plaintext:\", plaintext)\n",
    "print(\"Ciphertext:\", ciphertext)\n",
    "print(\"Tag:\", tag)"
   ]
  },
  {
   "cell_type": "markdown",
   "metadata": {},
   "source": [
    "A mensagem é descriptografada com o decrypt da tweakable_cipher. Se a descriptografia for bem sucedida, o plaintext é impresso. Se houver um erro de decodificação Unicode, a mensagem descriptografada é impressa como bytes."
   ]
  },
  {
   "cell_type": "code",
   "execution_count": 11,
   "metadata": {},
   "outputs": [
    {
     "name": "stdout",
     "output_type": "stream",
     "text": [
      "Decrypted plaintext (as bytes): b'\\x1a\\x9e\\xeaAT\\x9a\\xban\\x9a\\x14\\xb0\\x80\\xcc'\n"
     ]
    }
   ],
   "source": [
    "try:\n",
    "    decrypted_plaintext = tweakable_cipher.decrypt(ciphertext, tag, associated_data, nonce)\n",
    "    print(\"Decrypted plaintext:\", decrypted_plaintext.decode('utf-8'))\n",
    "except UnicodeDecodeError:\n",
    "    print(\"Decrypted plaintext (as bytes):\", decrypted_plaintext)"
   ]
  },
  {
   "cell_type": "markdown",
   "metadata": {},
   "source": [
    "Finalmente, o agente 1 assina a mensagem e o agente 2 verifica a assinatura, através dos métodos sign e verify da signing_verification, respetivamente."
   ]
  },
  {
   "cell_type": "code",
   "execution_count": 12,
   "metadata": {},
   "outputs": [
    {
     "name": "stdout",
     "output_type": "stream",
     "text": [
      "Signature verified: True\n"
     ]
    }
   ],
   "source": [
    "# Agent 1 signs a message\n",
    "message = b'This is a message.'\n",
    "signature = signing_verification.sign(signing_verification.agent1_private_key, message)\n",
    "\n",
    "# Agent 2 verifies the signature\n",
    "print(\"Signature verified:\", signing_verification.verify(signing_verification.agent1_public_key, signature, message))"
   ]
  }
 ],
 "metadata": {
  "kernelspec": {
   "display_name": "Python 3",
   "language": "python",
   "name": "python3"
  },
  "language_info": {
   "codemirror_mode": {
    "name": "ipython",
    "version": 3
   },
   "file_extension": ".py",
   "mimetype": "text/x-python",
   "name": "python",
   "nbconvert_exporter": "python",
   "pygments_lexer": "ipython3",
   "version": "3.11.5"
  }
 },
 "nbformat": 4,
 "nbformat_minor": 2
}
