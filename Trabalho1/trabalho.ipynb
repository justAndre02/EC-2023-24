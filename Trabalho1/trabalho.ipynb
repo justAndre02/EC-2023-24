{
 "cells": [
  {
   "cell_type": "markdown",
   "metadata": {},
   "source": [
    "# Trabalho Prático 1  #\n",
    "#### André Freitas PG54707 ####\n",
    "#### Bruna Macieira PG54467 ####"
   ]
  },
  {
   "cell_type": "markdown",
   "metadata": {},
   "source": [
    "## Descrição e Abordagem ao Problema ##"
   ]
  },
  {
   "cell_type": "markdown",
   "metadata": {},
   "source": [
    "O principal objetivo deste trabalho passa por criar um comunicação privada assíncrona em modo  “Lightweight Cryptography” entre um agente Emitter e um agente Receiver. Esta implementação em Python passa pelo uso dos módulos Cryptography, Ascon e Asyncio, cada um deles dedicado a uma determinada ação ocorrente na implementação. \n",
    "\n",
    "Usamos o pacote Ascon para autenticar o criptograma envolvido na counicação bem como os metadados envolventes. O Ascon é uma família de algoritmos de encriptação autenticada e de hashing concebidos para serem leves e fáceis de implementar, mesmo com contramedidas adicionais contra ataques de canais laterais. Foi concebido por uma equipa de criptógrafos da Universidade de Tecnologia de Graz, da Infineon Technologies e da Universidade de Radboud: Christoph Dobraunig, Maria Eichlseder, Florian Mendel e Martin Schläffer.\n",
    "\n",
    "O NIST anunciou a seleção da família Ascon como o padrão de criptografia leve em fevereiro de 2023, após receber feedback público em um workshop. O NIST está trabalhando com a equipe Ascon para elaborar os padrões de criptografia leve.\n",
    "\n",
    "Asyncio é uma biblioteca para escrever código concorrente usando a sintaxe async/await, por isso tiramos proveito dessa funcionalidade para poder implementar a comunicação cliente-servidor.\n",
    "\n",
    "O pacote Cryptography é uma biblioteca Python que fornece fórmulas criptográficas e primitivas para programadores. O uso deste pacote serve para implementar uma AEAD com “Tweakable Block Ciphers”. \n",
    "\n",
    "AEAD (Authenticated Encryption with Associated Data) é um esquema de criptografia que simultaneamente assegura a confidencialidade dos dados (também conhecida como privacidade: a mensagem criptografada é impossível de entender sem o conhecimento de uma chave secreta) e a autenticidade (ou seja, é inalterável: a mensagem criptografada inclui uma etiqueta de autenticação que o remetente só pode calcular possuindo a chave secreta)."
   ]
  },
  {
   "cell_type": "markdown",
   "metadata": {},
   "source": [
    "##  Primeira Parte ##"
   ]
  },
  {
   "cell_type": "markdown",
   "metadata": {},
   "source": [
    "#### Imports ####"
   ]
  },
  {
   "cell_type": "code",
   "execution_count": 1,
   "metadata": {},
   "outputs": [],
   "source": [
    "import asyncio\n",
    "import os\n",
    "from cryptography.hazmat.primitives.asymmetric import x25519\n",
    "from cryptography.hazmat.primitives import serialization, hashes\n",
    "from cryptography.hazmat.primitives.kdf.hkdf import HKDF\n",
    "from cryptography.hazmat.backends import default_backend\n",
    "from cryptography.hazmat.primitives import hmac\n",
    "from cryptography.hazmat.primitives import padding\n",
    "from cryptography.hazmat.primitives.ciphers import Cipher, algorithms, modes\n",
    "from secrets import token_bytes"
   ]
  },
  {
   "cell_type": "markdown",
   "metadata": {},
   "source": [
    "#### Implementação ####"
   ]
  },
  {
   "cell_type": "code",
   "execution_count": 152,
   "metadata": {},
   "outputs": [],
   "source": [
    "class AsconCipher:\n",
    "    def __init__(self, key):\n",
    "        self.key = key\n",
    "\n",
    "    def encrypt(self, plaintext, associated_data):\n",
    "        nonce = token_bytes(16)  # Generate nonce\n",
    "        cipher = Cipher(algorithms.Ascon128, modes.AEAD(self.key, nonce), backend=default_backend())\n",
    "        encryptor = cipher.encryptor()\n",
    "        encryptor.authenticate_additional_data(associated_data)\n",
    "        ciphertext = encryptor.update(plaintext) + encryptor.finalize()\n",
    "        return (nonce, ciphertext, encryptor.tag)\n",
    "\n",
    "    def decrypt(self, nonce, ciphertext, tag, associated_data):\n",
    "        cipher = Cipher(algorithms.Ascon128, modes.AEAD(self.key, nonce, tag), backend=default_backend())\n",
    "        decryptor = cipher.decryptor()\n",
    "        decryptor.authenticate_additional_data(associated_data)\n",
    "        plaintext = decryptor.update(ciphertext) + decryptor.finalize()\n",
    "        return plaintext"
   ]
  },
  {
   "cell_type": "code",
   "execution_count": 153,
   "metadata": {},
   "outputs": [],
   "source": [
    "async def handle_client(reader, writer):\n",
    "    private_key = x25519.X25519PrivateKey.generate()\n",
    "    public_key = private_key.public_key().public_bytes(serialization.Encoding.Raw, serialization.PublicFormat.Raw)\n",
    "\n",
    "    writer.write(public_key)\n",
    "    await writer.drain()\n",
    "\n",
    "    peer_public_key_bytes = await reader.read(32)\n",
    "    peer_public_key = x25519.X25519PublicKey.from_public_bytes(peer_public_key_bytes)\n",
    "\n",
    "    shared_key = private_key.exchange(peer_public_key)\n",
    "\n",
    "    # Derive keys using HKDF\n",
    "    derived_key_material = HKDF(\n",
    "        algorithm=hashes.SHA256(),\n",
    "        length=64,\n",
    "        salt=None,\n",
    "        info=b'handshake data',\n",
    "        backend=default_backend()\n",
    "    ).derive(shared_key)\n",
    "\n",
    "    cipher_key = derived_key_material[:32]\n",
    "    hmac_key = derived_key_material[32:]\n",
    "\n",
    "    cipher = AsconCipher(cipher_key)\n",
    "\n",
    "    while True:\n",
    "        nonce = await reader.readexactly(16)\n",
    "        ciphertext = await reader.readuntil(separator=b'|')\n",
    "        tag = await reader.readexactly(16)\n",
    "        associated_data = await reader.readuntil(separator=b'||')\n",
    "        plaintext = cipher.decrypt(nonce, ciphertext, tag, associated_data)\n",
    "\n",
    "        writer.write(plaintext)\n",
    "        await writer.drain()"
   ]
  },
  {
   "cell_type": "code",
   "execution_count": 154,
   "metadata": {},
   "outputs": [],
   "source": [
    "async def main():\n",
    "    server = await asyncio.start_server(\n",
    "        handle_client, '127.0.0.1', 8888)\n",
    "\n",
    "    addr = server.sockets[0].getsockname()\n",
    "    print(f'Serving on {addr}')\n",
    "\n",
    "    async with server:\n",
    "        await server.serve_forever()"
   ]
  },
  {
   "cell_type": "code",
   "execution_count": 155,
   "metadata": {},
   "outputs": [],
   "source": [
    "async def send_public_key(writer):\n",
    "    private_key = x25519.X25519PrivateKey.generate()\n",
    "    public_key = private_key.public_key().public_bytes(serialization.Encoding.Raw, serialization.PublicFormat.Raw)\n",
    "    writer.write(public_key)\n",
    "    await writer.drain()"
   ]
  },
  {
   "cell_type": "code",
   "execution_count": 156,
   "metadata": {},
   "outputs": [],
   "source": [
    "async def send_message():\n",
    "    while True:\n",
    "        try:\n",
    "            message = input(\"Enter message to send (or 'quit' to exit): \")\n",
    "            if message.lower() == 'quit':\n",
    "                break\n",
    "            \n",
    "            reader, writer = await asyncio.open_connection('127.0.0.1', 8888)\n",
    "\n",
    "            # Send public key\n",
    "            await send_public_key(writer)\n",
    "\n",
    "            # Encrypt and send message\n",
    "            writer.write(message.encode())\n",
    "            await writer.drain()\n",
    "\n",
    "            # Receive and decrypt response\n",
    "            data = await reader.read(1024)  # Increased buffer size for receiving data\n",
    "            print(f\"Received message from server: {data.decode('utf-8', 'ignore')}\")  # Decode using UTF-8\n",
    "\n",
    "            writer.close()\n",
    "            await writer.wait_closed()\n",
    "        except KeyboardInterrupt:\n",
    "            print(\"Exiting client...\")\n",
    "            break"
   ]
  },
  {
   "cell_type": "code",
   "execution_count": 157,
   "metadata": {},
   "outputs": [],
   "source": [
    "task = asyncio.create_task(main())\n"
   ]
  },
  {
   "cell_type": "code",
   "execution_count": 158,
   "metadata": {},
   "outputs": [
    {
     "name": "stdout",
     "output_type": "stream",
     "text": [
      "Received message from server: ѤԖL2#-fF\fcҴΤG#4\u0001\n",
      "Received message from server: ?\u0016NJW\n",
      "2ϛG!Q]5\n",
      "\u001b\u0013!d\n",
      "Received message from server: :qgnD\u0000XL~zbؽ7\n"
     ]
    }
   ],
   "source": [
    "await asyncio.create_task(send_message())"
   ]
  },
  {
   "cell_type": "markdown",
   "metadata": {},
   "source": [
    "## Segunda parte ##"
   ]
  },
  {
   "cell_type": "markdown",
   "metadata": {},
   "source": [
    "#### Imports ####"
   ]
  },
  {
   "cell_type": "code",
   "execution_count": 137,
   "metadata": {},
   "outputs": [],
   "source": [
    "from cryptography.hazmat.primitives.ciphers import Cipher, algorithms, modes\n",
    "from cryptography.hazmat.backends import default_backend\n",
    "from cryptography.hazmat.primitives import hashes, hmac\n",
    "from cryptography.hazmat.primitives import padding\n",
    "from cryptography.hazmat.primitives.kdf.pbkdf2 import PBKDF2HMAC\n",
    "from cryptography.hazmat.primitives import serialization\n",
    "from cryptography.hazmat.primitives.asymmetric import x448, ed448\n",
    "from secrets import token_bytes"
   ]
  },
  {
   "cell_type": "markdown",
   "metadata": {},
   "source": [
    "#### Implementação ####"
   ]
  },
  {
   "cell_type": "code",
   "execution_count": 138,
   "metadata": {},
   "outputs": [],
   "source": [
    "class TweakableChaCha20AEAD:\n",
    "    def __init__(self, key, tweak):\n",
    "        self.key = key[:32]  # Ensure key is 32 bytes (256 bits)\n",
    "        self.tweak = tweak\n",
    "\n",
    "    def encrypt(self, plaintext, associated_data, nonce):\n",
    "        # Create a ChaCha20 cipher with the tweaked key\n",
    "        nonce = token_bytes(16)  # Generate nonce\n",
    "        cipher = Cipher(algorithms.ChaCha20(self.key, nonce), mode=None, backend=default_backend())\n",
    "        encryptor = cipher.encryptor()\n",
    "\n",
    "        # Encrypt the plaintext\n",
    "        ciphertext = encryptor.update(plaintext) + encryptor.finalize()\n",
    "\n",
    "        # Generate a tag using HMAC with associated data\n",
    "        h = hmac.HMAC(self.key, hashes.SHA256(), backend=default_backend())\n",
    "        h.update(associated_data)\n",
    "        h.update(ciphertext)\n",
    "        tag = h.finalize()\n",
    "\n",
    "        return ciphertext, tag\n",
    "\n",
    "    def decrypt(self, ciphertext, tag, associated_data, nonce):\n",
    "        # Create a ChaCha20 cipher with the tweaked key\n",
    "        nonce = token_bytes(16)  # Generate nonce\n",
    "        cipher = Cipher(algorithms.ChaCha20(self.key, nonce), mode=None, backend=default_backend())\n",
    "        decryptor = cipher.decryptor()\n",
    "\n",
    "        # Decrypt the ciphertext\n",
    "        plaintext = decryptor.update(ciphertext) + decryptor.finalize()\n",
    "\n",
    "        # Verify the tag using HMAC with associated data\n",
    "        h = hmac.HMAC(self.key, hashes.SHA256(), backend=default_backend())\n",
    "        h.update(associated_data)\n",
    "        h.update(ciphertext)\n",
    "        h.verify(tag)\n",
    "\n",
    "        return plaintext"
   ]
  },
  {
   "cell_type": "code",
   "execution_count": 139,
   "metadata": {},
   "outputs": [],
   "source": [
    "class KeyExchange:\n",
    "    def __init__(self):\n",
    "        self.agent1_private_key = x448.X448PrivateKey.generate()\n",
    "        self.agent1_public_key = self.agent1_private_key.public_key()\n",
    "\n",
    "        self.agent2_private_key = x448.X448PrivateKey.generate()\n",
    "        self.agent2_public_key = self.agent2_private_key.public_key()\n",
    "\n",
    "    def perform_key_exchange(self, private_key, public_key):\n",
    "        shared_secret = private_key.exchange(public_key)\n",
    "        return shared_secret"
   ]
  },
  {
   "cell_type": "code",
   "execution_count": 140,
   "metadata": {},
   "outputs": [],
   "source": [
    "class SigningVerification:\n",
    "    def __init__(self):\n",
    "        self.agent1_private_key = ed448.Ed448PrivateKey.generate()\n",
    "        self.agent1_public_key = self.agent1_private_key.public_key()\n",
    "\n",
    "        self.agent2_private_key = ed448.Ed448PrivateKey.generate()\n",
    "        self.agent2_public_key = self.agent2_private_key.public_key()\n",
    "\n",
    "    def sign(self, private_key, data):\n",
    "        signature = private_key.sign(data)\n",
    "        return signature\n",
    "\n",
    "    def verify(self, public_key, signature, data):\n",
    "        try:\n",
    "            public_key.verify(signature, data)\n",
    "            return True\n",
    "        except Exception as e:\n",
    "            print(f\"Verification failed: {e}\")\n",
    "            return False"
   ]
  },
  {
   "cell_type": "code",
   "execution_count": 141,
   "metadata": {},
   "outputs": [],
   "source": [
    "# Inicializar o canal assimétrico\n",
    "key_exchange = KeyExchange()\n",
    "signing_verification = SigningVerification()"
   ]
  },
  {
   "cell_type": "code",
   "execution_count": 142,
   "metadata": {},
   "outputs": [
    {
     "name": "stdout",
     "output_type": "stream",
     "text": [
      "Shared secrets match: True\n"
     ]
    }
   ],
   "source": [
    "# Agent 1 performs key exchange\n",
    "shared_secret1 = key_exchange.perform_key_exchange(key_exchange.agent1_private_key, key_exchange.agent2_public_key)\n",
    "\n",
    "# Agent 2 performs key exchange\n",
    "shared_secret2 = key_exchange.perform_key_exchange(key_exchange.agent2_private_key, key_exchange.agent1_public_key)\n",
    "\n",
    "# Check if both shared secrets match\n",
    "print(\"Shared secrets match:\", shared_secret1 == shared_secret2)"
   ]
  },
  {
   "cell_type": "code",
   "execution_count": 143,
   "metadata": {},
   "outputs": [],
   "source": [
    "# Convert shared secrets to bytes for encryption key\n",
    "encryption_key = shared_secret1\n",
    "authentication_key = shared_secret2"
   ]
  },
  {
   "cell_type": "code",
   "execution_count": 144,
   "metadata": {},
   "outputs": [],
   "source": [
    "# Initialize the TweakableChaCha20AEAD with the encryption key and authentication key\n",
    "tweakable_cipher = TweakableChaCha20AEAD(encryption_key, authentication_key)"
   ]
  },
  {
   "cell_type": "code",
   "execution_count": 148,
   "metadata": {},
   "outputs": [
    {
     "name": "stdout",
     "output_type": "stream",
     "text": [
      "Plaintext: b'Hello, World!'\n",
      "Ciphertext: b'tn\\x95p\\r\\x0e\\x04jc4\\xf8#\\xf0'\n",
      "Tag: b'\\xe7\\x1d\\x7f\\xd6f\\xff\\x06\\xd9\\r5R\\x02*o@\\xa1\\xcbXx`\\xf3\\xb2\\x85F\\x06\\xdbK\\xd1\\xd6\\xae9('\n"
     ]
    }
   ],
   "source": [
    "# Encrypt\n",
    "plaintext = b'Hello, World!'\n",
    "associated_data = b'This is associated data'\n",
    "nonce = token_bytes(16)  # Generate nonce\n",
    "ciphertext, tag = tweakable_cipher.encrypt(plaintext, associated_data, nonce)\n",
    "print(\"Plaintext:\", plaintext)\n",
    "print(\"Ciphertext:\", ciphertext)\n",
    "print(\"Tag:\", tag)"
   ]
  },
  {
   "cell_type": "code",
   "execution_count": 149,
   "metadata": {},
   "outputs": [
    {
     "name": "stdout",
     "output_type": "stream",
     "text": [
      "Decrypted plaintext (as bytes): b'\\xbb\\xd9{\\x92*0z\\xecyR\\xe8`\\x90'\n"
     ]
    }
   ],
   "source": [
    "try:\n",
    "    decrypted_plaintext = tweakable_cipher.decrypt(ciphertext, tag, associated_data, nonce)\n",
    "    print(\"Decrypted plaintext:\", decrypted_plaintext.decode('utf-8'))\n",
    "except UnicodeDecodeError:\n",
    "    print(\"Decrypted plaintext (as bytes):\", decrypted_plaintext)\n"
   ]
  },
  {
   "cell_type": "code",
   "execution_count": 151,
   "metadata": {},
   "outputs": [
    {
     "name": "stdout",
     "output_type": "stream",
     "text": [
      "Signature verified: True\n"
     ]
    }
   ],
   "source": [
    "# Agent 1 signs a message\n",
    "message = b'This is a message.'\n",
    "signature = signing_verification.sign(signing_verification.agent1_private_key, message)\n",
    "\n",
    "# Agent 2 verifies the signature\n",
    "print(\"Signature verified:\", signing_verification.verify(signing_verification.agent1_public_key, signature, message))"
   ]
  },
  {
   "cell_type": "code",
   "execution_count": null,
   "metadata": {},
   "outputs": [],
   "source": []
  }
 ],
 "metadata": {
  "kernelspec": {
   "display_name": "Python 3",
   "language": "python",
   "name": "python3"
  },
  "language_info": {
   "codemirror_mode": {
    "name": "ipython",
    "version": 3
   },
   "file_extension": ".py",
   "mimetype": "text/x-python",
   "name": "python",
   "nbconvert_exporter": "python",
   "pygments_lexer": "ipython3",
   "version": "3.11.5"
  }
 },
 "nbformat": 4,
 "nbformat_minor": 2
}
