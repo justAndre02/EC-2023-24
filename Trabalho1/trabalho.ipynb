{
 "cells": [
  {
   "cell_type": "markdown",
   "metadata": {},
   "source": [
    "# Trabalho Prático 1  #\n",
    "#### André Freitas PG54707 ####\n",
    "#### Bruna Macieira PG54467 ####"
   ]
  },
  {
   "cell_type": "markdown",
   "metadata": {},
   "source": [
    "## Descrição e Abordagem ao Problema ##"
   ]
  },
  {
   "cell_type": "markdown",
   "metadata": {},
   "source": [
    "O principal objetivo deste trabalho passa por criar um comunicação privada assíncrona em modo  “Lightweight Cryptography” entre um agente Emitter e um agente Receiver. Esta implementação em Python passa pelo uso dos módulos Cryptography, Ascon e Asyncio, cada um deles dedicado a uma determinada ação ocorrente na implementação. \n",
    "\n",
    "Usamos o pacote Ascon para autenticar o criptograma envolvido na counicação bem como os metadados envolventes. O Ascon é uma família de algoritmos de encriptação autenticada e de hashing concebidos para serem leves e fáceis de implementar, mesmo com contramedidas adicionais contra ataques de canais laterais. Foi concebido por uma equipa de criptógrafos da Universidade de Tecnologia de Graz, da Infineon Technologies e da Universidade de Radboud: Christoph Dobraunig, Maria Eichlseder, Florian Mendel e Martin Schläffer.\n",
    "\n",
    "O NIST anunciou a seleção da família Ascon como o padrão de criptografia leve em fevereiro de 2023, após receber feedback público em um workshop. O NIST está trabalhando com a equipe Ascon para elaborar os padrões de criptografia leve.\n",
    "\n",
    "Asyncio é uma biblioteca para escrever código concorrente usando a sintaxe async/await, por isso tiramos proveito dessa funcionalidade para poder implementar a comunicação cliente-servidor.\n",
    "\n",
    "O pacote Cryptography é uma biblioteca Python que fornece fórmulas criptográficas e primitivas para programadores. O uso deste pacote serve para implementar uma AEAD com “Tweakable Block Ciphers”. \n",
    "\n",
    "AEAD (Authenticated Encryption with Associated Data) é um esquema de criptografia que simultaneamente assegura a confidencialidade dos dados (também conhecida como privacidade: a mensagem criptografada é impossível de entender sem o conhecimento de uma chave secreta) e a autenticidade (ou seja, é inalterável: a mensagem criptografada inclui uma etiqueta de autenticação que o remetente só pode calcular possuindo a chave secreta)."
   ]
  },
  {
   "cell_type": "markdown",
   "metadata": {},
   "source": [
    "##  Primeira Parte ##"
   ]
  },
  {
   "cell_type": "markdown",
   "metadata": {},
   "source": [
    "#### Imports ####"
   ]
  },
  {
   "cell_type": "code",
   "execution_count": 1,
   "metadata": {},
   "outputs": [],
   "source": [
    "import asyncio\n",
    "import os\n",
    "from cryptography.hazmat.primitives.asymmetric import x25519\n",
    "from cryptography.hazmat.primitives import serialization, hashes\n",
    "from cryptography.hazmat.primitives.kdf.hkdf import HKDF\n",
    "from cryptography.hazmat.backends import default_backend\n",
    "from cryptography.hazmat.primitives import hmac\n",
    "from cryptography.hazmat.primitives import padding\n",
    "from cryptography.hazmat.primitives.ciphers import Cipher, algorithms, modes\n",
    "from secrets import token_bytes"
   ]
  },
  {
   "cell_type": "markdown",
   "metadata": {},
   "source": [
    "#### Implementação ####"
   ]
  },
  {
   "cell_type": "code",
   "execution_count": 2,
   "metadata": {},
   "outputs": [],
   "source": [
    "class AsconCipher:\n",
    "    def __init__(self, key):\n",
    "        self.key = key\n",
    "\n",
    "    def encrypt(self, plaintext, associated_data):\n",
    "        nonce = token_bytes(16)  # Generate nonce\n",
    "        cipher = Cipher(algorithms.Ascon128, modes.AEAD(self.key, nonce), backend=default_backend())\n",
    "        encryptor = cipher.encryptor()\n",
    "        encryptor.authenticate_additional_data(associated_data)\n",
    "        ciphertext = encryptor.update(plaintext) + encryptor.finalize()\n",
    "        return (nonce, ciphertext, encryptor.tag)\n",
    "\n",
    "    def decrypt(self, nonce, ciphertext, tag, associated_data):\n",
    "        cipher = Cipher(algorithms.Ascon128, modes.AEAD(self.key, nonce, tag), backend=default_backend())\n",
    "        decryptor = cipher.decryptor()\n",
    "        decryptor.authenticate_additional_data(associated_data)\n",
    "        plaintext = decryptor.update(ciphertext) + decryptor.finalize()\n",
    "        return plaintext"
   ]
  },
  {
   "cell_type": "code",
   "execution_count": 3,
   "metadata": {},
   "outputs": [],
   "source": [
    "async def handle_client(reader, writer):\n",
    "    private_key = x25519.X25519PrivateKey.generate()\n",
    "    public_key = private_key.public_key().public_bytes(serialization.Encoding.Raw, serialization.PublicFormat.Raw)\n",
    "\n",
    "    writer.write(public_key)\n",
    "    await writer.drain()\n",
    "\n",
    "    peer_public_key_bytes = await reader.read(32)\n",
    "    peer_public_key = x25519.X25519PublicKey.from_public_bytes(peer_public_key_bytes)\n",
    "\n",
    "    shared_key = private_key.exchange(peer_public_key)\n",
    "\n",
    "    # Derive keys using HKDF\n",
    "    derived_key_material = HKDF(\n",
    "        algorithm=hashes.SHA256(),\n",
    "        length=64,\n",
    "        salt=None,\n",
    "        info=b'handshake data',\n",
    "        backend=default_backend()\n",
    "    ).derive(shared_key)\n",
    "\n",
    "    cipher_key = derived_key_material[:32]\n",
    "    hmac_key = derived_key_material[32:]\n",
    "\n",
    "    cipher = AsconCipher(cipher_key)\n",
    "\n",
    "    while True:\n",
    "        nonce = await reader.readexactly(16)\n",
    "        ciphertext = await reader.readuntil(separator=b'|')\n",
    "        tag = await reader.readexactly(16)\n",
    "        associated_data = await reader.readuntil(separator=b'||')\n",
    "        plaintext = cipher.decrypt(nonce, ciphertext, tag, associated_data)\n",
    "\n",
    "        writer.write(plaintext)\n",
    "        await writer.drain()"
   ]
  },
  {
   "cell_type": "code",
   "execution_count": 4,
   "metadata": {},
   "outputs": [],
   "source": [
    "async def main():\n",
    "    server = await asyncio.start_server(\n",
    "        handle_client, '127.0.0.1', 8888)\n",
    "\n",
    "    addr = server.sockets[0].getsockname()\n",
    "    print(f'Serving on {addr}')\n",
    "\n",
    "    async with server:\n",
    "        await server.serve_forever()"
   ]
  },
  {
   "cell_type": "code",
   "execution_count": 5,
   "metadata": {},
   "outputs": [],
   "source": [
    "async def send_public_key(writer):\n",
    "    private_key = x25519.X25519PrivateKey.generate()\n",
    "    public_key = private_key.public_key().public_bytes(serialization.Encoding.Raw, serialization.PublicFormat.Raw)\n",
    "    writer.write(public_key)\n",
    "    await writer.drain()"
   ]
  },
  {
   "cell_type": "code",
   "execution_count": 6,
   "metadata": {},
   "outputs": [],
   "source": [
    "async def send_message():\n",
    "    while True:\n",
    "        try:\n",
    "            message = input(\"Enter message to send (or 'quit' to exit): \")\n",
    "            if message.lower() == 'quit':\n",
    "                break\n",
    "            \n",
    "            reader, writer = await asyncio.open_connection('127.0.0.1', 8888)\n",
    "\n",
    "            # Send public key\n",
    "            await send_public_key(writer)\n",
    "\n",
    "            # Encrypt and send message\n",
    "            writer.write(message.encode())\n",
    "            await writer.drain()\n",
    "\n",
    "            # Receive and decrypt response\n",
    "            data = await reader.read(1024)  # Increased buffer size for receiving data\n",
    "            print(f\"Received message from server: {data.decode('utf-8', 'ignore')}\")  # Decode using UTF-8\n",
    "\n",
    "            writer.close()\n",
    "            await writer.wait_closed()\n",
    "        except KeyboardInterrupt:\n",
    "            print(\"Exiting client...\")\n",
    "            break"
   ]
  },
  {
   "cell_type": "code",
   "execution_count": 11,
   "metadata": {},
   "outputs": [
    {
     "name": "stderr",
     "output_type": "stream",
     "text": [
      "Task exception was never retrieved\n",
      "future: <Task finished name='Task-21' coro=<main() done, defined at C:\\Users\\andre\\AppData\\Local\\Temp\\ipykernel_12692\\3117860583.py:1> exception=OSError(10048, \"error while attempting to bind on address ('127.0.0.1', 8888): normalmente só é permitido uma utilização de cada endereço de socket (protocolo/endereço de rede/porta)\")>\n",
      "Traceback (most recent call last):\n",
      "  File \"C:\\Users\\andre\\AppData\\Local\\Temp\\ipykernel_12692\\3117860583.py\", line 2, in main\n",
      "    server = await asyncio.start_server(\n",
      "             ^^^^^^^^^^^^^^^^^^^^^^^^^^^\n",
      "  File \"c:\\Python312\\Lib\\asyncio\\streams.py\", line 84, in start_server\n",
      "    return await loop.create_server(factory, host, port, **kwds)\n",
      "           ^^^^^^^^^^^^^^^^^^^^^^^^^^^^^^^^^^^^^^^^^^^^^^^^^^^^^\n",
      "  File \"c:\\Python312\\Lib\\asyncio\\base_events.py\", line 1559, in create_server\n",
      "    raise OSError(err.errno, 'error while attempting '\n",
      "OSError: [Errno 10048] error while attempting to bind on address ('127.0.0.1', 8888): normalmente só é permitido uma utilização de cada endereço de socket (protocolo/endereço de rede/porta)\n"
     ]
    }
   ],
   "source": [
    "task = asyncio.create_task(main())\n"
   ]
  },
  {
   "cell_type": "code",
   "execution_count": 12,
   "metadata": {},
   "outputs": [
    {
     "name": "stdout",
     "output_type": "stream",
     "text": [
      "Received message from server: &\u0007o%1\u000edbx힇I74\u001f\n"
     ]
    },
    {
     "name": "stderr",
     "output_type": "stream",
     "text": [
      "Unhandled exception in client_connected_cb\n",
      "transport: <_ProactorSocketTransport fd=544>\n",
      "Traceback (most recent call last):\n",
      "  File \"C:\\Users\\andre\\AppData\\Local\\Temp\\ipykernel_12692\\288968504.py\", line 28, in handle_client\n",
      "    nonce = await reader.readexactly(16)\n",
      "            ^^^^^^^^^^^^^^^^^^^^^^^^^^^^\n",
      "  File \"c:\\Python312\\Lib\\asyncio\\streams.py\", line 747, in readexactly\n",
      "    raise exceptions.IncompleteReadError(incomplete, n)\n",
      "asyncio.exceptions.IncompleteReadError: 5 bytes read on a total of 16 expected bytes\n"
     ]
    }
   ],
   "source": [
    "await asyncio.create_task(send_message())"
   ]
  },
  {
   "cell_type": "markdown",
   "metadata": {},
   "source": [
    "## Segunda parte ##"
   ]
  },
  {
   "cell_type": "markdown",
   "metadata": {},
   "source": [
    "#### Imports ####"
   ]
  },
  {
   "cell_type": "markdown",
   "metadata": {},
   "source": []
  }
 ],
 "metadata": {
  "kernelspec": {
   "display_name": "Python 3",
   "language": "python",
   "name": "python3"
  },
  "language_info": {
   "codemirror_mode": {
    "name": "ipython",
    "version": 3
   },
   "file_extension": ".py",
   "mimetype": "text/x-python",
   "name": "python",
   "nbconvert_exporter": "python",
   "pygments_lexer": "ipython3",
   "version": "3.12.1"
  }
 },
 "nbformat": 4,
 "nbformat_minor": 2
}
