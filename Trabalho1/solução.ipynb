{
 "cells": [
  {
   "cell_type": "code",
   "execution_count": 1,
   "metadata": {},
   "outputs": [],
   "source": [
    "from sage.all import *"
   ]
  },
  {
   "cell_type": "code",
   "execution_count": 2,
   "metadata": {},
   "outputs": [
    {
     "name": "stdout",
     "output_type": "stream",
     "text": [
      "Roots: (1/2*sqrt(7) + 3/2, -1/2*sqrt(7) + 3/2)\n"
     ]
    }
   ],
   "source": [
    "# Define a function\n",
    "def quadratic_formula(a, b, c):\n",
    "    discriminant = b^2 - 4*a*c\n",
    "    if discriminant > 0:\n",
    "        x1 = (-b + sqrt(discriminant))/(2*a)\n",
    "        x2 = (-b - sqrt(discriminant))/(2*a)\n",
    "        return x1, x2\n",
    "    elif discriminant == 0:\n",
    "        x = -b/(2*a)\n",
    "        return x\n",
    "    else:\n",
    "        return \"No real roots\"\n",
    "\n",
    "# Test the function\n",
    "a = 1\n",
    "b = -3\n",
    "c = 2\n",
    "roots = quadratic_formula(a, b, c)\n",
    "print(\"Roots:\", roots)\n"
   ]
  }
 ],
 "metadata": {
  "kernelspec": {
   "display_name": "Aulas",
   "language": "python",
   "name": "python3"
  },
  "language_info": {
   "codemirror_mode": {
    "name": "ipython",
    "version": 3
   },
   "file_extension": ".py",
   "mimetype": "text/x-python",
   "name": "python",
   "nbconvert_exporter": "python",
   "pygments_lexer": "ipython3",
   "version": "3.11.6"
  }
 },
 "nbformat": 4,
 "nbformat_minor": 2
}
