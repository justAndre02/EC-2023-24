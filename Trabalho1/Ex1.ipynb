{
 "cells": [
  {
   "cell_type": "markdown",
   "metadata": {},
   "source": [
    "# Trabalho Prático 1  #\n",
    "#### André Freitas PG54707 ####\n",
    "#### Bruna Macieira PG54467 ####"
   ]
  },
  {
   "cell_type": "markdown",
   "metadata": {},
   "source": [
    "\n",
    "### Exercício 1. \n",
    "\n",
    "Use a package Cryptography   e  o package ascon (instalar daqui) para  criar um comunicação privada assíncrona em modo  “Lightweight Cryptography” entre um agente Emitter e um agente Receiver que cubra os seguintes aspectos:\n",
    "1.  Autenticação do criptograma e dos metadados (associated data) usando Ascon (ver implementação aqui) em modo de cifra.\n",
    "2.  As chaves de cifra, autenticação  e  os “nounces” são gerados por um gerador pseudo aleatório (PRG)  usando o Ascon em modo XOF. As diferentes chaves para inicialização do PRG são inputs do emissor e do receptor.\n",
    "3.  Para implementar a comunicação cliente-servidor use o package python `asyncio`. \n",
    "\n",
    "Usámos o pacote Ascon para autenticar o criptograma envolvido na comunicação bem como os metadados envolventes. O Ascon é uma família de algoritmos de encriptação autenticada e de hashing concebidos para serem leves e fáceis de implementar, mesmo com contramedidas adicionais contra ataques de canais laterais. Foi concebido por uma equipa de criptógrafos da Universidade de Tecnologia de Graz, da Infineon Technologies e da Universidade de Radboud: Christoph Dobraunig, Maria Eichlseder, Florian Mendel e Martin Schläffer.\n",
    "\n",
    "O NIST anunciou a seleção da família Ascon como o padrão de criptografia leve em fevereiro de 2023, após receber feedback público num workshop. O NIST está a trabalhar com a equipa Ascon para elaborar os padrões de criptografia leve.\n",
    "\n",
    "Asyncio é uma biblioteca para escrever código concorrente usando a sintaxe async/await, por isso tirámos proveito dessa funcionalidade para poder implementar a comunicação cliente-servidor."
   ]
  },
  {
   "cell_type": "code",
   "execution_count": 1,
   "metadata": {},
   "outputs": [],
   "source": [
    "import asyncio\n",
    "import os\n",
    "import ascon\n",
    "from cryptography.hazmat.primitives.asymmetric import x25519\n",
    "from cryptography.hazmat.primitives import serialization, hashes\n",
    "from cryptography.hazmat.primitives.kdf.hkdf import HKDF\n",
    "from cryptography.hazmat.backends import default_backend\n",
    "from cryptography.hazmat.primitives.ciphers import Cipher, algorithms, modes\n",
    "from secrets import token_bytes"
   ]
  },
  {
   "cell_type": "markdown",
   "metadata": {},
   "source": [
    "A classe AsconCipher é uma classe que encapsula operações de criptografia e descriptografia Ascon. Tem como métodos:\n",
    "1. encrypt: Usa o algoritmo Ascon para criptografar o texto simples.\n",
    "2. decrypt: Usa o algoritmo Ascon para descriptografar o texto cifrado.\n",
    "   \n",
    "Utilizam o Ascon-128."
   ]
  },
  {
   "cell_type": "code",
   "execution_count": 2,
   "metadata": {},
   "outputs": [],
   "source": [
    "# Define a class named AsconCipher\n",
    "class AsconCipher:\n",
    "    def __init__(self, key):\n",
    "        self.key = key\n",
    "\n",
    "    # Method to encrypt the plaintext using Ascon algorithm\n",
    "    def encrypt(self, nonce, plaintext, associated_data):\n",
    "        return ascon.ascon_encrypt(self.key, nonce, associated_data, plaintext, variant='Ascon-128')\n",
    "\n",
    "    # Method to decrypt the ciphertext using Ascon algorithm\n",
    "    def decrypt(self, nonce, ciphertext, associated_data):\n",
    "        return ascon.ascon_decrypt(self.key, nonce, associated_data, ciphertext, variant='Ascon-128')"
   ]
  },
  {
   "cell_type": "markdown",
   "metadata": {},
   "source": [
    "A função handle_client é uma função assíncrona que lida com a comunicação com um cliente. Usa X25519 (algoritmo de Diffie-Hellman) para troca de chaves, deriva chaves com HKDF (baseado em HMAC) e realiza criptografia/descriptografia com Ascon.\n",
    "A comunicação envolve a troca de chaves públicas, o estabelecimento de um segredo partilhado e a criptografia/descriptografia de mensagens."
   ]
  },
  {
   "cell_type": "code",
   "execution_count": 3,
   "metadata": {},
   "outputs": [],
   "source": [
    "# This function handles the communication with a client\n",
    "async def handle_client(reader, writer):\n",
    "    # Generate a private key for the server\n",
    "    private_key = x25519.X25519PrivateKey.generate()\n",
    "    # Get the corresponding public key and convert it to bytes\n",
    "    public_key = private_key.public_key().public_bytes(serialization.Encoding.Raw, serialization.PublicFormat.Raw)\n",
    "\n",
    "    # Send the public key to the client\n",
    "    writer.write(public_key)\n",
    "    await writer.drain()\n",
    "\n",
    "    # Receive the public key from the client\n",
    "    peer_public_key_bytes = await reader.read(32)\n",
    "    peer_public_key = x25519.X25519PublicKey.from_public_bytes(peer_public_key_bytes)\n",
    "\n",
    "    # Perform key exchange to derive a shared key\n",
    "    shared_key = private_key.exchange(peer_public_key)\n",
    "\n",
    "    # Derive key material using HKDF\n",
    "    derived_key_material = HKDF(\n",
    "        algorithm=hashes.SHA256(),\n",
    "        length=64,\n",
    "        salt=None,\n",
    "        info=b'handshake data',\n",
    "        backend=default_backend()\n",
    "    ).derive(shared_key)\n",
    "\n",
    "    # Extract the cipher key from the derived key material\n",
    "    cipher_key = derived_key_material[:32]\n",
    "\n",
    "    # Create an instance of the AsconCipher class with the cipher key\n",
    "    cipher = AsconCipher(cipher_key)\n",
    "\n",
    "    # Continuously receive and decrypt messages from the client\n",
    "    while True:\n",
    "        # Read the nonce, ciphertext, tag, and associated data from the client\n",
    "        nonce = await reader.readexactly(16)\n",
    "        ciphertext = await reader.readuntil(separator=b'|')\n",
    "        tag = await reader.readexactly(16)\n",
    "        associated_data = await reader.readuntil(separator=b'||')\n",
    "\n",
    "        # Decrypt the ciphertext using the nonce, tag, and associated data\n",
    "        plaintext = cipher.decrypt(nonce, ciphertext, tag, associated_data)\n",
    "\n",
    "        # Send the decrypted plaintext back to the client\n",
    "        writer.write(plaintext)\n",
    "        await writer.drain()"
   ]
  },
  {
   "cell_type": "markdown",
   "metadata": {},
   "source": [
    "A função main é a função principal e configura e executa o servidor."
   ]
  },
  {
   "cell_type": "code",
   "execution_count": 4,
   "metadata": {},
   "outputs": [],
   "source": [
    "# This async function is the main entry point for the server\n",
    "# It creates a server using asyncio.start_server() and specifies the handle_client function to handle client connections\n",
    "# The server listens on '127.0.0.1' IP address and port 8888\n",
    "# It prints the address on which the server is serving\n",
    "# The server is started and runs indefinitely using server.serve_forever()\n",
    "async def main():\n",
    "    server = await asyncio.start_server(\n",
    "        handle_client, '127.0.0.1', 8888)\n",
    "\n",
    "    addr = server.sockets[0].getsockname()\n",
    "    print(f'Serving on {addr}')\n",
    "\n",
    "    async with server:\n",
    "        await server.serve_forever()"
   ]
  },
  {
   "cell_type": "markdown",
   "metadata": {},
   "source": [
    "A função send_public_key é a função responsável por enviar chaves públicas do cliente para o servidor.\n",
    "\n",
    "É gerada uma chave privada X25519 para o cliente. É obtida a chave pública correspondente à chave privada gerada e converte-a para bytes usando o formato de codificação especificado. A chave pública é escrita no objeto de escrita associado ao servidor. Por fim, espera que os dados sejam realmente gravados no socket, garantindo que a escrita seja concluída antes de continuar."
   ]
  },
  {
   "cell_type": "code",
   "execution_count": 5,
   "metadata": {},
   "outputs": [],
   "source": [
    "# This async function sends the public key to the server\n",
    "# It generates a private key for the client using X25519 algorithm\n",
    "# It gets the corresponding public key and converts it to bytes using the specified encoding format\n",
    "# The public key is written to the writer object associated with the server\n",
    "# It waits for the data to be actually written to the socket before continuing\n",
    "async def send_public_key(writer):\n",
    "    private_key = x25519.X25519PrivateKey.generate()\n",
    "    public_key = private_key.public_key().public_bytes(serialization.Encoding.Raw, serialization.PublicFormat.Raw)\n",
    "    writer.write(public_key)\n",
    "    await writer.drain()"
   ]
  },
  {
   "cell_type": "markdown",
   "metadata": {},
   "source": [
    "A função send_message é a função responsável por enviar mensagens do cliente para o servidor.\n",
    "\n",
    "Cria um loop infinito para que o cliente possa enviar várias mensagens consecutivas. Solicita ao utilizador que insira uma mensagem a ser enviada ao servidor. Verifica se o utilizador digitou 'quit' para encerrar o loop.\n",
    "É então aberta uma conexão com o servidor, a função send_public_key é chamada para enviar a chave pública antes da mensagem, que depois é codificada para bytes e escrita no objeto de escrita associado ao servidor.\n",
    "A função writer.drain() espera que os dados sejam realmente gravados no socket antes de continuar.\n",
    "Quando gravados, são lidos até 1024 bytes de dados do servidor que exibe a mensagem recebida decodificando os bytes usando UTF-8.\n",
    "A conexão com o servidor é fechada após o envio e receção da mensagem.\n",
    "\n",
    "A função except KeyboardInterrupt captura a exceção de interrupção do teclado (Ctrl+C) para permitir a saída controlada do cliente."
   ]
  },
  {
   "cell_type": "code",
   "execution_count": 6,
   "metadata": {},
   "outputs": [],
   "source": [
    "# This async function sends a message to the server\n",
    "# It creates a loop to allow the client to send multiple consecutive messages\n",
    "# It prompts the user to enter a message to be sent to the server\n",
    "# It checks if the user entered 'quit' to exit the loop\n",
    "# It then opens a connection to the server, calls the send_public_key function to send the public key before the message\n",
    "# The message is then encoded to bytes and written to the writer object associated with the server\n",
    "# The writer.drain() function waits for the data to be actually written to the socket before continuing\n",
    "# Once written, up to 1024 bytes of data are read from the server, which displays the received message by decoding the bytes using UTF-8\n",
    "# The connection to the server is closed after sending and receiving the message\n",
    "\n",
    "# The except KeyboardInterrupt block captures the keyboard interrupt exception (Ctrl+C) to allow for controlled client exit.\n",
    "async def send_message():\n",
    "    while True:\n",
    "        try:\n",
    "            message = input(\"Enter message to send (or 'quit' to exit): \")\n",
    "            if message.lower() == 'quit':\n",
    "                break\n",
    "            \n",
    "            reader, writer = await asyncio.open_connection('127.0.0.1', 8888)\n",
    "\n",
    "            await send_public_key(writer)\n",
    "\n",
    "            writer.write(message.encode())\n",
    "            await writer.drain()\n",
    "\n",
    "            data = await reader.read(1024)  \n",
    "            print(f\"Received message from server: {data.decode('utf-8', 'ignore')}\")  \n",
    "\n",
    "            writer.close()\n",
    "            await writer.wait_closed()\n",
    "        except KeyboardInterrupt:\n",
    "            print(\"Exiting client...\")\n",
    "            break"
   ]
  },
  {
   "cell_type": "markdown",
   "metadata": {},
   "source": [
    "A task cria e executa uma tarefa assíncrona para o servidor (main)."
   ]
  },
  {
   "cell_type": "code",
   "execution_count": 7,
   "metadata": {},
   "outputs": [
    {
     "name": "stdout",
     "output_type": "stream",
     "text": [
      "Serving on ('127.0.0.1', 8888)\n"
     ]
    }
   ],
   "source": [
    "task = asyncio.create_task(main())"
   ]
  },
  {
   "cell_type": "markdown",
   "metadata": {},
   "source": [
    "Por fim, é criada e executada uma tarefa assíncrona para enviar mensagens ao servidor (send_message)."
   ]
  },
  {
   "cell_type": "code",
   "execution_count": null,
   "metadata": {},
   "outputs": [],
   "source": [
    "await asyncio.create_task(send_message())"
   ]
  }
 ],
 "metadata": {
  "kernelspec": {
   "display_name": "Python 3",
   "language": "python",
   "name": "python3"
  },
  "language_info": {
   "codemirror_mode": {
    "name": "ipython",
    "version": 3
   },
   "file_extension": ".py",
   "mimetype": "text/x-python",
   "name": "python",
   "nbconvert_exporter": "python",
   "pygments_lexer": "ipython3",
   "version": "3.12.1"
  }
 },
 "nbformat": 4,
 "nbformat_minor": 2
}
