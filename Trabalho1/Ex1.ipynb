{
 "cells": [
  {
   "cell_type": "markdown",
   "metadata": {},
   "source": [
    "\n",
    "### Exercício 1. \n",
    "\n",
    "Use a package Cryptography   e  o package ascon (instalar daqui) para  criar um comunicação privada assíncrona em modo  “Lightweight Cryptography” entre um agente Emitter e um agente Receiver que cubra os seguintes aspectos:\n",
    "1.  Autenticação do criptograma e dos metadados (associated data) usando Ascon (ver implementação aqui) em modo de cifra.\n",
    "2.  As chaves de cifra, autenticação  e  os “nounces” são gerados por um gerador pseudo aleatório (PRG)  usando o Ascon em modo XOF. As diferentes chaves para inicialização do PRG são inputs do emissor e do receptor.\n",
    "3.  Para implementar a comunicação cliente-servidor use o package python `asyncio`. \n",
    "\n",
    "Usámos o pacote Ascon para autenticar o criptograma envolvido na comunicação bem como os metadados envolventes. O Ascon é uma família de algoritmos de encriptação autenticada e de hashing concebidos para serem leves e fáceis de implementar, mesmo com contramedidas adicionais contra ataques de canais laterais. Foi concebido por uma equipa de criptógrafos da Universidade de Tecnologia de Graz, da Infineon Technologies e da Universidade de Radboud: Christoph Dobraunig, Maria Eichlseder, Florian Mendel e Martin Schläffer.\n",
    "\n",
    "O NIST anunciou a seleção da família Ascon como o padrão de criptografia leve em fevereiro de 2023, após receber feedback público num workshop. O NIST está a trabalhar com a equipa Ascon para elaborar os padrões de criptografia leve.\n",
    "\n",
    "Asyncio é uma biblioteca para escrever código concorrente usando a sintaxe async/await, por isso tirámos proveito dessa funcionalidade para poder implementar a comunicação cliente-servidor."
   ]
  },
  {
   "cell_type": "code",
   "execution_count": 9,
   "metadata": {},
   "outputs": [],
   "source": [
    "import asyncio\n",
    "import os\n",
    "import ascon\n",
    "from cryptography.hazmat.primitives.asymmetric import x25519\n",
    "from cryptography.hazmat.primitives import serialization, hashes\n",
    "from cryptography.hazmat.primitives.kdf.hkdf import HKDF\n",
    "from cryptography.hazmat.backends import default_backend\n",
    "from cryptography.hazmat.primitives.ciphers import Cipher, algorithms, modes\n",
    "from secrets import token_bytes"
   ]
  },
  {
   "cell_type": "markdown",
   "metadata": {},
   "source": [
    "A classe AsconCipher é uma classe que encapsula operações de criptografia e descriptografia Ascon. Tem como métodos:\n",
    "1. encrypt: Usa o algoritmo Ascon para criptografar o texto simples.\n",
    "2. decrypt: Usa o algoritmo Ascon para descriptografar o texto cifrado.\n",
    "   \n",
    "Utilizam o Ascon-128."
   ]
  },
  {
   "cell_type": "code",
   "execution_count": 10,
   "metadata": {},
   "outputs": [],
   "source": [
    "class AsconCipher:\n",
    "    def __init__(self, key):\n",
    "        self.key = key\n",
    "\n",
    "    def encrypt(self, nonce, plaintext, associated_data):\n",
    "        return ascon.ascon_encrypt(self.key, nonce, associated_data, plaintext, variant='Ascon-128')\n",
    "\n",
    "    def decrypt(self, nonce, ciphertext, associated_data):\n",
    "        return ascon.ascon_decrypt(self.key, nonce, associated_data, ciphertext, variant='Ascon-128')"
   ]
  },
  {
   "cell_type": "markdown",
   "metadata": {},
   "source": [
    "A função handle_client é uma função assíncrona que lida com a comunicação com um cliente. Usa X25519 (algoritmo de Diffie-Hellman) para troca de chaves, deriva chaves com HKDF (baseado em HMAC) e realiza criptografia/descriptografia com Ascon.\n",
    "A comunicação envolve a troca de chaves públicas, o estabelecimento de um segredo partilhado e a criptografia/descriptografia de mensagens."
   ]
  },
  {
   "cell_type": "code",
   "execution_count": 11,
   "metadata": {},
   "outputs": [],
   "source": [
    "async def handle_client(reader, writer):\n",
    "    private_key = x25519.X25519PrivateKey.generate()\n",
    "    public_key = private_key.public_key().public_bytes(serialization.Encoding.Raw, serialization.PublicFormat.Raw)\n",
    "\n",
    "    writer.write(public_key)\n",
    "    await writer.drain()\n",
    "\n",
    "    peer_public_key_bytes = await reader.read(32)\n",
    "    peer_public_key = x25519.X25519PublicKey.from_public_bytes(peer_public_key_bytes)\n",
    "\n",
    "    shared_key = private_key.exchange(peer_public_key)\n",
    "\n",
    "    # Derive keys using HKDF\n",
    "    derived_key_material = HKDF(\n",
    "        algorithm=hashes.SHA256(),\n",
    "        length=64,\n",
    "        salt=None,\n",
    "        info=b'handshake data',\n",
    "        backend=default_backend()\n",
    "    ).derive(shared_key)\n",
    "\n",
    "    cipher_key = derived_key_material[:32]\n",
    "\n",
    "    cipher = AsconCipher(cipher_key)\n",
    "\n",
    "    while True:\n",
    "        nonce = await reader.readexactly(16)\n",
    "        ciphertext = await reader.readuntil(separator=b'|')\n",
    "        tag = await reader.readexactly(16)\n",
    "        associated_data = await reader.readuntil(separator=b'||')\n",
    "        plaintext = cipher.decrypt(nonce, ciphertext, tag, associated_data)\n",
    "\n",
    "        writer.write(plaintext)\n",
    "        await writer.drain()"
   ]
  },
  {
   "cell_type": "markdown",
   "metadata": {},
   "source": [
    "A função main é a função principal e configura e executa o servidor."
   ]
  },
  {
   "cell_type": "code",
   "execution_count": 12,
   "metadata": {},
   "outputs": [],
   "source": [
    "async def main():\n",
    "    server = await asyncio.start_server(\n",
    "        handle_client, '127.0.0.1', 8888)\n",
    "\n",
    "    addr = server.sockets[0].getsockname()\n",
    "    print(f'Serving on {addr}')\n",
    "\n",
    "    async with server:\n",
    "        await server.serve_forever()"
   ]
  },
  {
   "cell_type": "markdown",
   "metadata": {},
   "source": [
    "A função send_public_key é a função responsável por enviar chaves públicas do cliente para o servidor.\n",
    "\n",
    "É gerada uma chave privada X25519 para o cliente. É obtida a chave pública correspondente à chave privada gerada e converte-a para bytes usando o formato de codificação especificado. A chave pública é escrita no objeto de escrita associado ao servidor. Por fim, espera que os dados sejam realmente gravados no socket, garantindo que a escrita seja concluída antes de continuar."
   ]
  },
  {
   "cell_type": "code",
   "execution_count": 13,
   "metadata": {},
   "outputs": [],
   "source": [
    "async def send_public_key(writer):\n",
    "    private_key = x25519.X25519PrivateKey.generate()\n",
    "    public_key = private_key.public_key().public_bytes(serialization.Encoding.Raw, serialization.PublicFormat.Raw)\n",
    "    writer.write(public_key)\n",
    "    await writer.drain()"
   ]
  },
  {
   "cell_type": "markdown",
   "metadata": {},
   "source": [
    "A função send_message é a função responsável por enviar mensagens do cliente para o servidor.\n",
    "\n",
    "Cria um loop infinito para que o cliente possa enviar várias mensagens consecutivas. Solicita ao utilizador que insira uma mensagem a ser enviada ao servidor. Verifica se o utilizador digitou 'quit' para encerrar o loop.\n",
    "É então aberta uma conexão com o servidor, a função send_public_key é chamada para enviar a chave pública antes da mensagem, que depois é codificada para bytes e escrita no objeto de escrita associado ao servidor.\n",
    "A função writer.drain() espera que os dados sejam realmente gravados no socket antes de continuar.\n",
    "Quando gravados, são lidos até 1024 bytes de dados do servidor que exibe a mensagem recebida decodificando os bytes usando UTF-8.\n",
    "A conexão com o servidor é fechada após o envio e receção da mensagem.\n",
    "\n",
    "A função except KeyboardInterrupt captura a exceção de interrupção do teclado (Ctrl+C) para permitir a saída controlada do cliente."
   ]
  },
  {
   "cell_type": "code",
   "execution_count": 14,
   "metadata": {},
   "outputs": [],
   "source": [
    "async def send_message():\n",
    "    while True:\n",
    "        try:\n",
    "            message = input(\"Enter message to send (or 'quit' to exit): \")\n",
    "            if message.lower() == 'quit':\n",
    "                break\n",
    "            \n",
    "            reader, writer = await asyncio.open_connection('127.0.0.1', 8888)\n",
    "\n",
    "            # Send public key\n",
    "            await send_public_key(writer)\n",
    "\n",
    "            # Encrypt and send message\n",
    "            writer.write(message.encode())\n",
    "            await writer.drain()\n",
    "\n",
    "            # Receive and decrypt response\n",
    "            data = await reader.read(1024)  # Increased buffer size for receiving data\n",
    "            print(f\"Received message from server: {data.decode('utf-8', 'ignore')}\")  # Decode using UTF-8\n",
    "\n",
    "            writer.close()\n",
    "            await writer.wait_closed()\n",
    "        except KeyboardInterrupt:\n",
    "            print(\"Exiting client...\")\n",
    "            break"
   ]
  },
  {
   "cell_type": "markdown",
   "metadata": {},
   "source": [
    "A task cria e executa uma tarefa assíncrona para o servidor (main)."
   ]
  },
  {
   "cell_type": "code",
   "execution_count": 15,
   "metadata": {},
   "outputs": [
    {
     "name": "stderr",
     "output_type": "stream",
     "text": [
      "Task exception was never retrieved\n",
      "future: <Task finished name='Task-5' coro=<main() done, defined at C:\\Users\\bruna\\AppData\\Local\\Temp\\ipykernel_22060\\3117860583.py:1> exception=OSError(10048, \"error while attempting to bind on address ('127.0.0.1', 8888): normalmente só é permitido uma utilização de cada endereço de socket (protocolo/endereço de rede/porta)\")>\n",
      "Traceback (most recent call last):\n",
      "  File \"C:\\Users\\bruna\\AppData\\Local\\Temp\\ipykernel_22060\\3117860583.py\", line 2, in main\n",
      "    server = await asyncio.start_server(\n",
      "             ^^^^^^^^^^^^^^^^^^^^^^^^^^^\n",
      "  File \"C:\\Program Files\\WindowsApps\\PythonSoftwareFoundation.Python.3.11_3.11.2288.0_x64__qbz5n2kfra8p0\\Lib\\asyncio\\streams.py\", line 84, in start_server\n",
      "    return await loop.create_server(factory, host, port, **kwds)\n",
      "           ^^^^^^^^^^^^^^^^^^^^^^^^^^^^^^^^^^^^^^^^^^^^^^^^^^^^^\n",
      "  File \"C:\\Program Files\\WindowsApps\\PythonSoftwareFoundation.Python.3.11_3.11.2288.0_x64__qbz5n2kfra8p0\\Lib\\asyncio\\base_events.py\", line 1536, in create_server\n",
      "    raise OSError(err.errno, msg) from None\n",
      "OSError: [Errno 10048] error while attempting to bind on address ('127.0.0.1', 8888): normalmente só é permitido uma utilização de cada endereço de socket (protocolo/endereço de rede/porta)\n"
     ]
    }
   ],
   "source": [
    "task = asyncio.create_task(main())"
   ]
  },
  {
   "cell_type": "markdown",
   "metadata": {},
   "source": [
    "Por fim, é criada e executada uma tarefa assíncrona para enviar mensagens ao servidor (send_message)."
   ]
  },
  {
   "cell_type": "code",
   "execution_count": 16,
   "metadata": {},
   "outputs": [
    {
     "name": "stdout",
     "output_type": "stream",
     "text": [
      "Received message from server: -%\u0014)2g\u0012%w#y\u00079w+#\n",
      "Received message from server: \u0018laU\u0015\u0007^h,>^\tY ᕩx\u0005\"\n",
      "Received message from server: N8ZqMKҦ6/w62]\n",
      "ЀZ,ؗ5\n",
      "Received message from server: oޑg\f鴸\"zpش'1\u0019YrE\u0011\n",
      "Received message from server: @;\u0002xU,\u0002`==\u0002X֜JM\":\u0001G\u0016\n",
      "Received message from server: h\u0013nKꛩ-۪\u0019 \u000e\u001f\u0017^[\n",
      "Received message from server: K?o6A%rѹ\"\u001f\u0011y\u0006#;Š]n\u0016n\n",
      "Received message from server: {E,zt9/\u0016>wEʩ\u0014YEb\n"
     ]
    }
   ],
   "source": [
    "await asyncio.create_task(send_message())"
   ]
  }
 ],
 "metadata": {
  "kernelspec": {
   "display_name": "Python 3",
   "language": "python",
   "name": "python3"
  },
  "language_info": {
   "codemirror_mode": {
    "name": "ipython",
    "version": 3
   },
   "file_extension": ".py",
   "mimetype": "text/x-python",
   "name": "python",
   "nbconvert_exporter": "python",
   "pygments_lexer": "ipython3",
   "version": "3.11.8"
  }
 },
 "nbformat": 4,
 "nbformat_minor": 2
}
