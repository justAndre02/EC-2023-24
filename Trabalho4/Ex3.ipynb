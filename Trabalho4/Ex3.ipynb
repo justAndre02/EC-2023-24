{
 "cells": [
  {
   "cell_type": "markdown",
   "metadata": {},
   "source": [
    "# Trabalho Prático 4  #\n",
    "#### André Freitas PG54707 ####\n",
    "#### Bruna Macieira PG54467 ####"
   ]
  },
  {
   "cell_type": "markdown",
   "metadata": {},
   "source": [
    "## Exercício 3"
   ]
  },
  {
   "cell_type": "markdown",
   "metadata": {},
   "source": [
    "Construir tabelas de comparações das suas implementações, para os vários níveis de segurança  NIST e em termos dos seguintes parâmetros:\n",
    "* Tempos: geração das chaves, produção da assinatura e verificação da assinatura.\n",
    "* Tamanhos: da chave pública, da chave privada e da assinatura."
   ]
  },
  {
   "cell_type": "code",
   "execution_count": 2,
   "metadata": {},
   "outputs": [
    {
     "name": "stdout",
     "output_type": "stream",
     "text": [
      "Defaulting to user installation because normal site-packages is not writeable\n",
      "Requirement already satisfied: pandas in /home/fura/.sage/local/lib/python3.10/site-packages (2.2.2)\n",
      "Requirement already satisfied: tzdata>=2022.7 in /home/fura/.sage/local/lib/python3.10/site-packages (from pandas) (2024.1)\n",
      "Requirement already satisfied: python-dateutil>=2.8.2 in /home/fura/.sage/local/lib/python3.10/site-packages (from pandas) (2.9.0.post0)\n",
      "Requirement already satisfied: pytz>=2020.1 in /usr/lib/python3/dist-packages (from pandas) (2022.1)\n",
      "Requirement already satisfied: numpy>=1.22.4 in /home/fura/.sage/local/lib/python3.10/site-packages (from pandas) (1.26.4)\n",
      "Requirement already satisfied: six>=1.5 in /usr/lib/python3/dist-packages (from python-dateutil>=2.8.2->pandas) (1.16.0)\n",
      "Note: you may need to restart the kernel to use updated packages.\n"
     ]
    }
   ],
   "source": [
    "%pip install pandas\n",
    "import pandas as pd"
   ]
  },
  {
   "cell_type": "markdown",
   "metadata": {},
   "source": [
    "#### Tabela de resultados do Exercício 1"
   ]
  },
  {
   "cell_type": "code",
   "execution_count": 3,
   "metadata": {},
   "outputs": [
    {
     "data": {
      "text/html": [
       "<div>\n",
       "<style scoped>\n",
       "    .dataframe tbody tr th:only-of-type {\n",
       "        vertical-align: middle;\n",
       "    }\n",
       "\n",
       "    .dataframe tbody tr th {\n",
       "        vertical-align: top;\n",
       "    }\n",
       "\n",
       "    .dataframe thead th {\n",
       "        text-align: right;\n",
       "    }\n",
       "</style>\n",
       "<table border=\"1\" class=\"dataframe\">\n",
       "  <thead>\n",
       "    <tr style=\"text-align: right;\">\n",
       "      <th></th>\n",
       "      <th>Level 2</th>\n",
       "      <th>Level 3</th>\n",
       "      <th>Other levels</th>\n",
       "    </tr>\n",
       "  </thead>\n",
       "  <tbody>\n",
       "    <tr>\n",
       "      <th>Tamanho Chave Pública</th>\n",
       "      <td>232 bytes</td>\n",
       "      <td>232 bytes</td>\n",
       "      <td>232 bytes</td>\n",
       "    </tr>\n",
       "    <tr>\n",
       "      <th>Tamanho Chave Privada</th>\n",
       "      <td>360 bytes</td>\n",
       "      <td>360 bytes</td>\n",
       "      <td>360 bytes</td>\n",
       "    </tr>\n",
       "    <tr>\n",
       "      <th>Tamanho de Assinatura</th>\n",
       "      <td>232 bytes</td>\n",
       "      <td>232 bytes</td>\n",
       "      <td>232 bytes</td>\n",
       "    </tr>\n",
       "    <tr>\n",
       "      <th>Tempo de Geração de Chaves</th>\n",
       "      <td>70.245 ms</td>\n",
       "      <td>80.922 ms</td>\n",
       "      <td>50.935 ms</td>\n",
       "    </tr>\n",
       "    <tr>\n",
       "      <th>Tempo de Produção da Assinatura</th>\n",
       "      <td>17.028 ms</td>\n",
       "      <td>480.200 ms</td>\n",
       "      <td>61.655 ms</td>\n",
       "    </tr>\n",
       "    <tr>\n",
       "      <th>Tempo de Verificação de Assinatura</th>\n",
       "      <td>18.289 ms</td>\n",
       "      <td>17.019 ms</td>\n",
       "      <td>15.317 ms</td>\n",
       "    </tr>\n",
       "  </tbody>\n",
       "</table>\n",
       "</div>"
      ],
      "text/plain": [
       "                                      Level 2     Level 3 Other levels\n",
       "Tamanho Chave Pública               232 bytes   232 bytes    232 bytes\n",
       "Tamanho Chave Privada               360 bytes   360 bytes    360 bytes\n",
       "Tamanho de Assinatura               232 bytes   232 bytes    232 bytes\n",
       "Tempo de Geração de Chaves          70.245 ms   80.922 ms    50.935 ms\n",
       "Tempo de Produção da Assinatura     17.028 ms  480.200 ms    61.655 ms\n",
       "Tempo de Verificação de Assinatura  18.289 ms   17.019 ms    15.317 ms"
      ]
     },
     "execution_count": 3,
     "metadata": {},
     "output_type": "execute_result"
    }
   ],
   "source": [
    "# Define the data for the table\n",
    "data = {\n",
    "    'Level 2': ['232 bytes', '360 bytes', '232 bytes', '70.245 ms', '17.028 ms', '18.289 ms'],\n",
    "    'Level 3': ['232 bytes', '360 bytes', '232 bytes', '80.922 ms', '480.200 ms', '17.019 ms'],\n",
    "    'Other levels': ['232 bytes', '360 bytes', '232 bytes', '50.935 ms', '61.655 ms', '15.317 ms']\n",
    "}\n",
    "\n",
    "# Define the rows for the table\n",
    "rows = [\n",
    "    'Tamanho Chave Pública',\n",
    "    'Tamanho Chave Privada',\n",
    "    'Tamanho de Assinatura',\n",
    "    'Tempo de Geração de Chaves',\n",
    "    'Tempo de Produção da Assinatura',\n",
    "    'Tempo de Verificação de Assinatura'\n",
    "]\n",
    "\n",
    "# Create the dataframe\n",
    "df = pd.DataFrame(data, index=rows)\n",
    "\n",
    "# Display the dataframe\n",
    "df"
   ]
  },
  {
   "cell_type": "markdown",
   "metadata": {},
   "source": [
    "#### Tabela de resultados do Exercício 2"
   ]
  },
  {
   "cell_type": "code",
   "execution_count": null,
   "metadata": {},
   "outputs": [],
   "source": [
    "# Define the data for the table\n",
    "data = {\n",
    "    'Level 2': ['-', '-', '-', '-', '-', '-'],\n",
    "    'Level 3': ['-', '-', '-', '-', '-', '-'],\n",
    "    'Other levels': ['-', '-', '-', '-', '-', '-']\n",
    "}\n",
    "\n",
    "# Define the rows for the table\n",
    "rows = [\n",
    "    'Tamanho Chave Pública',\n",
    "    'Tamanho Chave Privada',\n",
    "    'Tamanho de Assinatura',\n",
    "    'Tempo de Geração de Chaves',\n",
    "    'Tempo de Produção da Assinatura',\n",
    "    'Tempo de Verificação de Assinatura'\n",
    "]\n",
    "\n",
    "# Create the dataframe\n",
    "df = pd.DataFrame(data, index=rows)\n",
    "\n",
    "# Display the dataframe\n",
    "df"
   ]
  }
 ],
 "metadata": {
  "kernelspec": {
   "display_name": "SageMath 9.5",
   "language": "sage",
   "name": "sagemath"
  },
  "language_info": {
   "codemirror_mode": {
    "name": "ipython",
    "version": 3
   },
   "file_extension": ".py",
   "mimetype": "text/x-python",
   "name": "python",
   "nbconvert_exporter": "python",
   "pygments_lexer": "ipython3",
   "version": "3.10.12"
  }
 },
 "nbformat": 4,
 "nbformat_minor": 2
}
